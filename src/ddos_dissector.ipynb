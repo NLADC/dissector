{
 "cells": [
  {
   "cell_type": "code",
   "execution_count": 1,
   "metadata": {},
   "outputs": [],
   "source": [
    "import os\n",
    "import time\n",
    "from threading import Thread\n",
    "\n",
    "from functions.input2filetype import *\n",
    "from functions.input2dataframe import *\n",
    "from functions.dataframe2fingerprints import *\n",
    "from functions.input2filteredanon import *\n",
    "\n",
    "import warnings\n",
    "warnings.filterwarnings('ignore')"
   ]
  },
  {
   "cell_type": "code",
   "execution_count": 2,
   "metadata": {},
   "outputs": [],
   "source": [
    "def ddos_dissector(input_file, debug):\n",
    "#########################################################    \n",
    "    print('\\n1. Analysing the type of input file (e.g., pcap, pcapng, nfdump, netflow, and ipfix)...') \n",
    "    file_type = input2filetype(input_file)\n",
    "#########################################################     \n",
    "    print('\\n2. Converting input file to dataframe...') \n",
    "    df = input2dataframe(input_file, file_type) \n",
    "#########################################################        \n",
    "    print('\\n3. Analysing the dataframe for finding attack patterns...')\n",
    "    victim_ip, fingerprints = dataframe2fingerprints(df, file_type, debug)\n",
    "######################################################### \n",
    "    print('\\n4. Creating annonymized files containing only the attack vectors...\\n')\n",
    "    for fingerprint in fingerprints:\n",
    "        input2fileredanon(input_file, file_type, victim_ip, fingerprint)\n",
    "######################################################### \n",
    "    print(\"\\n\\nDONE!!!!!\")\n",
    "    #ADD A MANUAL STEP FOR OPERATORS REMOVE SUSPICIOUS ATTACK VECTORS (BETTER TRUE POSITIVE)"
   ]
  },
  {
   "cell_type": "code",
   "execution_count": 8,
   "metadata": {
    "scrolled": false
   },
   "outputs": [
    {
     "name": "stdout",
     "output_type": "stream",
     "text": [
      "\n",
      "1. Analysing the type of input file (e.g., pcap, pcapng, nfdump, netflow, and ipfix)...\n",
      "\n",
      "2. Converting input file to dataframe...\n",
      "\n",
      "3. Analysing the dataframe for finding attack patterns...\n",
      "\n",
      "DISTRIBUTION OF DESTINATION IPs:\n",
      " 145.220.192.5    2706070\n",
      "Name: _ws.col.Destination, dtype: int64\n",
      "\n",
      "DISTRIBUTION OF PROTOCOLS:\n",
      " NTP      2632804\n",
      "ICMP       70576\n",
      "UDP         2664\n",
      "TCP           25\n",
      "MPTCP          1\n",
      "Name: _ws.col.Protocol, dtype: int64\n",
      "\n",
      "DISTRIBUTION OF SOURCE PORT:\n",
      " 123.0    2632804\n",
      "Name: srcport, dtype: int64\n",
      "\n",
      "DISTRIBUTION OF DESTINATION PORTS:\n",
      " 35719.0    526090\n",
      "64208.0    363872\n",
      "56682.0    317561\n",
      "59086.0    281920\n",
      "50317.0    208285\n",
      "Name: dstport, dtype: int64\n",
      "\n",
      "ATTACK VECTOR 1: (['_ws.col.Protocol']=='NTP')&(['srcport']==123)\n",
      "  - Packets:2632804\n",
      "  - #Src_IPs:1288\n",
      "\n",
      "DISTRIBUTION OF PROTOCOLS:\n",
      " ICMP     70576\n",
      "UDP       2664\n",
      "TCP         25\n",
      "MPTCP        1\n",
      "Name: _ws.col.Protocol, dtype: int64\n",
      "\n",
      "DISTRIBUTION OF SOURCE PORT:\n",
      " 35719.0    11084\n",
      "64208.0     9188\n",
      "56682.0     9156\n",
      "59086.0     7699\n",
      "50317.0     6160\n",
      "Name: srcport, dtype: int64\n",
      "\n",
      "DISTRIBUTION OF DESTINATION PORTS:\n",
      " 123.0    69989\n",
      "Name: dstport, dtype: int64\n",
      "\n",
      "DISTRIBUTION ICMP TYPES:\n",
      " 3        68793\n",
      "11        1196\n",
      "8          568\n",
      "3,221        5\n",
      "3,196        4\n",
      "3,230        4\n",
      "3,227        3\n",
      "3,139        1\n",
      "3,46         1\n",
      "3,209        1\n",
      "Name: icmp.type, dtype: int64\n",
      "\n",
      "ATTACK VECTOR 2: (['_ws.col.Protocol']=='ICMP')&(['icmp.type']=='3')\n",
      "  - Packets:68793\n",
      "  - #Src_IPs:244\n",
      "\n",
      "DISTRIBUTION OF PROTOCOLS:\n",
      " UDP      2664\n",
      "ICMP     1783\n",
      "TCP        25\n",
      "MPTCP       1\n",
      "Name: _ws.col.Protocol, dtype: int64\n",
      "\n",
      "DISTRIBUTION OF SOURCE PORT:\n",
      " 16201.0    2664\n",
      "Name: srcport, dtype: int64\n",
      "\n",
      "DISTRIBUTION OF DESTINATION PORTS:\n",
      " 35719.0    519\n",
      "64208.0    478\n",
      "56682.0    280\n",
      "59086.0    247\n",
      "11898.0    208\n",
      "Name: dstport, dtype: int64\n",
      "\n",
      "STOP ANALYSIS!!! THERE IS ONLY ONE SOURCE IP RELATED TO THIS ATTACK VECTOR!\n",
      "\n",
      "\n",
      "INTERSECTION OF SOURCE IPS IN ATTACK VECTORS:\n",
      "         1      2\n",
      "1  1288.0   14.0\n",
      "2    14.0  244.0\n",
      "\n",
      "4. Creating annonymized files containing only the attack vectors...\n",
      "\n",
      "\n",
      "\n",
      "DONE!!!!!\n"
     ]
    }
   ],
   "source": [
    "# FOR TESTING PURPOSES\n",
    "input_file=\"input4test/ntp.pcap\"\n",
    "ddos_dissector(input_file, debug=True)"
   ]
  },
  {
   "cell_type": "code",
   "execution_count": 4,
   "metadata": {},
   "outputs": [
    {
     "name": "stderr",
     "output_type": "stream",
     "text": [
      "usage: ipykernel_launcher.py [-h] --input input_file [--debug debug]\n",
      "ipykernel_launcher.py: error: the following arguments are required: --input\n"
     ]
    },
    {
     "ename": "SystemExit",
     "evalue": "2",
     "output_type": "error",
     "traceback": [
      "An exception has occurred, use %tb to see the full traceback.\n",
      "\u001b[0;31mSystemExit\u001b[0m\u001b[0;31m:\u001b[0m 2\n"
     ]
    }
   ],
   "source": [
    "if __name__ == '__main__':\n",
    "    import argparse\n",
    "    import os.path\n",
    "    \n",
    "    parser = argparse.ArgumentParser(description='')\n",
    "    \n",
    "    parser.add_argument('--input', metavar='input_file', required=True,\n",
    "                        help='Path of a input file')\n",
    "    \n",
    "    parser.add_argument('--debug', metavar='debug', required=False, default=False,\n",
    "                        help='enable debug')\n",
    "    \n",
    "    args = parser.parse_args()\n",
    "    input_file=args.input\n",
    "    debug=args.debug\n",
    "    \n",
    "    if os.path.isfile(input_file) == True:\n",
    "        ddos_dissector(input_file, debug)\n",
    "    else:\n",
    "        print(\"We were unable to find the file. Please check the file path!!\")"
   ]
  }
 ],
 "metadata": {
  "kernelspec": {
   "display_name": "Python 3",
   "language": "python",
   "name": "python3"
  },
  "language_info": {
   "codemirror_mode": {
    "name": "ipython",
    "version": 3
   },
   "file_extension": ".py",
   "mimetype": "text/x-python",
   "name": "python",
   "nbconvert_exporter": "python",
   "pygments_lexer": "ipython3",
   "version": "3.6.5"
  }
 },
 "nbformat": 4,
 "nbformat_minor": 2
}

{
 "cells": [
  {
   "cell_type": "code",
   "execution_count": 21,
   "metadata": {
    "collapsed": true
   },
   "outputs": [],
   "source": [
    "import subprocess\n",
    "import pandas as pd\n",
    "import os.path"
   ]
  },
  {
   "cell_type": "code",
   "execution_count": 33,
   "metadata": {
    "collapsed": true
   },
   "outputs": [],
   "source": [
    "def pcap2dataframe_tshark(filename):\n",
    "    \"\"\"\n",
    "    Read PCAP and produce Pandas dataframe.\n",
    "    \"\"\"\n",
    "    \n",
    "    tshark_fields = \"-e frame.time_epoch \"+\\\n",
    "                \"-e _ws.col.Source \" +\\\n",
    "                \"-e _ws.col.Destination \"+\\\n",
    "                \"-e _ws.col.Protocol \" +\\\n",
    "                \"-e frame.len \" +\\\n",
    "                \"-e ip.ttl \" +\\\n",
    "                \"-e ip.flags.mf \" +\\\n",
    "                \"-e ip.frag_offset \" +\\\n",
    "                \"-e icmp.type \" +\\\n",
    "                \"-e tcp.srcport \" +\\\n",
    "                \"-e tcp.dstport \" +\\\n",
    "                \"-e udp.srcport \" +\\\n",
    "                \"-e udp.dstport \" +\\\n",
    "                \"-e dns.qry.name \" +\\\n",
    "                \"-e dns.qry.type \" +\\\n",
    "                \"-e http.request \" +\\\n",
    "                \"-e http.response \" +\\\n",
    "                \"-e http.user_agent \" +\\\n",
    "                \"-e tcp.flags.str \" +\\\n",
    "                \"-e quic.payload \" +\\\n",
    "                \"-e ssl.app_data \"\n",
    "    \n",
    "    with open(\"intermediate_file.csv\",\"wb\") as output_file:\n",
    "        p = subprocess.Popen([\"tshark -n -r \" + filename + \" -E separator=\\;  -E header=y -T fields \" +  tshark_fields], shell=True, stdout=output_file)\n",
    "        p.communicate()\n",
    "        p.wait()\n",
    "    \n",
    "    if os.path.exists(\"intermediate_file.csv\") == False:\n",
    "        print ('ATTENTION: THE INTERMEDIATED FILE WAS NOT CREATED!')\n",
    "\n",
    "    ###\n",
    "    df = pd.read_csv(\"intermediate_file.csv\", sep=';',  low_memory=False)\n",
    "    ###\n",
    "    if ('tcp.srcport' in df.columns) & ('udp.srcport' in df.columns) & ('tcp.dstport' in df.columns) & ('udp.dstport' in df.columns):\n",
    "        ###Combining source and destination ports from tcp and udp\n",
    "        df['srcport'] = df['tcp.srcport'].fillna(df['udp.srcport'])\n",
    "        df['dstport'] = df['tcp.dstport'].fillna(df['udp.dstport'])\n",
    "\n",
    "        df['srcport'] = df['srcport'].apply(lambda x: int(x) if str(x).replace('.','',1).isdigit() else None)\n",
    "        df['dstport'] = df['dstport'].apply(lambda x: int(x) if str(x).replace('.','',1).isdigit() else None)\n",
    "\n",
    "    ###Removing columns: 'tcp.srcport', 'udp.srcport','tcp.dstport', 'udp.dstport'\n",
    "    df.drop(['tcp.srcport', 'udp.srcport','tcp.dstport', 'udp.dstport' ], axis=1, inplace=True)\n",
    "\n",
    "    ###Dropping all empty columns (for making the analysis more efficient! less memory.)\n",
    "    df.dropna(axis=1, how='all', inplace=True)\n",
    "\n",
    "    if ('icmp.type' in df.columns):\n",
    "        df['icmp.type']=df['icmp.type'].astype(str) \n",
    "\n",
    "    if ('ip.frag_offset' in df.columns):\n",
    "        df['ip.frag_offset']=df['ip.frag_offset'].astype(str) \n",
    "\n",
    "    if ('ip.flags.mf' in df.columns):\n",
    "        df['ip.flags.mf']=df['ip.flags.mf'].astype(str) \n",
    "\n",
    "    if ('ip.flags.mf' in df.columns) & ('ip.frag_offset' in df.columns):\n",
    "        ###Analysing fragmented packets\n",
    "        df['fragmentation'] = (df['ip.flags.mf']== '1') | (df['ip.frag_offset']!='0')\n",
    "        df.drop(['ip.flags.mf','ip.frag_offset' ], axis=1, inplace=True)\n",
    "\n",
    "    df['ip.ttl'] = df['ip.ttl'].apply(lambda x: int(x) if str(x).isdigit() else None)\n",
    "    \n",
    "    p = subprocess.Popen([\"rm intermediate_file.csv\"], shell=True, stdout=subprocess.PIPE)\n",
    "    p.communicate()\n",
    "    p.wait()\n",
    "    \n",
    "    return df"
   ]
  }
 ],
 "metadata": {
  "kernelspec": {
   "display_name": "Python 2",
   "language": "python",
   "name": "python2"
  },
  "language_info": {
   "codemirror_mode": {
    "name": "ipython",
    "version": 2
   },
   "file_extension": ".py",
   "mimetype": "text/x-python",
   "name": "python",
   "nbconvert_exporter": "python",
   "pygments_lexer": "ipython2",
   "version": "2.7.14"
  },
  "widgets": {
   "state": {},
   "version": "1.1.2"
  }
 },
 "nbformat": 4,
 "nbformat_minor": 1
}

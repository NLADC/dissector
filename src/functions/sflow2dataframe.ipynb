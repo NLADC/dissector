{
 "cells": [
  {
   "cell_type": "code",
   "execution_count": 2,
   "metadata": {
    "collapsed": true
   },
   "outputs": [],
   "source": [
    "def sflow2dataframe(filename):\n",
    "    \"\"\"\n",
    "    Read SFLOW, converts to PCAP, and produce Pandas dataframe\n",
    "    \n",
    "    \"\"\"\n",
    "    print 'ATTENTION, this function is experimental and was not well tested!'\n",
    "    \n",
    "    #'1. Converting pcapng to pcap.'\n",
    "    !sflowtool -t | tcpdump -r - -w temp.pcap\n",
    "    \n",
    "    #'2. Converting pcap to pandas dataframe.'\n",
    "    df = pcap2dataframe ('temp.pcap')\n",
    "    \n",
    "    return df"
   ]
  }
 ],
 "metadata": {
  "kernelspec": {
   "display_name": "Python 2",
   "language": "python",
   "name": "python2"
  },
  "language_info": {
   "codemirror_mode": {
    "name": "ipython",
    "version": 2
   },
   "file_extension": ".py",
   "mimetype": "text/x-python",
   "name": "python",
   "nbconvert_exporter": "python",
   "pygments_lexer": "ipython2",
   "version": "2.7.14"
  }
 },
 "nbformat": 4,
 "nbformat_minor": 2
}

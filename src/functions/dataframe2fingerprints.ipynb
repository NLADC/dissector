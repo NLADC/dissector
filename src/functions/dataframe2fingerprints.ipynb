{
 "cells": [
  {
   "cell_type": "code",
   "execution_count": null,
   "metadata": {
    "collapsed": true
   },
   "outputs": [],
   "source": [
    "from functions.nfdump_filter_anon import *\n",
    "from functions.analyse_df_pcap_tshark import *"
   ]
  },
  {
   "cell_type": "code",
   "execution_count": null,
   "metadata": {
    "collapsed": true
   },
   "outputs": [],
   "source": [
    "def dataframe2fingerprints(df, file_type, debug):\n",
    "    #FOR NETFLOW, IPFIX\n",
    "    if file_type == \"nfdump\":\n",
    "        return analyse_df_nfdump(df, debug)\n",
    "              \n",
    "    #FOR PCAP or PCAPNG\n",
    "    elif file_type == \"pcap\" or file_type == \"pcapng\":\n",
    "        return analyse_df_pcap_tshark(df, debug)        \n",
    "\n",
    "    else:\n",
    "        print(\"Problem in dataframe2fingerprints\")"
   ]
  }
 ],
 "metadata": {
  "kernelspec": {
   "display_name": "Python 3",
   "language": "python",
   "name": "python3"
  },
  "language_info": {
   "codemirror_mode": {
    "name": "ipython",
    "version": 3
   },
   "file_extension": ".py",
   "mimetype": "text/x-python",
   "name": "python",
   "nbconvert_exporter": "python",
   "pygments_lexer": "ipython3",
   "version": "3.6.2"
  }
 },
 "nbformat": 4,
 "nbformat_minor": 2
}

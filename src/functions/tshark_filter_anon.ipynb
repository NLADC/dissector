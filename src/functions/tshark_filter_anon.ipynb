{
 "cells": [
  {
   "cell_type": "code",
   "execution_count": 15,
   "metadata": {
    "collapsed": true
   },
   "outputs": [],
   "source": [
    "import subprocess\n",
    "import random\n",
    "import os\n",
    "import os.path\n",
    "import datetime\n",
    "import time\n",
    "import hashlib\n",
    "import platform\n",
    "import numpy as np"
   ]
  },
  {
   "cell_type": "code",
   "execution_count": 19,
   "metadata": {
    "collapsed": true
   },
   "outputs": [],
   "source": [
    "def tshark_filter_anon(input_file, fingerprint, dst_ip, file_type):\n",
    "\n",
    "    \n",
    "    if len(fingerprint['src_ports']) == 1 and fingerprint['src_ports'][0] != np.nan:\n",
    "        filter_out = \"\\\"ip.dst == \" + dst_ip + \" and \" + str(fingerprint['protocol']).lower() + \" and (tcp.srcport == \" + str(int(fingerprint[\"src_ports\"][0]))+\" or udp.srcport == \"+ str(int(fingerprint[\"src_ports\"][0]))+\")\\\"\"\n",
    "        \n",
    "    elif len(fingerprint['dst_ports']) == 1 and fingerprint['dst_ports'][0] != np.nan:\n",
    "        filter_out = \"\\\"ip.dst == \" + dst_ip + \" and \" + str(fingerprint['protocol']).lower() + \" and (tcp.dstport == \" + str(int(fingerprint[\"dst_ports\"][0]))+\" or udp.dstport == \"+ str(int(fingerprint[\"dst_ports\"][0]))+\")\\\"\"\n",
    "    \n",
    "    else:\n",
    "        filter_out = \"\\\"ip.dst == \" + dst_ip + \" and \" + str(fingerprint['protocol']).lower()+\"\\\"\"\n",
    "    \n",
    "    filename=str(hashlib.md5(str(fingerprint['start_timestamp']).encode()).hexdigest())+\".\"+str(file_type)\n",
    "    \n",
    "    p = subprocess.Popen([\"tshark -r \" + input_file + \" -w output/temp.pcapng -Y \"+ filter_out], shell=True, stdout=subprocess.PIPE)\n",
    "    p.communicate()\n",
    "    p.wait()\n",
    "\n",
    "    p = subprocess.Popen([\"editcap -F libpcap -T ether output/temp.pcapng output/temp.pcap\"], shell=True, stdout=subprocess.PIPE)\n",
    "    p.communicate()\n",
    "    p.wait() \n",
    "    \n",
    "    if os.path.exists(\"output/temp.pcap\"):\n",
    "        if platform.system() == 'Darwin':\n",
    "            command = \"/usr/local/Cellar/bittwist/2.0/bin/bittwiste -I output/temp.pcap -O output/\" + filename + \" -T ip -d \" + dst_ip + \",127.0.0.1\"\n",
    "            p = subprocess.Popen([command], shell=True, stdout=subprocess.PIPE)\n",
    "            p.communicate()\n",
    "            p.wait()\n",
    "        \n",
    "        else:\n",
    "            p = subprocess.Popen([\"bittwiste -I \" + \"output/temp.pcap -O output/\" + filename + \" -T ip -d \" + dst_ip + \",127.0.0.1\"], shell=True, stdout=subprocess.PIPE)\n",
    "            p.communicate()\n",
    "            p.wait()\n",
    "                          \n",
    "    if os.path.exists(\"output/\"+filename):\n",
    "        p = subprocess.Popen([\"rm -rf output/temp.pcap output/temp.pcapng\"], shell=True, stdout=subprocess.PIPE)\n",
    "        p.communicate()\n",
    "        p.wait()\n",
    "#     #remove temporary file after anonymization took place\n",
    "#     \n",
    "    "
   ]
  }
 ],
 "metadata": {
  "kernelspec": {
   "display_name": "Python 2",
   "language": "python",
   "name": "python2"
  },
  "language_info": {
   "codemirror_mode": {
    "name": "ipython",
    "version": 2
   },
   "file_extension": ".py",
   "mimetype": "text/x-python",
   "name": "python",
   "nbconvert_exporter": "python",
   "pygments_lexer": "ipython2",
   "version": "2.7.14"
  }
 },
 "nbformat": 4,
 "nbformat_minor": 2
}

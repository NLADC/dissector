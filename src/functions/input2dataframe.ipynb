{
 "cells": [
  {
   "cell_type": "code",
   "execution_count": 1,
   "metadata": {
    "collapsed": true
   },
   "outputs": [],
   "source": [
    "from functions.pcap2dataframe_tshark import *\n",
    "from functions.netflow2dataframe import *"
   ]
  },
  {
   "cell_type": "code",
   "execution_count": 24,
   "metadata": {
    "collapsed": true
   },
   "outputs": [],
   "source": [
    "def input2dataframe (input_file, file_type):\n",
    "    if file_type == \"pcap\" or file_type == \"pcapng\": \n",
    "        return pcap2dataframe_tshark(input_file)\n",
    "\n",
    "    elif file_type == \"nfdump\": \n",
    "        return netflow2dataframe(input_file)\n",
    "    \n",
    "    else:\n",
    "        print(\"Problem in the input2dataframe\") "
   ]
  }
 ],
 "metadata": {
  "kernelspec": {
   "display_name": "Python 3",
   "language": "python",
   "name": "python3"
  },
  "language_info": {
   "codemirror_mode": {
    "name": "ipython",
    "version": 3
   },
   "file_extension": ".py",
   "mimetype": "text/x-python",
   "name": "python",
   "nbconvert_exporter": "python",
   "pygments_lexer": "ipython3",
   "version": "3.6.2"
  }
 },
 "nbformat": 4,
 "nbformat_minor": 2
}

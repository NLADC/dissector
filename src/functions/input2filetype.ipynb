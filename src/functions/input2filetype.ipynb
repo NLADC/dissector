{
 "cells": [
  {
   "cell_type": "code",
   "execution_count": null,
   "metadata": {
    "collapsed": true
   },
   "outputs": [],
   "source": [
    "import subprocess"
   ]
  },
  {
   "cell_type": "code",
   "execution_count": 1,
   "metadata": {
    "collapsed": true
   },
   "outputs": [],
   "source": [
    "def input2filetype (input_file):\n",
    "    \n",
    "    file_info, error = subprocess.Popen([\"file\",input_file], stdout=subprocess.PIPE).communicate()\n",
    "    \n",
    "    if file_info.decode(\"utf-8\").split()[1] == 'tcpdump':\n",
    "        return \"pcap\"\n",
    "\n",
    "    if file_info.decode(\"utf-8\").split()[1] == 'pcap-ng':\n",
    "        return \"pcapng\"\n",
    "\n",
    "    elif file_info.decode(\"utf-8\").split()[1] == 'data' and ('nfdump' in file_info or 'nfcapd' in file_info):\n",
    "        return \"nfdump\"\n",
    "    \n",
    "    else:\n",
    "        print(\"SORRY! We neither developed the parser for this type of file (YET) OR we recognized the format of your file!\")"
   ]
  }
 ],
 "metadata": {
  "kernelspec": {
   "display_name": "Python 3",
   "language": "python",
   "name": "python3"
  },
  "language_info": {
   "codemirror_mode": {
    "name": "ipython",
    "version": 3
   },
   "file_extension": ".py",
   "mimetype": "text/x-python",
   "name": "python",
   "nbconvert_exporter": "python",
   "pygments_lexer": "ipython3",
   "version": "3.6.2"
  }
 },
 "nbformat": 4,
 "nbformat_minor": 2
}

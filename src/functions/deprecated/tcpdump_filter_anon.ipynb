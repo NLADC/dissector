{
 "cells": [
  {
   "cell_type": "code",
   "execution_count": null,
   "metadata": {
    "collapsed": true
   },
   "outputs": [],
   "source": [
    "import subprocess\n",
    "import random\n",
    "import os\n",
    "import datetime\n",
    "import time\n",
    "import hashlib"
   ]
  },
  {
   "cell_type": "code",
   "execution_count": null,
   "metadata": {
    "collapsed": true
   },
   "outputs": [],
   "source": [
    "def tcpdump_filter_anon(input_file, fingerprint, dst_ip, file_type):\n",
    "    # Filtering based on host/proto and ports\n",
    "    \n",
    "    print(fingerprint)\n",
    "    \n",
    "    print('\\n')\n",
    "    print(len(fingerprint['src_ports']))\n",
    "    print(len(fingerprint['dst_ports']))\n",
    "    \n",
    "    if len(fingerprint['src_ports']) == 1:\n",
    "        filter_out = \"dst host \" + dst_ip + \" and proto \" + str(fingerprint['protocol']) + \" and src port \" + str(fingerprint[\"src_ports\"][0])\n",
    "        \n",
    "    elif len(fingerprint['dst_ports']) == 1:\n",
    "        filter_out = \"dst host \" + dst_ip + \" and proto \" + str(fingerprint['protocol']) + \" and dst port \" + str(fingerprint[\"dst_ports\"][0])\n",
    "    \n",
    "    else:\n",
    "        filter_out = \"dst host \" + dst_ip + \" and proto \" + str(fingerprint['protocol'])\n",
    "    \n",
    "    \n",
    "    filename=str(hashlib.md5(str(fingerprint['start_time']).encode()).hexdigest())+\".\"+str(file_type)\n",
    "    \n",
    "    p = subprocess.Popen([\"tcpdump -r \" + input_file + \" -w output/\"+filename+\" \"+ filter_out], shell=True, stdout=subprocess.PIPE)\n",
    "    p.communicate()\n",
    "    p.wait()\n",
    "    \n",
    "#     #running bittwiste for anonymizing destination ip\n",
    "#     p = subprocess.Popen([\"bittwiste -I \" + \"output/temp \" + \" -O output/\" + filename + \" -T ip -d \" + dst_ip + \",1.1.1.1\"], shell=True, stdout=subprocess.PIPE)\n",
    "#     p.communicate()\n",
    "#     p.wait()\n",
    "    \n",
    "#     #remove temporary file after anonymization took place\n",
    "#     p = subprocess.Popen([\"rm -rf output/temp\"], shell=True, stdout=subprocess.PIPE)\n",
    "#     p.communicate()\n",
    "#     p.wait()\n",
    "    "
   ]
  },
  {
   "cell_type": "code",
   "execution_count": null,
   "metadata": {
    "collapsed": true
   },
   "outputs": [],
   "source": []
  }
 ],
 "metadata": {
  "kernelspec": {
   "display_name": "Python 2",
   "language": "python",
   "name": "python2"
  },
  "language_info": {
   "codemirror_mode": {
    "name": "ipython",
    "version": 2
   },
   "file_extension": ".py",
   "mimetype": "text/x-python",
   "name": "python",
   "nbconvert_exporter": "python",
   "pygments_lexer": "ipython2",
   "version": "2.7.14"
  }
 },
 "nbformat": 4,
 "nbformat_minor": 2
}

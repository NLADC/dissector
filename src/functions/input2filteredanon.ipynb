{
 "cells": [
  {
   "cell_type": "code",
   "execution_count": 1,
   "metadata": {
    "collapsed": true
   },
   "outputs": [],
   "source": [
    "from functions.nfdump_filter_anon import *\n",
    "from functions.tshark_filter_anon import *"
   ]
  },
  {
   "cell_type": "code",
   "execution_count": 3,
   "metadata": {
    "collapsed": true
   },
   "outputs": [],
   "source": [
    "def input2fileredanon(input_file, file_type, victim_ip, fingerprint):\n",
    "    if file_type == \"nfdump\":\n",
    "        nfdump_filter_anon(input_file,  fingerprint, victim_ip)\n",
    "    elif file_type == \"pcap\" or file_type == \"pcapng\":\n",
    "        tshark_filter_anon(input_file, fingerprint, victim_ip,file_type)\n",
    "    else:\n",
    "        print (\"Problem at input2filteredanon!\")"
   ]
  }
 ],
 "metadata": {
  "kernelspec": {
   "display_name": "Python 3",
   "language": "python",
   "name": "python3"
  },
  "language_info": {
   "codemirror_mode": {
    "name": "ipython",
    "version": 3
   },
   "file_extension": ".py",
   "mimetype": "text/x-python",
   "name": "python",
   "nbconvert_exporter": "python",
   "pygments_lexer": "ipython3",
   "version": "3.6.2"
  }
 },
 "nbformat": 4,
 "nbformat_minor": 2
}

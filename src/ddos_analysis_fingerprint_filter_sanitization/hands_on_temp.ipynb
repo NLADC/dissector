{
 "cells": [
  {
   "cell_type": "code",
   "execution_count": 1,
   "metadata": {},
   "outputs": [],
   "source": [
    "import os\n",
    "from functions.input2dataframe import *\n",
    "from functions.analyse_df_pcap import *\n",
    "from functions.analyse_df_nfdump import *\n",
    "from functions.nfdump_filter import *\n",
    "from functions.tcpdump_filter import *\n",
    "\n",
    "# global base_dir\n",
    "# base_dir = \"/home/uyatashi/Desktop/ddosdb/src/ddos_analysis_fingerprint_filter_sanitization/functions/\""
   ]
  },
  {
   "cell_type": "code",
   "execution_count": 2,
   "metadata": {},
   "outputs": [],
   "source": [
    "#input_file = \"input_file_for_test/prod-flow-anon-008.nfdump\n",
    "input_dir = \"input/\""
   ]
  },
  {
   "cell_type": "code",
   "execution_count": 3,
   "metadata": {},
   "outputs": [],
   "source": [
    "def main(input_file, debug=False):\n",
    "    \n",
    "    # It exists\n",
    "    #     if os.path.isfile(input_file) == False:\n",
    "    #         print 'We were unable to find the file. Please check the file path!!'\n",
    "    #         return 0\n",
    "    \n",
    "    df_plus = input2dataframe(input_file)\n",
    "    if 'tuple' in str(type(df_plus)):\n",
    "        #tuple means it is nfdump (for now)\n",
    "        all_patterns = analyse_df_nfdump(df_plus, debug)\n",
    "        \n",
    "        vector_ids = []\n",
    "        for pattern in all_patterns[\"patterns\"]:\n",
    "            vector_ids.append(nfdump_filter(input_file, pattern))\n",
    "        #nfdump_filter(input_file, all_patterns[\"patterns\"][0])\n",
    "        \n",
    "    else:\n",
    "        df = df_plus\n",
    "        all_patterns = analyse_df_pcap(df, debug)\n",
    "        \n",
    "        vector_ids = []\n",
    "        for pattern in all_patterns[\"patterns\"]:\n",
    "            vector_ids.append(tcpdump_filter(input_file, pattern))\n",
    "    \n",
    "    #allpatterns = analyse(df, debug=False, ttl_variation_threshold = 4)\n",
    "\n",
    "    #print all_patterns\n",
    "    #return 1\n",
    "    return (all_patterns, vector_ids)"
   ]
  },
  {
   "cell_type": "code",
   "execution_count": null,
   "metadata": {},
   "outputs": [
    {
     "name": "stderr",
     "output_type": "stream",
     "text": [
      "/usr/local/lib/python2.7/dist-packages/pandas/core/ops.py:816: FutureWarning: elementwise comparison failed; returning scalar instead, but in the future will perform elementwise comparison\n",
      "  result = getattr(x, name)(y)\n"
     ]
    },
    {
     "name": "stdout",
     "output_type": "stream",
     "text": [
      "\n",
      "SUMMARY:\n",
      "- 53.73% of the packets targeting 172.31.28.132\n",
      "   - Involved 27 source IP addresses\n",
      "   - Using IP protocol UDP\n",
      "   - From a set of (14) ports, such as port 32817[43.64%], SSDP service port[28.73%], and port 2051[9.75%]\n",
      "   - Against HTTP service port[100.0%]\n",
      "   -    - Reflection & Amplification   - \n",
      " Done!\n",
      "\n",
      "SUMMARY:\n",
      "- 53.73% of the packets targeting 172.31.28.132\n",
      "   - Involved 27 source IP addresses\n",
      "   - Using IP protocol UDP\n",
      "   - From a set of (14) ports, such as port 32817[43.64%], SSDP service port[28.73%], and port 2051[9.75%]\n",
      "   - Against HTTP service port[100.0%]\n",
      "   -    -    - \n",
      " Done!\n"
     ]
    },
    {
     "name": "stderr",
     "output_type": "stream",
     "text": [
      "/home/uyatashi/.local/lib/python2.7/site-packages/ipykernel_launcher.py:3: DtypeWarning: Columns (2,5) have mixed types. Specify dtype option on import or set low_memory=False.\n",
      "  This is separate from the ipykernel package so we can avoid doing imports until\n"
     ]
    },
    {
     "name": "stdout",
     "output_type": "stream",
     "text": [
      "\n",
      "SUMMARY:\n",
      "- 36.55% of the packets targeting 150.61.225.0\n",
      "   - Involved 167068 source IP addresses\n",
      "   - Using IP protocol UDP\n",
      "   - From a set of (60367) ports, such as port 55092[0.01%], port 36434[0.01%], port 60794[0.01%]; and port 4596[0.01%]\n",
      "   - Against SSH service port[100.0%]\n",
      "   -    -    - \n",
      "\n",
      "SUMMARY:\n",
      "- 23.77% of the packets targeting 150.61.225.0\n",
      "   - Involved 38670 source IP addresses\n",
      "   - Using IP protocol UDP\n",
      "   - From NTP service port\n",
      "   - Against a set of (114) ports, such as port 31765[3.89%]; port 10929[3.89%], and port 48960[3.86%]\n",
      "   -    - Reflection & Amplification   - \n",
      "\n",
      "SUMMARY:\n",
      "- 1.03% of the packets targeting 150.61.225.0\n",
      "   - Involved 4691 source IP addresses\n",
      "   - Using IP protocol UDP\n",
      "   - From a set of (3076) ports, such as port 56456[0.13%], port 52262[0.13%], port 9821[0.11%]; and port 21674[0.11%]\n",
      "   - Against HTTP service port[100.0%]\n",
      "   -    - Reflection & Amplification   - \n",
      " Done!\n"
     ]
    }
   ],
   "source": [
    "input_files = [f for f in os.listdir(input_dir) if os.path.isfile(os.path.join(input_dir, f))]\n",
    "for file in input_files:\n",
    "    main(input_dir + file)"
   ]
  }
 ],
 "metadata": {
  "kernelspec": {
   "display_name": "Python 2",
   "language": "python",
   "name": "python2"
  },
  "language_info": {
   "codemirror_mode": {
    "name": "ipython",
    "version": 2
   },
   "file_extension": ".py",
   "mimetype": "text/x-python",
   "name": "python",
   "nbconvert_exporter": "python",
   "pygments_lexer": "ipython2",
   "version": "2.7.12"
  }
 },
 "nbformat": 4,
 "nbformat_minor": 2
}

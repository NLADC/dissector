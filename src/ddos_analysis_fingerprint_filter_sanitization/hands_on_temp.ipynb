{
 "cells": [
  {
   "cell_type": "code",
   "execution_count": 1,
   "metadata": {},
   "outputs": [],
   "source": [
    "import os\n",
    "from functions.input2dataframe import *\n",
    "from functions.analyse_df_pcap import *\n",
    "from functions.analyse_df_nfdump import *\n",
    "from functions.nfdump_filter import *\n",
    "from functions.tcpdump_filter import *\n",
    "\n",
    "# global base_dir\n",
    "# base_dir = \"/home/uyatashi/Desktop/ddosdb/src/ddos_analysis_fingerprint_filter_sanitization/functions/\""
   ]
  },
  {
   "cell_type": "code",
   "execution_count": 2,
   "metadata": {},
   "outputs": [],
   "source": [
    "#input_file = \"input_file_for_test/prod-flow-anon-008.nfdump\n",
    "input_dir = \"input/\""
   ]
  },
  {
   "cell_type": "code",
   "execution_count": 3,
   "metadata": {},
   "outputs": [],
   "source": [
    "def main(input_file, debug=False):\n",
    "    \n",
    "    # It exists\n",
    "    #     if os.path.isfile(input_file) == False:\n",
    "    #         print 'We were unable to find the file. Please check the file path!!'\n",
    "    #         return 0\n",
    "    \n",
    "    df_plus = input2dataframe(input_file)\n",
    "    if 'tuple' in str(type(df_plus)):\n",
    "        #tuple means it is nfdump (for now)\n",
    "        all_patterns = analyse_df_nfdump(df_plus, debug)\n",
    "        \n",
    "        vector_ids = []\n",
    "        for pattern in all_patterns[\"patterns\"]:\n",
    "            vector_ids.append(nfdump_filter(input_file, pattern))\n",
    "        #nfdump_filter(input_file, all_patterns[\"patterns\"][0])\n",
    "        \n",
    "    else:\n",
    "        df = df_plus\n",
    "        all_patterns = analyse_df_pcap(df, debug)\n",
    "        \n",
    "        vector_ids = []\n",
    "        for pattern in all_patterns[\"patterns\"]:\n",
    "            vector_ids.append(tcpdump_filter(input_file, pattern))\n",
    "    \n",
    "    #allpatterns = analyse(df, debug=False, ttl_variation_threshold = 4)\n",
    "\n",
    "    #print all_patterns\n",
    "    #return 1\n",
    "    return (all_patterns, vector_ids)"
   ]
  },
  {
   "cell_type": "code",
   "execution_count": 4,
   "metadata": {},
   "outputs": [
    {
     "name": "stdout",
     "output_type": "stream",
     "text": [
      "\n",
      "SUMMARY:\n",
      "- 53.73% of the packets targeting 172.31.28.132\n",
      "   - Involved 27 source IP addresses\n",
      "   - Using IP protocol UDP\n",
      "   - From a set of (14) ports, such as port 32817[43.64%], SSDP service port[28.73%], and port 2051[9.75%]\n",
      "   - Against HTTP service port[100.0%]\n",
      "   -    -    - \n",
      "<type 'exceptions.Exception'>\n",
      "Pandas can't read the csv flow file. Exiting.\n"
     ]
    },
    {
     "ename": "TypeError",
     "evalue": "'NoneType' object has no attribute '__getitem__'",
     "output_type": "error",
     "traceback": [
      "\u001b[0;31m---------------------------------------------------------------------------\u001b[0m",
      "\u001b[0;31mTypeError\u001b[0m                                 Traceback (most recent call last)",
      "\u001b[0;32m<ipython-input-4-6574710057dc>\u001b[0m in \u001b[0;36m<module>\u001b[0;34m()\u001b[0m\n\u001b[1;32m      1\u001b[0m \u001b[0minput_files\u001b[0m \u001b[0;34m=\u001b[0m \u001b[0;34m[\u001b[0m\u001b[0mf\u001b[0m \u001b[0;32mfor\u001b[0m \u001b[0mf\u001b[0m \u001b[0;32min\u001b[0m \u001b[0mos\u001b[0m\u001b[0;34m.\u001b[0m\u001b[0mlistdir\u001b[0m\u001b[0;34m(\u001b[0m\u001b[0minput_dir\u001b[0m\u001b[0;34m)\u001b[0m \u001b[0;32mif\u001b[0m \u001b[0mos\u001b[0m\u001b[0;34m.\u001b[0m\u001b[0mpath\u001b[0m\u001b[0;34m.\u001b[0m\u001b[0misfile\u001b[0m\u001b[0;34m(\u001b[0m\u001b[0mos\u001b[0m\u001b[0;34m.\u001b[0m\u001b[0mpath\u001b[0m\u001b[0;34m.\u001b[0m\u001b[0mjoin\u001b[0m\u001b[0;34m(\u001b[0m\u001b[0minput_dir\u001b[0m\u001b[0;34m,\u001b[0m \u001b[0mf\u001b[0m\u001b[0;34m)\u001b[0m\u001b[0;34m)\u001b[0m\u001b[0;34m]\u001b[0m\u001b[0;34m\u001b[0m\u001b[0m\n\u001b[1;32m      2\u001b[0m \u001b[0;32mfor\u001b[0m \u001b[0mfile\u001b[0m \u001b[0;32min\u001b[0m \u001b[0minput_files\u001b[0m\u001b[0;34m:\u001b[0m\u001b[0;34m\u001b[0m\u001b[0m\n\u001b[0;32m----> 3\u001b[0;31m     \u001b[0mmain\u001b[0m\u001b[0;34m(\u001b[0m\u001b[0minput_dir\u001b[0m \u001b[0;34m+\u001b[0m \u001b[0mfile\u001b[0m\u001b[0;34m)\u001b[0m\u001b[0;34m\u001b[0m\u001b[0m\n\u001b[0m",
      "\u001b[0;32m<ipython-input-3-1b69ef06ccf4>\u001b[0m in \u001b[0;36mmain\u001b[0;34m(input_file, debug)\u001b[0m\n\u001b[1;32m     18\u001b[0m     \u001b[0;32melse\u001b[0m\u001b[0;34m:\u001b[0m\u001b[0;34m\u001b[0m\u001b[0m\n\u001b[1;32m     19\u001b[0m         \u001b[0mdf\u001b[0m \u001b[0;34m=\u001b[0m \u001b[0mdf_plus\u001b[0m\u001b[0;34m\u001b[0m\u001b[0m\n\u001b[0;32m---> 20\u001b[0;31m         \u001b[0mall_patterns\u001b[0m \u001b[0;34m=\u001b[0m \u001b[0manalyse_df_pcap\u001b[0m\u001b[0;34m(\u001b[0m\u001b[0mdf\u001b[0m\u001b[0;34m,\u001b[0m \u001b[0mdebug\u001b[0m\u001b[0;34m)\u001b[0m\u001b[0;34m\u001b[0m\u001b[0m\n\u001b[0m\u001b[1;32m     21\u001b[0m \u001b[0;34m\u001b[0m\u001b[0m\n\u001b[1;32m     22\u001b[0m         \u001b[0mvector_ids\u001b[0m \u001b[0;34m=\u001b[0m \u001b[0;34m[\u001b[0m\u001b[0;34m]\u001b[0m\u001b[0;34m\u001b[0m\u001b[0m\n",
      "\u001b[0;32m/home/erev0s/ddosdb/src/ddos_analysis_fingerprint_filter_sanitization/functions/analyse_df_pcap.py\u001b[0m in \u001b[0;36manalyse_df_pcap\u001b[0;34m(df, debug, ttl_variation_threshold)\u001b[0m\n\u001b[1;32m     47\u001b[0m     \u001b[0;32mif\u001b[0m \u001b[0mdebug\u001b[0m\u001b[0;34m:\u001b[0m \u001b[0;32mprint\u001b[0m \u001b[0;34m\"\\n###################################\\nIDENTIFYING MAIN CHARACTERISTICS:\\n###################################\"\u001b[0m\u001b[0;34m\u001b[0m\u001b[0m\n\u001b[1;32m     48\u001b[0m \u001b[0;34m\u001b[0m\u001b[0m\n\u001b[0;32m---> 49\u001b[0;31m     \u001b[0mtop_dst_ip\u001b[0m \u001b[0;34m=\u001b[0m \u001b[0mdf\u001b[0m\u001b[0;34m[\u001b[0m\u001b[0;34m'dst_ip'\u001b[0m\u001b[0;34m]\u001b[0m\u001b[0;34m.\u001b[0m\u001b[0mvalue_counts\u001b[0m\u001b[0;34m(\u001b[0m\u001b[0;34m)\u001b[0m\u001b[0;34m.\u001b[0m\u001b[0mindex\u001b[0m\u001b[0;34m[\u001b[0m\u001b[0;36m0\u001b[0m\u001b[0;34m]\u001b[0m\u001b[0;34m\u001b[0m\u001b[0m\n\u001b[0m\u001b[1;32m     50\u001b[0m \u001b[0;34m\u001b[0m\u001b[0m\n\u001b[1;32m     51\u001b[0m     \u001b[0;32mif\u001b[0m \u001b[0mdebug\u001b[0m\u001b[0;34m:\u001b[0m \u001b[0;32mprint\u001b[0m \u001b[0;34m\"Target (destination) IP: \"\u001b[0m \u001b[0;34m+\u001b[0m \u001b[0mtop_dst_ip\u001b[0m\u001b[0;34m\u001b[0m\u001b[0m\n",
      "\u001b[0;31mTypeError\u001b[0m: 'NoneType' object has no attribute '__getitem__'"
     ]
    }
   ],
   "source": [
    "input_files = [f for f in os.listdir(input_dir) if os.path.isfile(os.path.join(input_dir, f))]\n",
    "for file in input_files:\n",
    "    main(input_dir + file)"
   ]
  },
  {
   "cell_type": "code",
   "execution_count": null,
   "metadata": {},
   "outputs": [],
   "source": []
  }
 ],
 "metadata": {
  "kernelspec": {
   "display_name": "Python 2",
   "language": "python",
   "name": "python2"
  },
  "language_info": {
   "codemirror_mode": {
    "name": "ipython",
    "version": 2
   },
   "file_extension": ".py",
   "mimetype": "text/x-python",
   "name": "python",
   "nbconvert_exporter": "python",
   "pygments_lexer": "ipython2",
   "version": "2.7.14"
  }
 },
 "nbformat": 4,
 "nbformat_minor": 2
}

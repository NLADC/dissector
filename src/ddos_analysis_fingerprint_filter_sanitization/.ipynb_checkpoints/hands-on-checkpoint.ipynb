{
 "cells": [
  {
   "cell_type": "code",
   "execution_count": 111,
   "metadata": {
    "collapsed": true
   },
   "outputs": [],
   "source": [
    "input_file='24-AnonymousDoS-10s-3.pcap'"
   ]
  },
  {
   "cell_type": "markdown",
   "metadata": {},
   "source": [
    "## Libraries for data analysis"
   ]
  },
  {
   "cell_type": "code",
   "execution_count": 1,
   "metadata": {
    "collapsed": true
   },
   "outputs": [],
   "source": [
    "import pandas as pd\n",
    "import numpy as np"
   ]
  },
  {
   "cell_type": "markdown",
   "metadata": {},
   "source": [
    "## Functions "
   ]
  },
  {
   "cell_type": "markdown",
   "metadata": {},
   "source": [
    "### F1. Protocol number to protocol name"
   ]
  },
  {
   "cell_type": "code",
   "execution_count": 8,
   "metadata": {
    "collapsed": true
   },
   "outputs": [],
   "source": [
    "%run functions/protocolnumber2name.ipynb"
   ]
  },
  {
   "cell_type": "markdown",
   "metadata": {},
   "source": [
    "usage:"
   ]
  },
  {
   "cell_type": "code",
   "execution_count": 9,
   "metadata": {},
   "outputs": [
    {
     "data": {
      "text/plain": [
       "'TCP'"
      ]
     },
     "execution_count": 9,
     "metadata": {},
     "output_type": "execute_result"
    }
   ],
   "source": [
    "protocolnumber2name(6)"
   ]
  },
  {
   "cell_type": "markdown",
   "metadata": {},
   "source": [
    "### F2. Port number to port name "
   ]
  },
  {
   "cell_type": "code",
   "execution_count": 10,
   "metadata": {
    "collapsed": true
   },
   "outputs": [],
   "source": [
    "%run functions/portnumber2name.ipynb"
   ]
  },
  {
   "cell_type": "markdown",
   "metadata": {},
   "source": [
    "usage:"
   ]
  },
  {
   "cell_type": "code",
   "execution_count": 11,
   "metadata": {},
   "outputs": [
    {
     "data": {
      "text/plain": [
       "'HTTP service port'"
      ]
     },
     "execution_count": 11,
     "metadata": {},
     "output_type": "execute_result"
    }
   ],
   "source": [
    "portnumber2name(80)"
   ]
  },
  {
   "cell_type": "markdown",
   "metadata": {},
   "source": [
    "### F3. TCP flag letter(s) to the name of the flags"
   ]
  },
  {
   "cell_type": "code",
   "execution_count": 12,
   "metadata": {
    "collapsed": true
   },
   "outputs": [],
   "source": [
    "%run functions/tcpflagletters2names.ipynb"
   ]
  },
  {
   "cell_type": "markdown",
   "metadata": {},
   "source": [
    "usage:"
   ]
  },
  {
   "cell_type": "code",
   "execution_count": 13,
   "metadata": {},
   "outputs": [
    {
     "data": {
      "text/plain": [
       "'SYN'"
      ]
     },
     "execution_count": 13,
     "metadata": {},
     "output_type": "execute_result"
    }
   ],
   "source": [
    "tcpflagletters2names('S')"
   ]
  },
  {
   "cell_type": "markdown",
   "metadata": {},
   "source": [
    "### F4. Determining the type of the input file (pcap, pcapng, sflow, nfdump)\n",
    "Sometimes a tool has an extension, for example pcap, but it is another type of file, for example pcapng."
   ]
  },
  {
   "cell_type": "code",
   "execution_count": 96,
   "metadata": {},
   "outputs": [],
   "source": [
    "%run functions/check_filetype.ipynb"
   ]
  },
  {
   "cell_type": "markdown",
   "metadata": {},
   "source": [
    "usage:"
   ]
  },
  {
   "cell_type": "code",
   "execution_count": 97,
   "metadata": {},
   "outputs": [
    {
     "data": {
      "text/plain": [
       "'pcap'"
      ]
     },
     "execution_count": 97,
     "metadata": {},
     "output_type": "execute_result"
    }
   ],
   "source": [
    "check_filetype(input_file)"
   ]
  },
  {
   "cell_type": "markdown",
   "metadata": {},
   "source": [
    "### F5. Converting packet-based input file (depending on the type of file) to dataframe"
   ]
  },
  {
   "cell_type": "code",
   "execution_count": 126,
   "metadata": {
    "collapsed": true
   },
   "outputs": [],
   "source": [
    "%run functions/pcap2dataframe.ipynb\n",
    "%run functions/pcapng2dataframe.ipynb\n",
    "%run functions/sflow2dataframe.ipynb"
   ]
  },
  {
   "cell_type": "markdown",
   "metadata": {},
   "source": [
    "## Converting the input file into a dataframe "
   ]
  },
  {
   "cell_type": "code",
   "execution_count": 127,
   "metadata": {},
   "outputs": [],
   "source": [
    "file_type = check_filetype (input_file)\n",
    "\n",
    "if file_type == 'pcap':\n",
    "    df = pcap2dataframe(input_file)\n",
    "    \n",
    "elif file_type == 'pcapng':\n",
    "    df = pcapng2dataframe(input_file)\n",
    "    \n",
    "elif file_type == 'sflow':\n",
    "    df = sflow2dataframe(input_file)\n",
    "    \n",
    "elif file_type == 'nfdump':\n",
    "    print \"SORRY! We didn't developed a parser for this type of file!\\n\\nPLEASE contact us and we will develop it as soon as possible!\"\n",
    "    \n",
    "else:\n",
    "    print \"SORRY! We neither developed the parser for this type of file (YET) OR we recognized the format of your file!\""
   ]
  },
  {
   "cell_type": "markdown",
   "metadata": {},
   "source": [
    "## Checking what we have, so far."
   ]
  },
  {
   "cell_type": "code",
   "execution_count": 130,
   "metadata": {},
   "outputs": [
    {
     "name": "stdout",
     "output_type": "stream",
     "text": [
      "6334\n"
     ]
    },
    {
     "data": {
      "text/html": [
       "<div>\n",
       "<style scoped>\n",
       "    .dataframe tbody tr th:only-of-type {\n",
       "        vertical-align: middle;\n",
       "    }\n",
       "\n",
       "    .dataframe tbody tr th {\n",
       "        vertical-align: top;\n",
       "    }\n",
       "\n",
       "    .dataframe thead th {\n",
       "        text-align: right;\n",
       "    }\n",
       "</style>\n",
       "<table border=\"1\" class=\"dataframe\">\n",
       "  <thead>\n",
       "    <tr style=\"text-align: right;\">\n",
       "      <th></th>\n",
       "      <th>timestamp</th>\n",
       "      <th>ip_ttl</th>\n",
       "      <th>ip_proto</th>\n",
       "      <th>ip_length</th>\n",
       "      <th>ip_src</th>\n",
       "      <th>ip_dst</th>\n",
       "      <th>sport</th>\n",
       "      <th>dport</th>\n",
       "      <th>tcp_flag</th>\n",
       "      <th>fragments</th>\n",
       "      <th>http_data</th>\n",
       "      <th>raw_size</th>\n",
       "    </tr>\n",
       "  </thead>\n",
       "  <tbody>\n",
       "    <tr>\n",
       "      <th>0</th>\n",
       "      <td>1.444833e+09</td>\n",
       "      <td>128</td>\n",
       "      <td>6</td>\n",
       "      <td>412</td>\n",
       "      <td>192.168.0.103</td>\n",
       "      <td>192.168.0.100</td>\n",
       "      <td>50335</td>\n",
       "      <td>80</td>\n",
       "      <td>...PA...</td>\n",
       "      <td>0</td>\n",
       "      <td>GET</td>\n",
       "      <td>426</td>\n",
       "    </tr>\n",
       "    <tr>\n",
       "      <th>1</th>\n",
       "      <td>1.444833e+09</td>\n",
       "      <td>128</td>\n",
       "      <td>6</td>\n",
       "      <td>339</td>\n",
       "      <td>192.168.0.100</td>\n",
       "      <td>192.168.0.103</td>\n",
       "      <td>80</td>\n",
       "      <td>50335</td>\n",
       "      <td>...PA...</td>\n",
       "      <td>0</td>\n",
       "      <td></td>\n",
       "      <td>353</td>\n",
       "    </tr>\n",
       "    <tr>\n",
       "      <th>2</th>\n",
       "      <td>1.444833e+09</td>\n",
       "      <td>128</td>\n",
       "      <td>6</td>\n",
       "      <td>40</td>\n",
       "      <td>192.168.0.103</td>\n",
       "      <td>192.168.0.100</td>\n",
       "      <td>50335</td>\n",
       "      <td>80</td>\n",
       "      <td>....A...</td>\n",
       "      <td>0</td>\n",
       "      <td></td>\n",
       "      <td>60</td>\n",
       "    </tr>\n",
       "    <tr>\n",
       "      <th>3</th>\n",
       "      <td>1.444833e+09</td>\n",
       "      <td>128</td>\n",
       "      <td>6</td>\n",
       "      <td>412</td>\n",
       "      <td>192.168.0.103</td>\n",
       "      <td>192.168.0.100</td>\n",
       "      <td>50335</td>\n",
       "      <td>80</td>\n",
       "      <td>...PA...</td>\n",
       "      <td>0</td>\n",
       "      <td>GET</td>\n",
       "      <td>426</td>\n",
       "    </tr>\n",
       "    <tr>\n",
       "      <th>4</th>\n",
       "      <td>1.444833e+09</td>\n",
       "      <td>128</td>\n",
       "      <td>6</td>\n",
       "      <td>339</td>\n",
       "      <td>192.168.0.100</td>\n",
       "      <td>192.168.0.103</td>\n",
       "      <td>80</td>\n",
       "      <td>50335</td>\n",
       "      <td>...PA...</td>\n",
       "      <td>0</td>\n",
       "      <td></td>\n",
       "      <td>353</td>\n",
       "    </tr>\n",
       "  </tbody>\n",
       "</table>\n",
       "</div>"
      ],
      "text/plain": [
       "      timestamp  ip_ttl  ip_proto  ip_length         ip_src         ip_dst  \\\n",
       "0  1.444833e+09     128         6        412  192.168.0.103  192.168.0.100   \n",
       "1  1.444833e+09     128         6        339  192.168.0.100  192.168.0.103   \n",
       "2  1.444833e+09     128         6         40  192.168.0.103  192.168.0.100   \n",
       "3  1.444833e+09     128         6        412  192.168.0.103  192.168.0.100   \n",
       "4  1.444833e+09     128         6        339  192.168.0.100  192.168.0.103   \n",
       "\n",
       "   sport  dport  tcp_flag  fragments http_data  raw_size  \n",
       "0  50335     80  ...PA...          0       GET       426  \n",
       "1     80  50335  ...PA...          0                 353  \n",
       "2  50335     80  ....A...          0                  60  \n",
       "3  50335     80  ...PA...          0       GET       426  \n",
       "4     80  50335  ...PA...          0                 353  "
      ]
     },
     "execution_count": 130,
     "metadata": {},
     "output_type": "execute_result"
    }
   ],
   "source": [
    "print len(df)\n",
    "\n",
    "df.head()"
   ]
  },
  {
   "cell_type": "markdown",
   "metadata": {},
   "source": [
    "## DDoS attack vector (pattern) identification/recognition"
   ]
  },
  {
   "cell_type": "code",
   "execution_count": 7,
   "metadata": {
    "collapsed": true
   },
   "outputs": [],
   "source": [
    "import collections\n",
    "\n",
    "def analyse(df, debug=False, ttl_variation_threshold = 4):\n",
    "    \"\"\"\n",
    "    Analysis only top traffic stream\n",
    "\n",
    "    :param dataframe (df) containing the pcap/pcapng file converted:\n",
    "    :return (1) print the summary of attack vectors and :\n",
    "    \"\"\"\n",
    "\n",
    "    attack_case = \"-1\"\n",
    "    reflection_label=\"\"\n",
    "    spoofed_label=\"\"\n",
    "    fragment_label=\"\"\n",
    "\n",
    "    allpatterns = {\n",
    "        \"dst_ip\" : \"\",\n",
    "        \"patterns\": []\n",
    "    }\n",
    "#     result_structure = {\n",
    "#         \"start_timestamp\":0,\n",
    "#         \"end_timestamp\":0,\n",
    "#         \"ip_protocol\":0,\n",
    "#         \"dst_ip\":[],\n",
    "#         \"src_ips\":[],\n",
    "#         \"dst_ports\":[], #(port,share)\n",
    "#         \"src_ports\":[], #(port,share)\n",
    "#         \"reflected\":False,\n",
    "#         \"spoofed\":False,\n",
    "#         \"fragmented\":False,\n",
    "#         \"pattern_traffic_share\":0.0,\n",
    "#         \"pattern_packet_count\":0,\n",
    "#         \"pattern_total_megabytes\":0,\n",
    "#         \"ttl_variation\":[],\n",
    "# #         \"packets\":[]\n",
    "#     }    \n",
    "    \n",
    "    if debug: print \"Total number packets: \"+ str(len(df))\n",
    "    if debug: print \"\\n###################################\\nIDENTIFYING MAIN CHARACTERISTICS:\\n###################################\"\n",
    "    top_ip_dst = df['ip_dst'].value_counts().index[0]\n",
    "    if debug: print \"Target (destination) IP: \"+ top_ip_dst\n",
    "    allpatterns[\"dst_ip\"] = top_ip_dst\n",
    "    \n",
    "    #Restricting attacks from outside the network!\n",
    "    #df_filtered = df[(df['ip_dst'] == top_ip_dst) & ~df['ip_src'].str.contains(\".\".join(top_ip_dst.split('.')[0:2]), na=False) ]\n",
    "\n",
    "    df_filtered = df[(df['ip_dst'] == top_ip_dst) ]\n",
    "    total_packets_to_target = len(df_filtered)\n",
    "    if debug: print \"Number of packets: \"+str(total_packets_to_target)    \n",
    "        \n",
    "##############################\n",
    "##############################\n",
    "    while (len(df_filtered)>0):\n",
    "        if debug: print \"\\n###################################################################################################################\"\n",
    "        result = {}\n",
    "        top_ip_proto = df[df['ip_dst'] == top_ip_dst]['ip_proto'].value_counts().index[0]\n",
    "        result['ip_protocol']=top_ip_proto\n",
    "        if debug: print \"IP protocol used in packets going to target IP: \"+str(top_ip_proto)\n",
    "        \n",
    "        df_filtered = df_filtered[df_filtered['ip_proto'] == top_ip_proto]\n",
    "\n",
    "        # Performing a first filter based on the top_ip_dst (target IP), the source IPs canNOT be from the \\16 of the\n",
    "        # target IP, and the top IP protocol that targeted the top_ip_dst\n",
    "\n",
    "        ####\n",
    "        # Calculating the number of packets after the first filter \n",
    "        total_packets_filtered = len(df_filtered)\n",
    "        if debug: print \"Number of packets: \"+str(total_packets_filtered)\n",
    "        result[\"total_nr_packets\"] = total_packets_filtered\n",
    "    \n",
    "        ####\n",
    "        # For attacks in the IP protocol level\n",
    "        attack_label = get_ip_proto_name(top_ip_proto) + \"-based attack\"\n",
    "        result[\"transport_protocol\"] = get_ip_proto_name(top_ip_proto)\n",
    "\n",
    "        ####\n",
    "        # For attacks based on TCP or UDP, which have source and destination ports\n",
    "        if ((top_ip_proto == 6) or (top_ip_proto == 17)):\n",
    "\n",
    "            if debug: print \"\\n#############################\\nPORT FREQUENCY OF REMAINING PACKETS\\n##############################\"\n",
    "            ####\n",
    "            # Calculating the distribution of source ports based on the first filter\n",
    "            percent_src_ports = df_filtered['sport'].value_counts().divide(float(total_packets_filtered) / 100)\n",
    "\n",
    "            if debug: print \"SOURCE ports frequency\" \n",
    "            if debug: print percent_src_ports.head() \n",
    "\n",
    "            ####\n",
    "            # Calculating the distribution of destination ports after the first filter\n",
    "            percent_dst_ports = df_filtered['dport'].value_counts().divide(float(total_packets_filtered) / 100)\n",
    "            if debug: print \"\\nDESTINATION ports frequency\" \n",
    "            if debug: print percent_dst_ports.head()\n",
    "\n",
    "            #####\n",
    "            ## WARNING packets are filtered here again#####\n",
    "            # Using the top 1 (source or destination) port to analyse a pattern of packets\n",
    "            if (len(percent_src_ports) > 0) and (len(percent_dst_ports) > 0):\n",
    "                if percent_src_ports.values[0] > percent_dst_ports.values[0]:\n",
    "                    if debug: print \"\\nUsing top source port: \", percent_src_ports.keys()[0] \n",
    "                    df_pattern = df_filtered[df_filtered['sport'] == percent_src_ports.keys()[0]]\n",
    "                    result[\"selected_port\"] = \"src_\" + str(percent_src_ports.keys()[0])\n",
    "                else:\n",
    "                    if debug: print \"\\n Using top dest port: \", percent_dst_ports.keys()[0]\n",
    "                    df_pattern = df_filtered[df_filtered['dport'] == percent_dst_ports.keys()[0]]\n",
    "                    result[\"selected_port\"] = \"dst_\" + str(percent_dst_ports.keys()[0])\n",
    "            else:\n",
    "                if debug: print 'no top source/dest port' \n",
    "                return None\n",
    "\n",
    "            \n",
    "\n",
    "            #####\n",
    "            # Calculating the total number of packets involved in the attack\n",
    "            pattern_packets = len(df_pattern)\n",
    "            result[\"pattern_packet_count\"] = pattern_packets\n",
    "\n",
    "            #WARNING Can be wrong\n",
    "            result['raw_attack_size_megabytes'] = (df_pattern['raw_size'].sum() /1000000).item()\n",
    "            result[\"pattern_total_megabytes\"] = (df_pattern[df_pattern['fragments'] == 0]['ip_length'].sum() / 1000000).item()\n",
    "\n",
    "            #####\n",
    "            # Calculating the percentage of the current pattern compared to the raw input file\n",
    "            representativeness = float(pattern_packets) * 100 / float(total_packets_to_target)\n",
    "            result[\"pattern_traffic_share\"] = representativeness\n",
    "            attack_label = 'In %.2f' % representativeness + \"\\n \" + attack_label\n",
    "\n",
    "            #####\n",
    "            # Checking the existence of HTTP data\n",
    "            http_data = df_pattern['http_data'].value_counts().divide(float(pattern_packets) / 100)\n",
    "\n",
    "            #####\n",
    "            # Checking the existence of TCP flags\n",
    "            percent_tcp_flags = df_pattern['tcp_flag'].value_counts().divide(float(pattern_packets) / 100)\n",
    "\n",
    "            #####\n",
    "            # Calculating the number of source IPs involved in the attack\n",
    "            ips_involved = df_pattern['ip_src'].unique()\n",
    "######            \n",
    "            if len(ips_involved) < 5:\n",
    "                if debug: print \"\\n###################################################################################################################\"\n",
    "                if debug: print \"\\n###################################################################################################################\"\n",
    "                if debug: print \"\\n###################################################################################################################\"\n",
    "                if debug: print(\"\\nNO MORE PATTERNS\")\n",
    "                break\n",
    "            \n",
    "            if debug: print(\"\\n############################\\nPATTERN (ATTACK VECTOR) LABEL \"+ \"\\n############################\")\n",
    "            attack_label = attack_label + \"\\n\"+ str(len(ips_involved)) + \" source IPs\"\n",
    "            result[\"src_ips\"] = ips_involved.tolist()\n",
    "\n",
    "            #####\n",
    "            # Calculating the number of source IPs involved in the attack\n",
    "            result[\"start_timestamp\"] = df_pattern['timestamp'].min().item()\n",
    "            result[\"end_timestamp\"] = df_pattern['timestamp'].max().item()\n",
    "\n",
    "            ####\n",
    "            # Calculating the distribution of TTL variation (variation -> number of IPs)\n",
    "            ttl_variations = df_pattern.groupby(['ip_src'])['ip_ttl'].agg(np.ptp).value_counts().sort_index()\n",
    "    #         if debug: print('TTL variation : NR of source IPs')\n",
    "    #         if debug: print(ttl_variations)\n",
    "            ips_ttl_greater_4 = ttl_variations.groupby(np.where(ttl_variations.index > 4, '>4', ttl_variations.index)).sum()\n",
    "#             if debug: print('\\n IPs TTL variation >4')\n",
    "#             if debug: print(ips_ttl_greater_4)\n",
    "            result[\"ttl_variation\"] = ttl_variations.to_dict()\n",
    "\n",
    "            ####\n",
    "            # Calculating the distribution of IP fragments (fragmented -> percentage of packets)\n",
    "            percent_fragments = df_pattern['fragments'].value_counts().divide(float(pattern_packets) / 100)\n",
    "            ####\n",
    "            # Calculating the distribution of source ports that remains\n",
    "            percent_src_ports = df_pattern['sport'].value_counts().divide(float(pattern_packets) / 100)\n",
    "            result[\"src_ports\"] = percent_src_ports.to_dict()\n",
    "\n",
    "            ####\n",
    "            # Calculating the distribution of destination ports after the first filter\n",
    "            percent_dst_ports = df_pattern['dport'].value_counts().divide(float(pattern_packets) / 100)\n",
    "            result[\"dst_ports\"] = percent_dst_ports.to_dict()\n",
    "\n",
    "            ####\n",
    "            # There are 3 possibilities of attacks cases!\n",
    "            if (percent_src_ports.values[0] == 100):\n",
    "                df_filtered = df_filtered[df_filtered['sport'].isin(percent_src_ports.keys()) == False]\n",
    "                if (len(percent_dst_ports) == 1):\n",
    "                    # if debug: print(\"\\nCASE 1: 1 source port to 1 destination port\") if debug else next\n",
    "                    port_label = \"From \" + get_port_name(\n",
    "                        percent_src_ports.keys()[0]) + \"\\n   - Against \" + get_port_name(\n",
    "                        percent_dst_ports.keys()[0]) + \"[\" + '%.1f' % percent_dst_ports.values[0] + \"%]\"\n",
    "                else:\n",
    "                    # if debug: print(\"\\nCASE 2: 1 source port to a set of destination ports\") if debug else next\n",
    "                    if (percent_dst_ports.values[0] >= 50):\n",
    "                        port_label = \"From \" + get_port_name(\n",
    "                            percent_src_ports.keys()[0]) + \"\\n   - Against a set of (\" + str(\n",
    "                            len(percent_dst_ports)) + \") ports, such as \" + get_port_name(\n",
    "                            percent_dst_ports.keys()[0]) + \"[\" + '%.2f' % percent_dst_ports.values[\n",
    "                            0] + \"%]\" + \" and \" + get_port_name(percent_dst_ports.keys()[1]) + \"[\" + '%.2f' % \\\n",
    "                                                                                                     percent_dst_ports.values[\n",
    "                                                                                                         1] + \"%]\"\n",
    "                    elif (percent_dst_ports.values[0] >= 33):\n",
    "                        port_label = \"From \" + get_port_name(\n",
    "                            percent_src_ports.keys()[0]) + \"\\n   - Against a set of (\" + str(\n",
    "                            len(percent_dst_ports)) + \") ports, such as \" + get_port_name(\n",
    "                            percent_dst_ports.keys()[0]) + \"[\" + '%.2f' % percent_dst_ports.values[\n",
    "                            0] + \"%]\" + \"; \" + get_port_name(percent_dst_ports.keys()[1]) + \"[\" + '%.2f' % \\\n",
    "                                                                                                  percent_dst_ports.values[\n",
    "                                                                                                      1] + \"%], and \" + get_port_name(\n",
    "                            percent_dst_ports.keys()[2]) + \"[\" + '%.2f' % percent_dst_ports.values[2] + \"%]\"\n",
    "                    else:\n",
    "                        port_label = \"From \" + get_port_name(\n",
    "                            percent_src_ports.keys()[0]) + \"\\n   - Against a set of (\" + str(\n",
    "                            len(percent_dst_ports)) + \") ports, such as \" + get_port_name(\n",
    "                            percent_dst_ports.keys()[0]) + \"[\" + '%.2f' % percent_dst_ports.values[\n",
    "                            0] + \"%]\" + \"; \" + get_port_name(percent_dst_ports.keys()[1]) + \"[\" + '%.2f' % \\\n",
    "                                                                                                  percent_dst_ports.values[\n",
    "                                                                                                      1] + \"%], and \" + get_port_name(\n",
    "                            percent_dst_ports.keys()[2]) + \"[\" + '%.2f' % percent_dst_ports.values[2] + \"%]\"\n",
    "            else:\n",
    "                if (len(percent_src_ports) == 1):\n",
    "                    df_filtered = df_filtered[df_filtered['sport'].isin(percent_src_ports.keys()) == False]\n",
    "\n",
    "                    # if debug: print(\"\\nCASE 1: 1 source port to 1 destination port\") if debug else next\n",
    "                    port_label = \"Using \" + get_port_name(percent_src_ports.keys()[0]) + \"[\" + '%.1f' % \\\n",
    "                                                                                                                  percent_src_ports.values[\n",
    "                                                                                                                      0] + \"%]\" + \"\\n   - Against \" + get_port_name(\n",
    "                        percent_dst_ports.keys()[0]) + \"[\" + '%.1f' % percent_dst_ports.values[0] + \"%]\"\n",
    "\n",
    "\n",
    "                else:\n",
    "                    # if debug: print(\"\\nCASE 3: 1 source port to a set of destination ports\") if debug else next\n",
    "                    df_filtered = df_filtered[df_filtered['sport'].isin(percent_src_ports.keys()) == False]\n",
    "\n",
    "                    if (percent_src_ports.values[0] >= 50):\n",
    "                        port_label = \"From a set of (\" + str(\n",
    "                            len(percent_src_ports)) + \") ports, such as \" + get_port_name(\n",
    "                            percent_src_ports.keys()[0]) + \"[\" + '%.2f' % percent_src_ports.values[\n",
    "                            0] + \"%] and \" + get_port_name(percent_src_ports.keys()[1]) + \"[\" + '%.2f' % \\\n",
    "                                                                                                percent_src_ports.values[\n",
    "                                                                                                    1] + \"%]\" + \"\\n   - Against \" + get_port_name(\n",
    "                            percent_dst_ports.keys()[0]) + \"[\" + '%.1f' % percent_dst_ports.values[0] + \"%]\"\n",
    "                    elif (percent_src_ports.values[0] >= 33):\n",
    "                        port_label = \"From a set of (\" + str(\n",
    "                            len(percent_src_ports)) + \") ports, such as \" + get_port_name(\n",
    "                            percent_src_ports.keys()[0]) + \"[\" + '%.2f' % percent_src_ports.values[\n",
    "                            0] + \"%], \" + get_port_name(percent_src_ports.keys()[1]) + \"[\" + '%.2f' % \\\n",
    "                                                                                             percent_src_ports.values[\n",
    "                                                                                                 1] + \"%], and \" + get_port_name(\n",
    "                            percent_src_ports.keys()[2]) + \"[\" + '%.2f' % percent_src_ports.values[\n",
    "                            2] + \"%]\" + \"\\n   - Against \" + get_port_name(percent_dst_ports.keys()[0]) + \"[\" + '%.1f' % \\\n",
    "                                                                                                            percent_dst_ports.values[\n",
    "                                                                                                                0] + \"%]\"\n",
    "                    else:\n",
    "                        df_filtered = df_filtered[df_filtered['dport'].isin(percent_dst_ports.keys()) == False]\n",
    "                        port_label = \"From a set of (\" + str(\n",
    "                            len(percent_src_ports)) + \") ports, such as \" + get_port_name(\n",
    "                            percent_src_ports.keys()[0]) + \"[\" + '%.2f' % percent_src_ports.values[\n",
    "                            0] + \"%], \" + get_port_name(percent_src_ports.keys()[1]) + \"[\" + '%.2f' % \\\n",
    "                                                                                             percent_src_ports.values[\n",
    "                                                                                                 1] + \"%], \" + get_port_name(\n",
    "                            percent_src_ports.keys()[2]) + \"[\" + '%.2f' % percent_src_ports.values[\n",
    "                            2] + \"%]\" + \"; and \" + get_port_name(percent_src_ports.keys()[3]) + \"[\" + '%.2f' % \\\n",
    "                                                                                                      percent_src_ports.values[\n",
    "                                                                                                          3] + \"%]\" + \"\\n   - Against \" + get_port_name(\n",
    "                            percent_dst_ports.keys()[0]) + \"[\" + '%.1f' % percent_dst_ports.values[0] + \"%]\"\n",
    "\n",
    "            ####\n",
    "            # Testing HTTP request\n",
    "            if len(http_data) > 0 and ((percent_dst_ports.index[0] == 80) or (percent_dst_ports.index[0] == 443)):\n",
    "                attack_label = attack_label + \"; \" + http_data.index[0]\n",
    "\n",
    "            ####\n",
    "            # Testing TCP flags\n",
    "            if (len(percent_tcp_flags) > 0) and (percent_tcp_flags.values[0] > 50):\n",
    "                attack_label = attack_label + \"; TCP flags: \" + get_tcp_flag_name(\n",
    "                    percent_tcp_flags.index[0]) + \"[\" + '%.1f' % percent_tcp_flags.values[0] + \"%]\"\n",
    "\n",
    "            ####\n",
    "            # IP fragmentation\n",
    "            if '1' in percent_fragments.keys():\n",
    "                if (percent_fragments['1'] > 0.3):\n",
    "                    fragment_label = \"%.2f\" % percent_fragments['1'] + \"packets with fragments marked\"\n",
    "                    result[\"fragmented\"] = True\n",
    "\n",
    "            ####\n",
    "            # IP spoofing (if (more than 0) src IPs had the variation of the ttl higher than a treshold)\n",
    "            if '>4' in ips_ttl_greater_4.keys():\n",
    "                if (ips_ttl_greater_4['>4'] > len(ips_involved)*0.1 ):\n",
    "                    result[\"spoofed\"]=True\n",
    "                    spoofed_label = \"Likely involving spoofed IPs\"\n",
    "                else:\n",
    "                    ####involved in \n",
    "                    # Reflection and Amplification\n",
    "                    if percent_src_ports.values[0] >= 1:\n",
    "                        result[\"reflected\"]=True\n",
    "                        reflection_label = \"Reflection & Amplification\"\n",
    "\n",
    "            print \"\\nSUMMARY:\\n\"\\\n",
    "                    +\"- %.2f\" % representativeness +\"% of the packets targeting \"+top_ip_dst+\"\\n\"\\\n",
    "                    +\"   - Involved \"+str(len(ips_involved))+\" source IP addresses\\n\"\\\n",
    "                    +\"   - Using IP protocol \"+get_ip_proto_name(top_ip_proto)+\"\\n\"\\\n",
    "                    +\"   - \"+port_label+\"\\n\"\\\n",
    "                    +\"   - \"+fragment_label\\\n",
    "                    +\"   - \"+reflection_label\\\n",
    "                    +\"   - \"+spoofed_label\n",
    "            \n",
    "            allpatterns[\"patterns\"].append(result)\n",
    "\n",
    "\n",
    "    return allpatterns"
   ]
  },
  {
   "cell_type": "markdown",
   "metadata": {},
   "source": [
    "<h1 align='center'> !!!!!!!!!!!!!!!!!!!!!!!!!!!!!!!!!!!!!!!!!!!!!!!!!!!!!!!!!!!!!!!!!!!!!!!!!!!!!!!!!!!!!!!!!!!!!!!!!!!!!!!!!!!!<br>  THE DEMO <br>!!!!!!!!!!!!!!!!!!!!!!!!!!!!!!!!!!!!!!!!!!!!!!!!!!!!!!!!!!!!!!!!!!!!!!!!!!!!!!!!!!!!!!!!!!!!!!!!!!!!!!</h1>\n"
   ]
  },
  {
   "cell_type": "markdown",
   "metadata": {},
   "source": [
    "- 1: UDP attack against HTTP (~0.2'')\n",
    "- 2: NTP  against HTTP (~20'')\n",
    "- 3: Multi-vector attack (DNS reflection and netbios) (1' 20'')"
   ]
  },
  {
   "cell_type": "code",
   "execution_count": 14,
   "metadata": {},
   "outputs": [
    {
     "name": "stdout",
     "output_type": "stream",
     "text": [
      "Total number packets: 1417546\n",
      "\n",
      "###################################\n",
      "IDENTIFYING MAIN CHARACTERISTICS:\n",
      "###################################\n",
      "Target (destination) IP: 145.111.250.92\n",
      "Number of packets: 326105\n",
      "\n",
      "###################################################################################################################\n",
      "IP protocol used in packets going to target IP: 6\n",
      "Number of packets: 326105\n",
      "\n",
      "#############################\n",
      "PORT FREQUENCY OF REMAINING PACKETS\n",
      "##############################\n",
      "SOURCE ports frequency\n",
      "64324    0.005826\n",
      "21360    0.004906\n",
      "63068    0.004600\n",
      "3152     0.004600\n",
      "59778    0.004600\n",
      "Name: sport, dtype: float64\n",
      "\n",
      "DESTINATION ports frequency\n",
      "1234    100.0\n",
      "Name: dport, dtype: float64\n",
      "\n",
      " Using top dest port:  1234\n",
      "\n",
      "############################\n",
      "PATTERN (ATTACK VECTOR) LABEL \n",
      "############################\n",
      "\n",
      "SUMMARY:\n",
      "- 100.00% of the packets targeting 145.111.250.92\n",
      "   - Involved 326092 source IP addresses\n",
      "   - Using IP protocol TCP\n",
      "   - From a set of (65077) ports, such as port 64324[0.01%], port 21360[0.00%], port 63068[0.00%]; and port 3152[0.00%]\n",
      "   - Against port 1234[100.0%]\n",
      "   -    -    - \n"
     ]
    }
   ],
   "source": [
    "# %%time\n",
    "allpatterns = analyse(df, True)"
   ]
  },
  {
   "cell_type": "markdown",
   "metadata": {},
   "source": [
    "# Let's take a look on the attack pattern!!!!"
   ]
  },
  {
   "cell_type": "code",
   "execution_count": 32,
   "metadata": {},
   "outputs": [
    {
     "name": "stdout",
     "output_type": "stream",
     "text": [
      "['dst_ip', 'patterns']\n",
      "\n",
      "\n"
     ]
    },
    {
     "ename": "IndexError",
     "evalue": "list index out of range",
     "output_type": "error",
     "traceback": [
      "\u001b[0;31m---------------------------------------------------------------------------\u001b[0m",
      "\u001b[0;31mIndexError\u001b[0m                                Traceback (most recent call last)",
      "\u001b[0;32m<ipython-input-32-7d490417b052>\u001b[0m in \u001b[0;36m<module>\u001b[0;34m()\u001b[0m\n\u001b[1;32m      1\u001b[0m \u001b[0;32mprint\u001b[0m \u001b[0mallpatterns\u001b[0m\u001b[0;34m.\u001b[0m\u001b[0mkeys\u001b[0m\u001b[0;34m(\u001b[0m\u001b[0;34m)\u001b[0m\u001b[0;34m\u001b[0m\u001b[0m\n\u001b[1;32m      2\u001b[0m \u001b[0;32mprint\u001b[0m \u001b[0;34m\"\\n\"\u001b[0m\u001b[0;34m\u001b[0m\u001b[0m\n\u001b[0;32m----> 3\u001b[0;31m \u001b[0;32mprint\u001b[0m \u001b[0mallpatterns\u001b[0m\u001b[0;34m[\u001b[0m\u001b[0;34m'patterns'\u001b[0m\u001b[0;34m]\u001b[0m\u001b[0;34m[\u001b[0m\u001b[0;36m0\u001b[0m\u001b[0;34m]\u001b[0m\u001b[0;34m.\u001b[0m\u001b[0mkeys\u001b[0m\u001b[0;34m(\u001b[0m\u001b[0;34m)\u001b[0m\u001b[0;34m\u001b[0m\u001b[0m\n\u001b[0m",
      "\u001b[0;31mIndexError\u001b[0m: list index out of range"
     ]
    }
   ],
   "source": [
    "print allpatterns.keys()\n",
    "print \"\\n\"\n",
    "print allpatterns['patterns'][0].keys()"
   ]
  },
  {
   "cell_type": "code",
   "execution_count": 21,
   "metadata": {},
   "outputs": [
    {
     "ename": "IndexError",
     "evalue": "list index out of range",
     "output_type": "error",
     "traceback": [
      "\u001b[0;31m---------------------------------------------------------------------------\u001b[0m",
      "\u001b[0;31mIndexError\u001b[0m                                Traceback (most recent call last)",
      "\u001b[0;32m<ipython-input-21-cf05051deb83>\u001b[0m in \u001b[0;36m<module>\u001b[0;34m()\u001b[0m\n\u001b[0;32m----> 1\u001b[0;31m \u001b[0mallpatterns\u001b[0m\u001b[0;34m[\u001b[0m\u001b[0;34m'patterns'\u001b[0m\u001b[0;34m]\u001b[0m\u001b[0;34m[\u001b[0m\u001b[0;36m0\u001b[0m\u001b[0;34m]\u001b[0m\u001b[0;34m[\u001b[0m\u001b[0;34m'src_ports'\u001b[0m\u001b[0;34m]\u001b[0m\u001b[0;34m\u001b[0m\u001b[0m\n\u001b[0m",
      "\u001b[0;31mIndexError\u001b[0m: list index out of range"
     ]
    }
   ],
   "source": [
    "allpatterns['patterns'][0]['src_ports']"
   ]
  },
  {
   "cell_type": "code",
   "execution_count": 33,
   "metadata": {},
   "outputs": [
    {
     "ename": "IndexError",
     "evalue": "list index out of range",
     "output_type": "error",
     "traceback": [
      "\u001b[0;31m---------------------------------------------------------------------------\u001b[0m",
      "\u001b[0;31mIndexError\u001b[0m                                Traceback (most recent call last)",
      "\u001b[0;32m<ipython-input-33-ce7c31ec2f84>\u001b[0m in \u001b[0;36m<module>\u001b[0;34m()\u001b[0m\n\u001b[0;32m----> 1\u001b[0;31m \u001b[0mallpatterns\u001b[0m\u001b[0;34m[\u001b[0m\u001b[0;34m'patterns'\u001b[0m\u001b[0;34m]\u001b[0m\u001b[0;34m[\u001b[0m\u001b[0;36m0\u001b[0m\u001b[0;34m]\u001b[0m\u001b[0;34m[\u001b[0m\u001b[0;34m'dst_ports'\u001b[0m\u001b[0;34m]\u001b[0m\u001b[0;34m\u001b[0m\u001b[0m\n\u001b[0m",
      "\u001b[0;31mIndexError\u001b[0m: list index out of range"
     ]
    }
   ],
   "source": [
    "allpatterns['patterns'][0]['dst_ports']"
   ]
  },
  {
   "cell_type": "code",
   "execution_count": 15,
   "metadata": {},
   "outputs": [
    {
     "data": {
      "text/plain": [
       "['200.45.216.96',\n",
       " '171.37.157.18',\n",
       " '122.137.117.247',\n",
       " '180.123.27.16',\n",
       " '124.236.1.161',\n",
       " '184.43.33.18',\n",
       " '184.39.242.182',\n",
       " '124.125.46.8',\n",
       " '172.3.83.62',\n",
       " '162.198.246.54',\n",
       " '162.233.186.54',\n",
       " '172.6.53.230',\n",
       " '172.12.42.206',\n",
       " '172.5.178.166',\n",
       " '162.233.186.158',\n",
       " '172.6.53.94',\n",
       " '172.13.243.182',\n",
       " '172.6.52.118',\n",
       " '172.13.23.118',\n",
       " '172.3.83.198',\n",
       " '172.14.81.70',\n",
       " '172.10.106.230',\n",
       " '162.224.246.30',\n",
       " '172.10.98.222',\n",
       " '162.196.242.62',\n",
       " '172.10.3.246',\n",
       " '162.203.12.182']"
      ]
     },
     "execution_count": 15,
     "metadata": {},
     "output_type": "execute_result"
    }
   ],
   "source": [
    "allpatterns['patterns'][0]['src_ips']"
   ]
  },
  {
   "cell_type": "code",
   "execution_count": 16,
   "metadata": {},
   "outputs": [
    {
     "data": {
      "text/plain": [
       "'172.31.28.132'"
      ]
     },
     "execution_count": 16,
     "metadata": {},
     "output_type": "execute_result"
    }
   ],
   "source": [
    "allpatterns['dst_ip']"
   ]
  },
  {
   "cell_type": "code",
   "execution_count": null,
   "metadata": {
    "collapsed": true
   },
   "outputs": [],
   "source": []
  }
 ],
 "metadata": {
  "kernelspec": {
   "display_name": "Python 2",
   "language": "python",
   "name": "python2"
  },
  "language_info": {
   "codemirror_mode": {
    "name": "ipython",
    "version": 2
   },
   "file_extension": ".py",
   "mimetype": "text/x-python",
   "name": "python",
   "nbconvert_exporter": "python",
   "pygments_lexer": "ipython2",
   "version": "2.7.14"
  },
  "widgets": {
   "state": {},
   "version": "1.1.2"
  }
 },
 "nbformat": 4,
 "nbformat_minor": 1
}

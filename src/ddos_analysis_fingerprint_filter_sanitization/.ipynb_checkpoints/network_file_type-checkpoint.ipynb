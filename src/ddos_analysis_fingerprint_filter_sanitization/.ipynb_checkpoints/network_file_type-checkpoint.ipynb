{
 "cells": [
  {
   "cell_type": "code",
   "execution_count": 1,
   "metadata": {
    "collapsed": true
   },
   "outputs": [],
   "source": [
    "def network_file_type (file_path):\n",
    "    file_info = !file $file_path\n",
    "\n",
    "    if file_info[0].split()[1] == 'tcpdump':\n",
    "        print 'pcap'\n",
    "\n",
    "    elif file_info[0].split()[1] == 'pcap-ng':\n",
    "        print 'pcapng'\n",
    "    \n",
    "    elif 'sflow' in file_path:\n",
    "        print 'sflow'\n",
    "        \n",
    "    elif file_info[0].split()[1] == 'data' and ('nfdump' in file_path or 'nfcapd' in file_path):\n",
    "        print 'nfdump'"
   ]
  }
 ],
 "metadata": {
  "kernelspec": {
   "display_name": "Python 2",
   "language": "python",
   "name": "python2"
  },
  "language_info": {
   "codemirror_mode": {
    "name": "ipython",
    "version": 2
   },
   "file_extension": ".py",
   "mimetype": "text/x-python",
   "name": "python",
   "nbconvert_exporter": "python",
   "pygments_lexer": "ipython2",
   "version": "2.7.14"
  }
 },
 "nbformat": 4,
 "nbformat_minor": 2
}

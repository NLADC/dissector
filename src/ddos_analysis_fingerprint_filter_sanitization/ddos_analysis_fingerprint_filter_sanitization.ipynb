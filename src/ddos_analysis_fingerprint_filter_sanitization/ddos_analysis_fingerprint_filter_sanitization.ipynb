{
 "cells": [
  {
   "cell_type": "code",
   "execution_count": null,
   "metadata": {},
   "outputs": [],
   "source": [
    "import os\n",
    "import time\n",
    "\n",
    "from functions.input2dataframe import *\n",
    "\n",
    "from functions.analyse_df_pcap import *\n",
    "from functions.tcpdump_filter_anon import *\n",
    "\n",
    "from functions.analyse_df_nfdump import *\n",
    "from functions.nfdump_filter_anon import *"
   ]
  },
  {
   "cell_type": "code",
   "execution_count": null,
   "metadata": {},
   "outputs": [],
   "source": [
    "def ddos_analysis_fingerprint_filter_sanitization(input_file, debug=True):\n",
    "    \n",
    "    start = time.clock()\n",
    "    if debug: print 'Converting input file to dataframe (time:',  \n",
    "    df = input2dataframe(input_file) #input2dataframe checks the input_file type (pcap, pcapng, nfdump) and calls the right converter (e.g. pcap2dataframe, nfdump2dataframe)\n",
    "#     display(df[df['dst_ip']=='185.188.206.99']['dst_port'].value_counts())\n",
    "    if debug: print str(time.clock() - start)+')'\n",
    "    \n",
    "    #########################################################        \n",
    "    #########################################################\n",
    "    start = time.clock()\n",
    "    if debug: print 'Analysing the dataframe for finding attack patterns...'    \n",
    "        \n",
    "    if 'tuple' in str(type(df)):\n",
    "        all_patterns = analyse_df_nfdump(df, debug)\n",
    "        if debug: print 'Dataframe completely analysed and all attack patterns identified! (time:'+str(time.clock() - start)+')'\n",
    "        #########################################################        \n",
    "        #########################################################\n",
    "        start = time.clock()\n",
    "        if debug: print 'Generating attack vectors (with the same format as the input file) and anonymizing the victim information (dst_ip) (time:' \n",
    "        for pattern in all_patterns[\"patterns\"]:\n",
    "            print pattern['start_timestamp']\n",
    "            nfdump_filter_anon(input_file,  pattern, all_patterns['dst_ip'])\n",
    "        #########################################################        \n",
    "        #########################################################   \n",
    "    else:\n",
    "        all_patterns = analyse_df_pcap(df, debug=True)\n",
    "        display(all_patterns)\n",
    "        \n",
    "        if debug: print 'Dataframe completely analysed and all attack patterns identified! (time:'+str(time.clock() - start)+')'\n",
    "        #########################################################        \n",
    "        #########################################################\n",
    "        start = time.clock()\n",
    "        if debug: print 'Generating attack vectors (same format as input file) and anonymizing victim\\'s information (dst_ip) (time:' \n",
    "        for pattern in all_patterns[\"patterns\"]:\n",
    "            tcpdump_filter_anon(input_file, pattern, all_patterns[\"dst_ip\"])\n",
    "            \n",
    "    if debug: print str(time.clock() - start)+')'\n",
    "#     #########################################################        \n",
    "#     #########################################################\n",
    "#     #TODO: Generate rule/signatures for specific detection and mitigation technologies (SIDS: BRO, SNORT, SURICATA; Firewall)\n",
    "    "
   ]
  },
  {
   "cell_type": "markdown",
   "metadata": {},
   "source": [
    "## Execution from Jupyter Notebook"
   ]
  },
  {
   "cell_type": "code",
   "execution_count": null,
   "metadata": {
    "scrolled": false
   },
   "outputs": [],
   "source": [
    "input_file=\"input4test/prod-flow-anon-008.nfdump\"\n",
    "ddos_analysis_fingerprint_filter_sanitization(input_file)"
   ]
  },
  {
   "cell_type": "markdown",
   "metadata": {},
   "source": [
    "## Main for python script "
   ]
  },
  {
   "cell_type": "code",
   "execution_count": null,
   "metadata": {},
   "outputs": [],
   "source": [
    "if __name__ == '__main__':\n",
    "    import argparse\n",
    "    import os.path\n",
    "    \n",
    "    parser = argparse.ArgumentParser(description='')\n",
    "    \n",
    "    parser.add_argument('--input', metavar='input_file', required=True,\n",
    "                        help='Path of a input file')\n",
    "    args = parser.parse_args()\n",
    "    \n",
    "    input_file=args.input\n",
    "    \n",
    "    if os.path.isfile(input_file) == False:\n",
    "        print 'We were unable to find the file. Please check the file path!!'\n",
    "    \n",
    "        ddos_analysis_fingerprint_filter_sanitization(input_file, debug=True)"
   ]
  }
 ],
 "metadata": {
  "kernelspec": {
   "display_name": "Python 2",
   "language": "python",
   "name": "python2"
  },
  "language_info": {
   "codemirror_mode": {
    "name": "ipython",
    "version": 2
   },
   "file_extension": ".py",
   "mimetype": "text/x-python",
   "name": "python",
   "nbconvert_exporter": "python",
   "pygments_lexer": "ipython2",
   "version": "2.7.14"
  }
 },
 "nbformat": 4,
 "nbformat_minor": 2
}

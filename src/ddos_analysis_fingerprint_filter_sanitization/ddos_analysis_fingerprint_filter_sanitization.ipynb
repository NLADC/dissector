{
 "cells": [
  {
   "cell_type": "code",
   "execution_count": 23,
   "metadata": {
    "collapsed": true
   },
   "outputs": [],
   "source": [
    "import os\n",
    "import time\n",
    "\n",
    "from functions.input2dataframe import *\n",
    "\n",
    "from functions.analyse_df_pcap import *\n",
    "from functions.tcpdump_filter_anon import *\n",
    "\n",
    "from functions.analyse_df_nfdump import *\n",
    "from functions.nfdump_filter import *"
   ]
  },
  {
   "cell_type": "code",
   "execution_count": 36,
   "metadata": {
    "collapsed": true
   },
   "outputs": [],
   "source": [
    "%run 'functions/analyse_df_pcap'"
   ]
  },
  {
   "cell_type": "code",
   "execution_count": 46,
   "metadata": {},
   "outputs": [],
   "source": [
    "def ddos_analysis_fingerprint_filter_sanitization(input_file, debug=True):\n",
    "    \n",
    "    start = time.clock()\n",
    "    if debug: print 'Converting input file to dataframe (time:',  \n",
    "    df = input2dataframe(input_file) #input2dataframe checks the input_file type (pcap, pcapng, nfdump) and calls the right converter (e.g. pcap2dataframe, nfdump2dataframe)\n",
    "#     display(df[df['dst_ip']=='185.188.206.99']['dst_port'].value_counts())\n",
    "    if debug: print str(time.clock() - start)+')'\n",
    "    \n",
    "    #########################################################        \n",
    "    #########################################################\n",
    "    start = time.clock()\n",
    "    if debug: print 'Analysing the dataframe for finding attack patterns...'    \n",
    "        \n",
    "    if 'tuple' in str(type(df)):\n",
    "        all_patterns = analyse_df_nfdump(df, debug)\n",
    "        if debug: print 'Dataframe completely analysed and all attack patterns identified! (time:'+str(time.clock() - start)+')'\n",
    "        #########################################################        \n",
    "        #########################################################\n",
    "        start = time.clock()\n",
    "        if debug: print 'Generating attack vectors (with the same format as the input file) and anonymizing the victim information (dst_ip) (time:' \n",
    "        for pattern in all_patterns[\"patterns\"]:\n",
    "            nfdump_filter(input_file, all_patterns['dst_ip'], pattern)\n",
    "        #########################################################        \n",
    "        #########################################################   \n",
    "    else:\n",
    "        all_patterns = analyse_df_pcap(df, debug=True)\n",
    "        display(all_patterns)\n",
    "        \n",
    "        if debug: print 'Dataframe completely analysed and all attack patterns identified! (time:'+str(time.clock() - start)+')'\n",
    "        #########################################################        \n",
    "        #########################################################\n",
    "        start = time.clock()\n",
    "        if debug: print 'Generating attack vectors (same format as input file) and anonymizing victim\\'s information (dst_ip) (time:' \n",
    "        for pattern in all_patterns[\"patterns\"]:\n",
    "            tcpdump_filter_anon(input_file, pattern, all_patterns[\"dst_ip\"])\n",
    "            \n",
    "    if debug: print str(time.clock() - start)+')'\n",
    "#     #########################################################        \n",
    "#     #########################################################\n",
    "#     #TODO: Generate rule/signatures for specific detection and mitigation technologies (SIDS: BRO, SNORT, SURICATA; Firewall)\n",
    "    "
   ]
  },
  {
   "cell_type": "markdown",
   "metadata": {},
   "source": [
    "## Execution from Jupyter Notebook"
   ]
  },
  {
   "cell_type": "code",
   "execution_count": 47,
   "metadata": {},
   "outputs": [
    {
     "name": "stdout",
     "output_type": "stream",
     "text": [
      "Converting input file to dataframe (time: 3.415241)\n",
      "Analysing the dataframe for finding attack patterns...\n",
      "Total number packets: 92148\n",
      "\n",
      "###################################\n",
      "IDENTIFYING MAIN CHARACTERISTICS:\n",
      "###################################\n",
      "Target (destination) IP: 185.188.206.99\n",
      "Number of packets: 92075\n",
      "\n",
      "###################################################################################################################\n",
      "IP protocol used in packets going to target IP: 6\n",
      "Number of packets: 92075\n",
      "\n",
      "#############################\n",
      "PORT FREQUENCY OF REMAINING PACKETS\n",
      "##############################\n",
      "SOURCE ports frequency\n",
      "54046    0.008689\n",
      "26726    0.008689\n",
      "5426     0.008689\n",
      "63714    0.008689\n",
      "35443    0.008689\n",
      "Name: src_port, dtype: float64\n",
      "\n",
      "DESTINATION ports frequency\n",
      "21325    0.009775\n",
      "25124    0.009775\n",
      "15269    0.009775\n",
      "1779     0.008689\n",
      "62820    0.008689\n",
      "Name: dst_port, dtype: float64\n",
      "\n",
      " Using top dest port:  21325\n",
      "\n",
      "###################################################################################################################\n",
      "\n",
      "###################################################################################################################\n",
      "\n",
      "###################################################################################################################\n",
      "\n",
      "NO MORE PATTERNS\n"
     ]
    },
    {
     "data": {
      "text/plain": [
       "{'dst_ip': '185.188.206.99', 'patterns': []}"
      ]
     },
     "metadata": {},
     "output_type": "display_data"
    },
    {
     "name": "stdout",
     "output_type": "stream",
     "text": [
      "Dataframe completely analysed and all attack patterns identified! (time:0.111787)\n",
      "Generating attack vectors (same format as input file) and anonymizing victim's information (dst_ip) (time:\n",
      "0.000111000000004)\n"
     ]
    }
   ],
   "source": [
    "input_file=\"input_file_for_test/mirai.pcap\"\n",
    "ddos_analysis_fingerprint_filter_sanitization(input_file)"
   ]
  },
  {
   "cell_type": "markdown",
   "metadata": {},
   "source": [
    "## Main for python script "
   ]
  },
  {
   "cell_type": "code",
   "execution_count": 4,
   "metadata": {},
   "outputs": [
    {
     "name": "stderr",
     "output_type": "stream",
     "text": [
      "usage: ipykernel_launcher.py [-h] --input input_file\n",
      "ipykernel_launcher.py: error: argument --input is required\n"
     ]
    },
    {
     "ename": "SystemExit",
     "evalue": "2",
     "output_type": "error",
     "traceback": [
      "An exception has occurred, use %tb to see the full traceback.\n",
      "\u001b[0;31mSystemExit\u001b[0m\u001b[0;31m:\u001b[0m 2\n"
     ]
    },
    {
     "name": "stderr",
     "output_type": "stream",
     "text": [
      "/opt/local/Library/Frameworks/Python.framework/Versions/2.7/lib/python2.7/site-packages/IPython/core/interactiveshell.py:2890: UserWarning: To exit: use 'exit', 'quit', or Ctrl-D.\n",
      "  warn(\"To exit: use 'exit', 'quit', or Ctrl-D.\", stacklevel=1)\n"
     ]
    }
   ],
   "source": [
    "if __name__ == '__main__':\n",
    "    import argparse\n",
    "    import os.path\n",
    "    \n",
    "    parser = argparse.ArgumentParser(description='')\n",
    "    \n",
    "    parser.add_argument('--input', metavar='input_file', required=True,\n",
    "                        help='Path of a input file')\n",
    "    args = parser.parse_args()\n",
    "    \n",
    "    input_file=args.input\n",
    "    \n",
    "    if os.path.isfile(input_file) == False:\n",
    "        print 'We were unable to find the file. Please check the file path!!'\n",
    "    \n",
    "        ddos_analysis_fingerprint_filter_sanitization(input_file, debug=True)"
   ]
  }
 ],
 "metadata": {
  "kernelspec": {
   "display_name": "Python 2",
   "language": "python",
   "name": "python2"
  },
  "language_info": {
   "codemirror_mode": {
    "name": "ipython",
    "version": 2
   },
   "file_extension": ".py",
   "mimetype": "text/x-python",
   "name": "python",
   "nbconvert_exporter": "python",
   "pygments_lexer": "ipython2",
   "version": "2.7.14"
  }
 },
 "nbformat": 4,
 "nbformat_minor": 2
}

{
 "cells": [
  {
   "cell_type": "code",
   "execution_count": 46,
   "metadata": {},
   "outputs": [
    {
     "name": "stdout",
     "output_type": "stream",
     "text": [
      "We were unable to find the file! Please check the file path\n"
     ]
    }
   ],
   "source": [
    "#COMMENT WHEN USING MAIN\n",
    "# input_file='input_file_for_test/2.pcap'"
   ]
  },
  {
   "cell_type": "markdown",
   "metadata": {},
   "source": [
    "## Libraries for data analysis"
   ]
  },
  {
   "cell_type": "code",
   "execution_count": 2,
   "metadata": {
    "collapsed": true
   },
   "outputs": [],
   "source": [
    "import pandas as pd\n",
    "import numpy as np"
   ]
  },
  {
   "cell_type": "markdown",
   "metadata": {},
   "source": [
    "## Functions "
   ]
  },
  {
   "cell_type": "markdown",
   "metadata": {},
   "source": [
    "### F1. Protocol number to protocol name"
   ]
  },
  {
   "cell_type": "code",
   "execution_count": 3,
   "metadata": {
    "collapsed": true
   },
   "outputs": [],
   "source": [
    "from functions.protocolnumber2name import *"
   ]
  },
  {
   "cell_type": "markdown",
   "metadata": {},
   "source": [
    "usage:"
   ]
  },
  {
   "cell_type": "code",
   "execution_count": 4,
   "metadata": {},
   "outputs": [
    {
     "data": {
      "text/plain": [
       "'UDP'"
      ]
     },
     "execution_count": 4,
     "metadata": {},
     "output_type": "execute_result"
    }
   ],
   "source": [
    "protocolnumber2name(17)"
   ]
  },
  {
   "cell_type": "markdown",
   "metadata": {},
   "source": [
    "### F2. Port number to port name "
   ]
  },
  {
   "cell_type": "code",
   "execution_count": 5,
   "metadata": {
    "collapsed": true
   },
   "outputs": [],
   "source": [
    "from functions.portnumber2name import *"
   ]
  },
  {
   "cell_type": "markdown",
   "metadata": {},
   "source": [
    "usage:"
   ]
  },
  {
   "cell_type": "code",
   "execution_count": 6,
   "metadata": {},
   "outputs": [
    {
     "data": {
      "text/plain": [
       "'DNS service port'"
      ]
     },
     "execution_count": 6,
     "metadata": {},
     "output_type": "execute_result"
    }
   ],
   "source": [
    "portnumber2name(53)"
   ]
  },
  {
   "cell_type": "markdown",
   "metadata": {},
   "source": [
    "### F3. TCP flag letter(s) to the name of the flags"
   ]
  },
  {
   "cell_type": "code",
   "execution_count": 7,
   "metadata": {
    "collapsed": true
   },
   "outputs": [],
   "source": [
    "from functions.tcpflagletters2names import *"
   ]
  },
  {
   "cell_type": "markdown",
   "metadata": {},
   "source": [
    "usage:"
   ]
  },
  {
   "cell_type": "code",
   "execution_count": 8,
   "metadata": {},
   "outputs": [
    {
     "data": {
      "text/plain": [
       "'RST'"
      ]
     },
     "execution_count": 8,
     "metadata": {},
     "output_type": "execute_result"
    }
   ],
   "source": [
    "tcpflagletters2names('R')"
   ]
  },
  {
   "cell_type": "markdown",
   "metadata": {},
   "source": [
    "### F4. Determining the type of the input file (pcap, pcapng, sflow, nfdump)\n",
    "Sometimes a tool has an extension, for example pcap, but it is another type of file, for example pcapng."
   ]
  },
  {
   "cell_type": "markdown",
   "metadata": {},
   "source": [
    "### F5. Converting packet-based input file (depending on the type of file) to dataframe"
   ]
  },
  {
   "cell_type": "code",
   "execution_count": 11,
   "metadata": {
    "collapsed": true
   },
   "outputs": [],
   "source": [
    "from functions.pcap2dataframe import *\n",
    "from functions.pcapng2dataframe import *\n",
    "from functions.sflow2dataframe import *\n",
    "# from functions.nfdump2dataframe import *"
   ]
  },
  {
   "cell_type": "markdown",
   "metadata": {},
   "source": [
    "## Converting the input file into a dataframe "
   ]
  },
  {
   "cell_type": "code",
   "execution_count": 39,
   "metadata": {
    "collapsed": true
   },
   "outputs": [],
   "source": [
    "def input2dataframe (input_file):\n",
    "    \"\"\"<short_description>\n",
    "    <more description>\n",
    "    <more description>\n",
    "    \n",
    "    :param <train_data>: <meaning>\n",
    "    :return\n",
    "    \"\"\"\n",
    "    \n",
    "    import subprocess\n",
    "    file_info, error = subprocess.Popen([\"file\",input_file], stdout=subprocess.PIPE).communicate()\n",
    "\n",
    "    if file_info.split()[1] == 'tcpdump':\n",
    "        return pcap2dataframe(input_file)\n",
    "\n",
    "    elif file_info.split()[1] == 'pcap-ng':\n",
    "        return pcapng2dataframe(input_file)\n",
    "    \n",
    "    elif 'sflow' in file_path:\n",
    "        return sflow2dataframe(input_file)\n",
    " \n",
    "    elif file_info.split()[1] == 'data' and ('nfdump' in file_path or 'nfcapd' in file_path):\n",
    "        return nfdump2dataframe(input_file)\n",
    "    \n",
    "    else:\n",
    "        print \"SORRY! We neither developed the parser for this type of file (YET) OR we recognized the format of your file!\"\n",
    "        \n",
    "    "
   ]
  },
  {
   "cell_type": "markdown",
   "metadata": {},
   "source": [
    "## DDoS attack vector (pattern) identification/recognition"
   ]
  },
  {
   "cell_type": "code",
   "execution_count": 16,
   "metadata": {
    "collapsed": true
   },
   "outputs": [],
   "source": [
    "import collections\n",
    "\n",
    "def analyse(df, debug=False, ttl_variation_threshold = 4):\n",
    "    \"\"\"\n",
    "    Analysis only top traffic stream\n",
    "\n",
    "    :param dataframe (df) containing the pcap/pcapng file converted:\n",
    "    :return (1) print the summary of attack vectors and :\n",
    "    \"\"\"\n",
    "\n",
    "    attack_case = \"-1\"\n",
    "    reflection_label=\"\"\n",
    "    spoofed_label=\"\"\n",
    "    fragment_label=\"\"\n",
    "\n",
    "    allpatterns = {\n",
    "        \"dst_ip\" : \"\",\n",
    "        \"patterns\": []\n",
    "    }    \n",
    "    \n",
    "    if debug: print \"Total number packets: \"+ str(len(df))\n",
    "    if debug: print \"\\n###################################\\nIDENTIFYING MAIN CHARACTERISTICS:\\n###################################\"\n",
    "    \n",
    "    top_ip_dst = df['ip_dst'].value_counts().index[0]\n",
    "    \n",
    "    if debug: print \"Target (destination) IP: \"+ top_ip_dst\n",
    "    allpatterns[\"dst_ip\"] = top_ip_dst\n",
    "    \n",
    "    #Restricting attacks from outside the network!\n",
    "    #df_filtered = df[(df['ip_dst'] == top_ip_dst) & ~df['ip_src'].str.contains(\".\".join(top_ip_dst.split('.')[0:2]), na=False) ]\n",
    "\n",
    "    df_filtered = df[(df['ip_dst'] == top_ip_dst) ]\n",
    "    \n",
    "    total_packets_to_target = len(df_filtered)\n",
    "    if debug: print \"Number of packets: \"+str(total_packets_to_target)    \n",
    "        \n",
    "##############################\n",
    "##############################\n",
    "    while (len(df_filtered)>0):\n",
    "        if debug: print \"\\n###################################################################################################################\"\n",
    "        result = {}\n",
    "        top_ip_proto = df[df['ip_dst'] == top_ip_dst]['ip_proto'].value_counts().index[0]\n",
    "        result['ip_protocol']=top_ip_proto\n",
    "        if debug: print \"IP protocol used in packets going to target IP: \"+str(top_ip_proto)\n",
    "        \n",
    "        df_filtered = df_filtered[df_filtered['ip_proto'] == top_ip_proto]\n",
    "\n",
    "        # Performing a first filter based on the top_ip_dst (target IP), the source IPs canNOT be from the \\16 of the\n",
    "        # target IP, and the top IP protocol that targeted the top_ip_dst\n",
    "\n",
    "        ####\n",
    "        # Calculating the number of packets after the first filter \n",
    "        total_packets_filtered = len(df_filtered)\n",
    "        if debug: print \"Number of packets: \"+str(total_packets_filtered)\n",
    "        result[\"total_nr_packets\"] = total_packets_filtered\n",
    "    \n",
    "        ####\n",
    "        # For attacks in the IP protocol level\n",
    "#!!!!!CHANGE FUNCTION\n",
    "        attack_label = protocolnumber2name(top_ip_proto) + \"-based attack\"\n",
    "        result[\"transport_protocol\"] = protocolnumber2name(top_ip_proto)\n",
    "\n",
    "        ####\n",
    "        # For attacks based on TCP or UDP, which have source and destination ports\n",
    "        if ((top_ip_proto == 6) or (top_ip_proto == 17)):\n",
    "\n",
    "            if debug: print \"\\n#############################\\nPORT FREQUENCY OF REMAINING PACKETS\\n##############################\"\n",
    "            ####\n",
    "            # Calculating the distribution of source ports based on the first filter\n",
    "            percent_src_ports = df_filtered['sport'].value_counts().divide(float(total_packets_filtered) / 100)\n",
    "\n",
    "            if debug: print \"SOURCE ports frequency\" \n",
    "            if debug: print percent_src_ports.head() \n",
    "\n",
    "            ####\n",
    "            # Calculating the distribution of destination ports after the first filter\n",
    "            percent_dst_ports = df_filtered['dport'].value_counts().divide(float(total_packets_filtered) / 100)\n",
    "            if debug: print \"\\nDESTINATION ports frequency\" \n",
    "            if debug: print percent_dst_ports.head()\n",
    "\n",
    "   #####   #####\n",
    "   #####   #####\n",
    "   #####   #####\n",
    "            #####\n",
    "            ## WARNING packets are filtered here again#####\n",
    "            # Using the top 1 (source or destination) port to analyse a pattern of packets\n",
    "            if (len(percent_src_ports) > 0) and (len(percent_dst_ports) > 0):\n",
    "                if percent_src_ports.values[0] > percent_dst_ports.values[0]:\n",
    "                    if debug: print \"\\nUsing top source port: \", percent_src_ports.keys()[0] \n",
    "                    df_pattern = df_filtered[df_filtered['sport'] == percent_src_ports.keys()[0]]\n",
    "                    result[\"selected_port\"] = \"src_\" + str(percent_src_ports.keys()[0])\n",
    "                else:\n",
    "                    if debug: print \"\\n Using top dest port: \", percent_dst_ports.keys()[0]\n",
    "                    df_pattern = df_filtered[df_filtered['dport'] == percent_dst_ports.keys()[0]]\n",
    "                    result[\"selected_port\"] = \"dst_\" + str(percent_dst_ports.keys()[0])\n",
    "            else:\n",
    "                if debug: print 'no top source/dest port' \n",
    "                return None\n",
    "\n",
    "            \n",
    "\n",
    "            #####\n",
    "            # Calculating the total number of packets involved in the attack\n",
    "            pattern_packets = len(df_pattern)\n",
    "            \n",
    "            result[\"pattern_packet_count\"] = pattern_packets\n",
    "\n",
    "            #####\n",
    "            # Calculating the percentage of the current pattern compared to the raw input file\n",
    "            representativeness = float(pattern_packets) * 100 / float(total_packets_to_target)\n",
    "            result[\"pattern_traffic_share\"] = representativeness\n",
    "            attack_label = 'In %.2f' % representativeness + \"\\n \" + attack_label\n",
    "\n",
    "            #####\n",
    "            # Checking the existence of HTTP data\n",
    "            http_data = df_pattern['http_data'].value_counts().divide(float(pattern_packets) / 100)\n",
    "\n",
    "            #####\n",
    "            # Checking the existence of TCP flags\n",
    "            percent_tcp_flags = df_pattern['tcp_flag'].value_counts().divide(float(pattern_packets) / 100)\n",
    "\n",
    "            #####\n",
    "            # Calculating the number of source IPs involved in the attack\n",
    "            ips_involved = df_pattern['ip_src'].unique()\n",
    "\n",
    "            if len(ips_involved) < 2:\n",
    "                \n",
    "                if debug: print \"\\n###################################################################################################################\"\n",
    "                if debug: print \"\\n###################################################################################################################\"\n",
    "                if debug: print \"\\n###################################################################################################################\"\n",
    "                if debug: print(\"\\nNO MORE PATTERNS\")\n",
    "                break\n",
    "            \n",
    "            if debug: print(\"\\n############################\\nPATTERN (ATTACK VECTOR) LABEL \"+ \"\\n############################\")\n",
    "            attack_label = attack_label + \"\\n\"+ str(len(ips_involved)) + \" source IPs\"\n",
    "            result[\"src_ips\"] = ips_involved.tolist()\n",
    "\n",
    "            #####\n",
    "            # Calculating the number of source IPs involved in the attack\n",
    "            result[\"start_timestamp\"] = df_pattern['timestamp'].min().item()\n",
    "            result[\"end_timestamp\"] = df_pattern['timestamp'].max().item()\n",
    "\n",
    "            ####\n",
    "            # Calculating the distribution of TTL variation (variation -> number of IPs)\n",
    "            ttl_variations = df_pattern.groupby(['ip_src'])['ip_ttl'].agg(np.ptp).value_counts().sort_index()\n",
    "    #         if debug: print('TTL variation : NR of source IPs')\n",
    "    #         if debug: print(ttl_variations)\n",
    "            ips_ttl_greater_4 = ttl_variations.groupby(np.where(ttl_variations.index > 4, '>4', ttl_variations.index)).sum()\n",
    "#             if debug: print('\\n IPs TTL variation >4')\n",
    "#             if debug: print(ips_ttl_greater_4)\n",
    "            result[\"ttl_variation\"] = ttl_variations.to_dict()\n",
    "\n",
    "            ####\n",
    "            # Calculating the distribution of IP fragments (fragmented -> percentage of packets)\n",
    "            percent_fragments = df_pattern['fragments'].value_counts().divide(float(pattern_packets) / 100)\n",
    "            ####\n",
    "            # Calculating the distribution of source ports that remains\n",
    "            percent_src_ports = df_pattern['sport'].value_counts().divide(float(pattern_packets) / 100)\n",
    "            result[\"src_ports\"] = percent_src_ports.to_dict()\n",
    "\n",
    "            ####\n",
    "            # Calculating the distribution of destination ports after the first filter\n",
    "            percent_dst_ports = df_pattern['dport'].value_counts().divide(float(pattern_packets) / 100)\n",
    "            result[\"dst_ports\"] = percent_dst_ports.to_dict()\n",
    "\n",
    "            ####\n",
    "            # There are 3 possibilities of attacks cases!\n",
    "            if (percent_src_ports.values[0] == 100):\n",
    "                df_filtered = df_filtered[df_filtered['sport'].isin(percent_src_ports.keys()) == False]\n",
    "                if (len(percent_dst_ports) == 1):\n",
    "                    # if debug: print(\"\\nCASE 1: 1 source port to 1 destination port\") if debug else next\n",
    "                    port_label = \"From \" + portnumber2name(\n",
    "                        percent_src_ports.keys()[0]) + \"\\n   - Against \" + portnumber2name(\n",
    "                        percent_dst_ports.keys()[0]) + \"[\" + '%.1f' % percent_dst_ports.values[0] + \"%]\"\n",
    "                else:\n",
    "                    # if debug: print(\"\\nCASE 2: 1 source port to a set of destination ports\") if debug else next\n",
    "                    if (percent_dst_ports.values[0] >= 50):\n",
    "                        port_label = \"From \" + portnumber2name(\n",
    "                            percent_src_ports.keys()[0]) + \"\\n   - Against a set of (\" + str(\n",
    "                            len(percent_dst_ports)) + \") ports, such as \" + portnumber2name(\n",
    "                            percent_dst_ports.keys()[0]) + \"[\" + '%.2f' % percent_dst_ports.values[\n",
    "                            0] + \"%]\" + \" and \" + portnumber2name(percent_dst_ports.keys()[1]) + \"[\" + '%.2f' % \\\n",
    "                                                                                                     percent_dst_ports.values[\n",
    "                                                                                                         1] + \"%]\"\n",
    "                    elif (percent_dst_ports.values[0] >= 33):\n",
    "                        port_label = \"From \" + portnumber2name(\n",
    "                            percent_src_ports.keys()[0]) + \"\\n   - Against a set of (\" + str(\n",
    "                            len(percent_dst_ports)) + \") ports, such as \" + portnumber2name(\n",
    "                            percent_dst_ports.keys()[0]) + \"[\" + '%.2f' % percent_dst_ports.values[\n",
    "                            0] + \"%]\" + \"; \" + portnumber2name(percent_dst_ports.keys()[1]) + \"[\" + '%.2f' % \\\n",
    "                                                                                                  percent_dst_ports.values[\n",
    "                                                                                                      1] + \"%], and \" + portnumber2name(\n",
    "                            percent_dst_ports.keys()[2]) + \"[\" + '%.2f' % percent_dst_ports.values[2] + \"%]\"\n",
    "                    else:\n",
    "                        port_label = \"From \" + portnumber2name(\n",
    "                            percent_src_ports.keys()[0]) + \"\\n   - Against a set of (\" + str(\n",
    "                            len(percent_dst_ports)) + \") ports, such as \" + portnumber2name(\n",
    "                            percent_dst_ports.keys()[0]) + \"[\" + '%.2f' % percent_dst_ports.values[\n",
    "                            0] + \"%]\" + \"; \" + portnumber2name(percent_dst_ports.keys()[1]) + \"[\" + '%.2f' % \\\n",
    "                                                                                                  percent_dst_ports.values[\n",
    "                                                                                                      1] + \"%], and \" + portnumber2name(\n",
    "                            percent_dst_ports.keys()[2]) + \"[\" + '%.2f' % percent_dst_ports.values[2] + \"%]\"\n",
    "            else:\n",
    "                if (len(percent_src_ports) == 1):\n",
    "                    df_filtered = df_filtered[df_filtered['sport'].isin(percent_src_ports.keys()) == False]\n",
    "\n",
    "                    # if debug: print(\"\\nCASE 1: 1 source port to 1 destination port\") if debug else next\n",
    "                    port_label = \"Using \" + portnumber2name(percent_src_ports.keys()[0]) + \"[\" + '%.1f' % \\\n",
    "                                                                                                                  percent_src_ports.values[\n",
    "                                                                                                                      0] + \"%]\" + \"\\n   - Against \" + portnumber2name(\n",
    "                        percent_dst_ports.keys()[0]) + \"[\" + '%.1f' % percent_dst_ports.values[0] + \"%]\"\n",
    "\n",
    "\n",
    "                else:\n",
    "                    # if debug: print(\"\\nCASE 3: 1 source port to a set of destination ports\") if debug else next\n",
    "                    df_filtered = df_filtered[df_filtered['sport'].isin(percent_src_ports.keys()) == False]\n",
    "\n",
    "                    if (percent_src_ports.values[0] >= 50):\n",
    "                        port_label = \"From a set of (\" + str(\n",
    "                            len(percent_src_ports)) + \") ports, such as \" + portnumber2name(\n",
    "                            percent_src_ports.keys()[0]) + \"[\" + '%.2f' % percent_src_ports.values[\n",
    "                            0] + \"%] and \" + portnumber2name(percent_src_ports.keys()[1]) + \"[\" + '%.2f' % \\\n",
    "                                                                                                percent_src_ports.values[\n",
    "                                                                                                    1] + \"%]\" + \"\\n   - Against \" + portnumber2name(\n",
    "                            percent_dst_ports.keys()[0]) + \"[\" + '%.1f' % percent_dst_ports.values[0] + \"%]\"\n",
    "                    elif (percent_src_ports.values[0] >= 33):\n",
    "                        port_label = \"From a set of (\" + str(\n",
    "                            len(percent_src_ports)) + \") ports, such as \" + portnumber2name(\n",
    "                            percent_src_ports.keys()[0]) + \"[\" + '%.2f' % percent_src_ports.values[\n",
    "                            0] + \"%], \" + portnumber2name(percent_src_ports.keys()[1]) + \"[\" + '%.2f' % \\\n",
    "                                                                                             percent_src_ports.values[\n",
    "                                                                                                 1] + \"%], and \" + portnumber2name(\n",
    "                            percent_src_ports.keys()[2]) + \"[\" + '%.2f' % percent_src_ports.values[\n",
    "                            2] + \"%]\" + \"\\n   - Against \" + portnumber2name(percent_dst_ports.keys()[0]) + \"[\" + '%.1f' % \\\n",
    "                                                                                                            percent_dst_ports.values[\n",
    "                                                                                                                0] + \"%]\"\n",
    "                    else:\n",
    "                        df_filtered = df_filtered[df_filtered['dport'].isin(percent_dst_ports.keys()) == False]\n",
    "                        port_label = \"From a set of (\" + str(\n",
    "                            len(percent_src_ports)) + \") ports, such as \" + portnumber2name(\n",
    "                            percent_src_ports.keys()[0]) + \"[\" + '%.2f' % percent_src_ports.values[\n",
    "                            0] + \"%], \" + portnumber2name(percent_src_ports.keys()[1]) + \"[\" + '%.2f' % \\\n",
    "                                                                                             percent_src_ports.values[\n",
    "                                                                                                 1] + \"%], \" + portnumber2name(\n",
    "                            percent_src_ports.keys()[2]) + \"[\" + '%.2f' % percent_src_ports.values[\n",
    "                            2] + \"%]\" + \"; and \" + portnumber2name(percent_src_ports.keys()[3]) + \"[\" + '%.2f' % \\\n",
    "                                                                                                      percent_src_ports.values[\n",
    "                                                                                                          3] + \"%]\" + \"\\n   - Against \" + portnumber2name(\n",
    "                            percent_dst_ports.keys()[0]) + \"[\" + '%.1f' % percent_dst_ports.values[0] + \"%]\"\n",
    "\n",
    "            ####\n",
    "            # Testing HTTP request\n",
    "#            if len(http_data) > 0 and ((percent_dst_ports.index[0] == 80) or (percent_dst_ports.index[0] == 443)):            \n",
    "            if len(http_data) > 0 :\n",
    "                attack_label = attack_label + \"; \" + http_data.index[0]\n",
    "\n",
    "            ####\n",
    "            # Testing TCP flags\n",
    "            if (len(percent_tcp_flags) > 0) and (percent_tcp_flags.values[0] > 50):\n",
    "                attack_label = attack_label + \"; TCP flags: \" + tcpflagletters2names(\n",
    "                    percent_tcp_flags.index[0]) + \"[\" + '%.1f' % percent_tcp_flags.values[0] + \"%]\"\n",
    "\n",
    "            ####\n",
    "            # IP fragmentation\n",
    "            if '1' in percent_fragments.keys():\n",
    "                if (percent_fragments['1'] > 0.3):\n",
    "                    fragment_label = \"%.2f\" % percent_fragments['1'] + \"packets with fragments marked\"\n",
    "                    result[\"fragmented\"] = True\n",
    "\n",
    "            ####\n",
    "            # IP spoofing (if (more than 0) src IPs had the variation of the ttl higher than a treshold)\n",
    "            if '>4' in ips_ttl_greater_4.keys():\n",
    "                if (ips_ttl_greater_4['>4'] > len(ips_involved)*0.1 ):\n",
    "                    result[\"spoofed\"]=True\n",
    "                    spoofed_label = \"Likely involving spoofed IPs\"\n",
    "                else:\n",
    "                    ####involved in \n",
    "                    # Reflection and Amplification\n",
    "##!!!! include the possibility to check top src_ips open port (censys) \n",
    "                    if percent_src_ports.values[0] >= 1:\n",
    "                        result[\"reflected\"]=True\n",
    "                        reflection_label = \"Reflection & Amplification\"\n",
    "\n",
    "            print \"\\nSUMMARY:\\n\"\\\n",
    "                    +\"- %.2f\" % representativeness +\"% of the packets targeting \"+top_ip_dst+\"\\n\"\\\n",
    "                    +\"   - Involved \"+str(len(ips_involved))+\" source IP addresses\\n\"\\\n",
    "                    +\"   - Using IP protocol \"+protocolnumber2name(top_ip_proto)+\"\\n\"\\\n",
    "                    +\"   - \"+port_label+\"\\n\"\\\n",
    "                    +\"   - \"+fragment_label\\\n",
    "                    +\"   - \"+reflection_label\\\n",
    "                    +\"   - \"+spoofed_label\n",
    "            \n",
    "            allpatterns[\"patterns\"].append(result)\n",
    "\n",
    "\n",
    "    return allpatterns"
   ]
  },
  {
   "cell_type": "markdown",
   "metadata": {},
   "source": [
    "<h1 align='center'> !!!!!!!!!!!!!!!!!!!!!!!!!!!!!!!!!!!!!!!!!!!!!!!!!!!!!!!!!!!!!!!!!!!!!!!!!!!!!!!!!!!!!!!!!!!!!!!!!!!!!!!!!!!!<br>  THE DEMO <br>!!!!!!!!!!!!!!!!!!!!!!!!!!!!!!!!!!!!!!!!!!!!!!!!!!!!!!!!!!!!!!!!!!!!!!!!!!!!!!!!!!!!!!!!!!!!!!!!!!!!!!</h1>\n"
   ]
  },
  {
   "cell_type": "markdown",
   "metadata": {},
   "source": [
    "- 1: UDP attack against HTTP (~0.2'')\n",
    "- 2: NTP  against HTTP (~20'')\n",
    "- 3: Multi-vector attack (DNS reflection and netbios) (1' 20'')"
   ]
  },
  {
   "cell_type": "code",
   "execution_count": 17,
   "metadata": {},
   "outputs": [
    {
     "name": "stdout",
     "output_type": "stream",
     "text": [
      "Total number packets: 3739\n",
      "\n",
      "###################################\n",
      "IDENTIFYING MAIN CHARACTERISTICS:\n",
      "###################################\n",
      "Target (destination) IP: 172.31.28.132\n",
      "Number of packets: 2559\n",
      "\n",
      "###################################################################################################################\n",
      "IP protocol used in packets going to target IP: 17\n",
      "Number of packets: 2547\n",
      "\n",
      "#############################\n",
      "PORT FREQUENCY OF REMAINING PACKETS\n",
      "##############################\n",
      "SOURCE ports frequency\n",
      "53       46.014920\n",
      "32817    23.557126\n",
      "1900     15.508441\n",
      "2051      5.261091\n",
      "3326      4.004711\n",
      "Name: sport, dtype: float64\n",
      "\n",
      "DESTINATION ports frequency\n",
      "80       53.985080\n",
      "53680     0.235571\n",
      "49105     0.235571\n",
      "50027     0.157048\n",
      "48615     0.157048\n",
      "Name: dport, dtype: float64\n",
      "\n",
      " Using top dest port:  80\n",
      "['200.45.216.96' '171.37.157.18' '122.137.117.247' '180.123.27.16'\n",
      " '124.236.1.161' '184.43.33.18' '184.39.242.182' '124.125.46.8'\n",
      " '172.3.83.62' '162.198.246.54' '162.233.186.54' '172.6.53.230'\n",
      " '172.12.42.206' '172.5.178.166' '162.233.186.158' '172.6.53.94'\n",
      " '172.13.243.182' '172.6.52.118' '172.13.23.118' '172.3.83.198'\n",
      " '172.14.81.70' '172.10.106.230' '162.224.246.30' '172.10.98.222'\n",
      " '162.196.242.62' '172.10.3.246' '162.203.12.182']\n",
      "\n",
      "############################\n",
      "PATTERN (ATTACK VECTOR) LABEL \n",
      "############################\n",
      "\n",
      "SUMMARY:\n",
      "- 53.73% of the packets targeting 172.31.28.132\n",
      "   - Involved 27 source IP addresses\n",
      "   - Using IP protocol UDP\n",
      "   - From a set of (14) ports, such as port 32817[43.64%], SSDP service port[28.73%], and port 2051[9.75%]\n",
      "   - Against HTTP service port[100.0%]\n",
      "   -    -    - \n",
      "\n",
      "###################################################################################################################\n",
      "IP protocol used in packets going to target IP: 17\n",
      "Number of packets: 1172\n",
      "\n",
      "#############################\n",
      "PORT FREQUENCY OF REMAINING PACKETS\n",
      "##############################\n",
      "SOURCE ports frequency\n",
      "53    100.0\n",
      "Name: sport, dtype: float64\n",
      "\n",
      "DESTINATION ports frequency\n",
      "49105    0.511945\n",
      "53680    0.511945\n",
      "48615    0.341297\n",
      "50027    0.341297\n",
      "38325    0.341297\n",
      "Name: dport, dtype: float64\n",
      "\n",
      "Using top source port:  53\n",
      "['172.31.0.2']\n",
      "\n",
      "###################################################################################################################\n",
      "\n",
      "###################################################################################################################\n",
      "\n",
      "###################################################################################################################\n",
      "\n",
      "NO MORE PATTERNS\n"
     ]
    }
   ],
   "source": [
    "# COMMENT THIS FOR THE MAIN\n",
    "# allpatterns = analyse(df, True)"
   ]
  },
  {
   "cell_type": "markdown",
   "metadata": {},
   "source": [
    "\n",
    "# Let's take a look on the attack pattern!!!!"
   ]
  },
  {
   "cell_type": "code",
   "execution_count": null,
   "metadata": {
    "collapsed": true
   },
   "outputs": [],
   "source": [
    "# print allpatterns.keys()\n",
    "# # print \"\\n\"\n",
    "# print allpatterns['patterns'][0].keys()"
   ]
  },
  {
   "cell_type": "code",
   "execution_count": null,
   "metadata": {
    "collapsed": true
   },
   "outputs": [],
   "source": [
    "# allpatterns['patterns'][0]['src_ports']"
   ]
  },
  {
   "cell_type": "code",
   "execution_count": null,
   "metadata": {
    "collapsed": true
   },
   "outputs": [],
   "source": [
    "# allpatterns['patterns'][0]['dst_ports']"
   ]
  },
  {
   "cell_type": "code",
   "execution_count": null,
   "metadata": {
    "collapsed": true
   },
   "outputs": [],
   "source": [
    "# allpatterns['patterns'][0]['src_ips']"
   ]
  },
  {
   "cell_type": "code",
   "execution_count": null,
   "metadata": {
    "collapsed": true
   },
   "outputs": [],
   "source": [
    "# allpatterns['dst_ip']"
   ]
  },
  {
   "cell_type": "code",
   "execution_count": 42,
   "metadata": {},
   "outputs": [
    {
     "name": "stderr",
     "output_type": "stream",
     "text": [
      "usage: ipykernel_launcher.py [-h] --input input_file\n",
      "ipykernel_launcher.py: error: argument --input is required\n"
     ]
    },
    {
     "ename": "SystemExit",
     "evalue": "2",
     "output_type": "error",
     "traceback": [
      "An exception has occurred, use %tb to see the full traceback.\n",
      "\u001b[0;31mSystemExit\u001b[0m\u001b[0;31m:\u001b[0m 2\n"
     ]
    }
   ],
   "source": [
    "if __name__ == '__main__':\n",
    "    import argparse\n",
    "    import os.path\n",
    "    \n",
    "    parser = argparse.ArgumentParser(description='Create a ArcHydro schema')\n",
    "    \n",
    "    parser.add_argument('--input', metavar='input_file', required=True,\n",
    "                        help='the path of a input file')\n",
    "    args = parser.parse_args()\n",
    "    \n",
    "    input_file=args.input\n",
    "    \n",
    "    if os.path.isfile(input_file) == False:\n",
    "        print 'We were unable to find the file. Please check the file path!!'\n",
    "    \n",
    "    df = input2dataframe (input_file)\n",
    "        \n",
    "    allpatterns = analyse(df, debug=False, ttl_variation_threshold = 4)\n",
    "\n",
    "    print allpatterns"
   ]
  },
  {
   "cell_type": "code",
   "execution_count": null,
   "metadata": {
    "collapsed": true
   },
   "outputs": [],
   "source": []
  }
 ],
 "metadata": {
  "kernelspec": {
   "display_name": "Python 2",
   "language": "python",
   "name": "python2"
  },
  "language_info": {
   "codemirror_mode": {
    "name": "ipython",
    "version": 2
   },
   "file_extension": ".py",
   "mimetype": "text/x-python",
   "name": "python",
   "nbconvert_exporter": "python",
   "pygments_lexer": "ipython2",
   "version": "2.7.14"
  },
  "widgets": {
   "state": {},
   "version": "1.1.2"
  }
 },
 "nbformat": 4,
 "nbformat_minor": 1
}

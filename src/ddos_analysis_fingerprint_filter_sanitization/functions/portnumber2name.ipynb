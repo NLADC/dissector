{
 "cells": [
  {
   "cell_type": "code",
   "execution_count": 1,
   "metadata": {
    "collapsed": true
   },
   "outputs": [],
   "source": [
    "import pandas as pd\n",
    "\n",
    "df_port_name = pd.read_csv('functions/port_name.txt',delimiter=\",\", names=['port_num','port_name'])\n",
    "\n",
    "def portnumber2name(port_number):\n",
    "    try:\n",
    "        return df_port_name[df_port_name['port_num']==port_number]['port_name'].values[0]+\" service port\"\n",
    "    except:\n",
    "        return \"port \"+str(int(port_number))"
   ]
  }
 ],
 "metadata": {
  "kernelspec": {
   "display_name": "Python 2",
   "language": "python",
   "name": "python2"
  },
  "language_info": {
   "codemirror_mode": {
    "name": "ipython",
    "version": 2
   },
   "file_extension": ".py",
   "mimetype": "text/x-python",
   "name": "python",
   "nbconvert_exporter": "python",
   "pygments_lexer": "ipython2",
   "version": "2.7.14"
  }
 },
 "nbformat": 4,
 "nbformat_minor": 2
}

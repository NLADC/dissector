{
 "cells": [
  {
   "cell_type": "code",
   "execution_count": null,
   "metadata": {},
   "outputs": [],
   "source": [
    "import subprocess\n",
    "import random\n",
    "import os"
   ]
  },
  {
   "cell_type": "code",
   "execution_count": null,
   "metadata": {},
   "outputs": [],
   "source": [
    "def tcpdump_filter_anon(input_file, pattern, dst_ip):\n",
    "\n",
    "\n",
    "    # Filtering based on host/proto and ports\n",
    "    if len(pattern['src_ports']) > 1:\n",
    "        filter_out = \"dst host \" + dst_ip + \" and proto \" + str(pattern['ip_protocol']) + \" and dst port \" + str(pattern[\"dst_ports\"].keys()[0])\n",
    "    elif len(pattern['dst_ports']) > 1:\n",
    "        filter_out = \"dst host \" + dst_ip + \" and proto \" + str(pattern['ip_protocol']) + \" and src port \" + str(pattern[\"src_ports\"].keys()[0])\n",
    "        \n",
    "    #proper filename based on start timestamp and selected port\n",
    "    filename = str(int(pattern[\"start_timestamp\"])) + \"_\" + str(pattern[\"selected_port\"]) + \".pcap\"\n",
    "    \n",
    "    \n",
    "    p = subprocess.Popen([\"tcpdump -r \" + input_file + \" -w output/temp \" + filter_out], shell=True, stdout=subprocess.PIPE)\n",
    "    p.communicate()\n",
    "    p.wait()\n",
    "    \n",
    "    #running bittwiste for anonymizing destination ip\n",
    "    p = subprocess.Popen([\"bittwiste -I \" + \"output/temp \" + \" -O output/\" + filename + \" -T ip -d \" + dst_ip + \",1.1.1.1\"], shell=True, stdout=subprocess.PIPE)\n",
    "    p.communicate()\n",
    "    p.wait()\n",
    "    \n",
    "    #remove temporary file after anonymization took place\n",
    "    p = subprocess.Popen([\"rm -rf output/temp\"], shell=True, stdout=subprocess.PIPE)\n",
    "    p.communicate()\n",
    "    p.wait()\n",
    "    \n",
    "    \n",
    "    return \"Attack vector created and anonymized.\""
   ]
  },
  {
   "cell_type": "code",
   "execution_count": null,
   "metadata": {},
   "outputs": [],
   "source": []
  }
 ],
 "metadata": {
  "kernelspec": {
   "display_name": "Python 2",
   "language": "python",
   "name": "python2"
  },
  "language_info": {
   "codemirror_mode": {
    "name": "ipython",
    "version": 2
   },
   "file_extension": ".py",
   "mimetype": "text/x-python",
   "name": "python",
   "nbconvert_exporter": "python",
   "pygments_lexer": "ipython2",
   "version": "2.7.14"
  }
 },
 "nbformat": 4,
 "nbformat_minor": 2
}

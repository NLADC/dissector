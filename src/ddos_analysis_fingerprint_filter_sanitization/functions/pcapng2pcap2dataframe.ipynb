{
 "cells": [
  {
   "cell_type": "code",
   "execution_count": 3,
   "metadata": {
    "collapsed": true
   },
   "outputs": [],
   "source": [
    "import os\n",
    "import subprocess\n",
    "from pcap2dataframe import *"
   ]
  },
  {
   "cell_type": "code",
   "execution_count": 14,
   "metadata": {
    "collapsed": true
   },
   "outputs": [],
   "source": [
    "def pcapng2pcap2dataframe(file_name):\n",
    "    \"\"\"\n",
    "    Read PCAPNG, converts to PCAP, and produce Pandas dataframe\n",
    "    using dpkt (that is ONLY in python2).\n",
    "    dpkt is faster than using tshark and python-scapy\n",
    "    dpkt is slower than tcpdump but easier to get specific values of the pcap\n",
    "    \"\"\"\n",
    "    \n",
    "    #'1. Converting pcapng to pcap.'\n",
    "    p = subprocess.Popen([\"editcap -F libpcap -T ether \" + file_name + \" temp.pcap\"], shell=True, stdout=subprocess.PIPE)\n",
    "    p.communicate()\n",
    "    p.wait()\n",
    "    \n",
    "    if os.path.isfile(\"temp.pcap\") == False:\n",
    "        print \"temp_file.pcap NOT created?!\"\n",
    "        \n",
    "    #'2. Converting pcap to pandas dataframe.'\n",
    "    df = pcap2dataframe (\"temp.pcap\")\n",
    "    \n",
    "    p = subprocess.Popen([\"rm functions/temp.pcap\"], shell=True, stdout=subprocess.PIPE)\n",
    "    p.communicate()\n",
    "    p.wait()\n",
    "    \n",
    "    return df"
   ]
  }
 ],
 "metadata": {
  "kernelspec": {
   "display_name": "Python 2",
   "language": "python",
   "name": "python2"
  },
  "language_info": {
   "codemirror_mode": {
    "name": "ipython",
    "version": 2
   },
   "file_extension": ".py",
   "mimetype": "text/x-python",
   "name": "python",
   "nbconvert_exporter": "python",
   "pygments_lexer": "ipython2",
   "version": "2.7.14"
  }
 },
 "nbformat": 4,
 "nbformat_minor": 2
}

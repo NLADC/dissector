{
 "cells": [
  {
   "cell_type": "code",
   "execution_count": 1,
   "metadata": {
    "collapsed": true
   },
   "outputs": [],
   "source": [
    "import subprocess\n",
    "from pcap2dataframe import *\n",
    "from pcapng2pcap2dataframe import *\n",
    "from netflow2dataframe import *"
   ]
  },
  {
   "cell_type": "code",
   "execution_count": 2,
   "metadata": {
    "collapsed": true
   },
   "outputs": [],
   "source": [
    "def input2dataframe (input_file):\n",
    "    \"\"\"<short_description>\n",
    "    <more description>\n",
    "    <more description>\n",
    "    \n",
    "    :param <train_data>: <meaning>\n",
    "    :return\n",
    "    \"\"\"\n",
    "    \n",
    "    file_info, error = subprocess.Popen([\"file\",input_file], stdout=subprocess.PIPE).communicate()\n",
    "\n",
    "    if file_info.split()[1] == 'tcpdump':\n",
    "        return pcap2dataframe(input_file)\n",
    "\n",
    "    elif file_info.split()[1] == 'pcap-ng':\n",
    "        return pcapng2pcap2dataframe(input_file)\n",
    "    \n",
    "    #elif 'sflow' in file_path:\n",
    "    elif 'sflow' in file_info:\n",
    "        return sflow2dataframe(input_file)\n",
    " \n",
    "    #elif file_info.split()[1] == 'data' and ('nfdump' in file_path or 'nfcapd' in file_path):\n",
    "    elif file_info.split()[1] == 'data' and ('nfdump' in file_info or 'nfcapd' in file_info):\n",
    "        return netflow2dataframe(input_file)\n",
    "    \n",
    "    else:\n",
    "        print \"SORRY! We neither developed the parser for this type of file (YET) OR we recognized the format of your file!\"\n",
    "        \n",
    "    "
   ]
  }
 ],
 "metadata": {
  "kernelspec": {
   "display_name": "Python 2",
   "language": "python",
   "name": "python2"
  },
  "language_info": {
   "codemirror_mode": {
    "name": "ipython",
    "version": 2
   },
   "file_extension": ".py",
   "mimetype": "text/x-python",
   "name": "python",
   "nbconvert_exporter": "python",
   "pygments_lexer": "ipython2",
   "version": "2.7.14"
  }
 },
 "nbformat": 4,
 "nbformat_minor": 2
}

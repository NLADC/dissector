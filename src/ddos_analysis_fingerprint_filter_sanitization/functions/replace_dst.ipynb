{
 "cells": [
  {
   "cell_type": "code",
   "execution_count": 1,
   "metadata": {},
   "outputs": [],
   "source": [
    "import pandas\n",
    "import subprocess\n",
    "\n",
    "def replace_ipindf(df,dst_ip):\n",
    "    df.replace(\n",
    "        to_replace=dst_ip,\n",
    "        value='8.8.8.8', #any value you wish to replace it to\n",
    "        inplace=True,\n",
    "        limit=None,\n",
    "        regex=False, \n",
    "        method='pad',\n",
    "        axis=None)\n",
    "    \n",
    "    return\n",
    "\n",
    "\n",
    "\n",
    "def replace_ipinpcap(input_pcap,ip):\n",
    "    p = subprocess.Popen([\"bittwiste -I \" + input_pcap + \" -O output/replaced_ip.pcap -T ip -d \" + ip + \",1.1.1.1\"], shell=True, stdout=subprocess.PIPE)\n",
    "    p.communicate()\n",
    "    p.wait()\n",
    "    \n",
    "    print \"IP replaced\"\n",
    "    return\n",
    "\n",
    "\n"
   ]
  },
  {
   "cell_type": "code",
   "execution_count": null,
   "metadata": {},
   "outputs": [],
   "source": []
  }
 ],
 "metadata": {
  "kernelspec": {
   "display_name": "Python 2",
   "language": "python",
   "name": "python2"
  },
  "language_info": {
   "codemirror_mode": {
    "name": "ipython",
    "version": 2
   },
   "file_extension": ".py",
   "mimetype": "text/x-python",
   "name": "python",
   "nbconvert_exporter": "python",
   "pygments_lexer": "ipython2",
   "version": "2.7.12"
  }
 },
 "nbformat": 4,
 "nbformat_minor": 2
}

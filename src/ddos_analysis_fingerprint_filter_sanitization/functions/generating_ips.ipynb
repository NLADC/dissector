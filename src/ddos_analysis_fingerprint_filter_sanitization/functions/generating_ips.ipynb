{
 "cells": [
  {
   "cell_type": "code",
   "execution_count": 1,
   "metadata": {
    "collapsed": true
   },
   "outputs": [],
   "source": [
    "import random\n",
    "\n",
    "ips =[]\n",
    "\n",
    "def generating_ips(int):\n",
    "    for x in range(0,int):\n",
    "        ip = '{}.{}.{}.{}'.format(*__import__('random').sample(range(0, 255), 4))\n",
    "        ips.append(ip) \n",
    "        \n",
    "    return ips"
   ]
  }
 ],
 "metadata": {
  "kernelspec": {
   "display_name": "Python 2",
   "language": "python",
   "name": "python2"
  },
  "language_info": {
   "codemirror_mode": {
    "name": "ipython",
    "version": 2
   },
   "file_extension": ".py",
   "mimetype": "text/x-python",
   "name": "python",
   "nbconvert_exporter": "python",
   "pygments_lexer": "ipython2",
   "version": "2.7.14"
  }
 },
 "nbformat": 4,
 "nbformat_minor": 2
}

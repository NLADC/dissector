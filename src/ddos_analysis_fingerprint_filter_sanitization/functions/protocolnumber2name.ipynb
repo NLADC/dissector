{
 "cells": [
  {
   "cell_type": "code",
   "execution_count": 2,
   "metadata": {},
   "outputs": [],
   "source": [
    "import pandas as pd\n",
    "import os"
   ]
  },
  {
   "cell_type": "code",
   "execution_count": 6,
   "metadata": {},
   "outputs": [],
   "source": [
    "def protocolnumber2name(ip_proto_number):\n",
    "    proto_path = \"ip_proto_name.txt\"\n",
    "    if os.path.isfile(proto_path) == False:\n",
    "        proto_path = \"functions/\" + proto_path\n",
    "    \n",
    "    df_ip_proto_name = pd.read_csv(proto_path, delimiter=\",\", names=['proto_num','proto_name'])\n",
    "    try:\n",
    "        return df_ip_proto_name[df_ip_proto_name['proto_num']==ip_proto_number]['proto_name'].values[0]\n",
    "    except:\n",
    "        return str(ip_proto_number)"
   ]
  }
 ],
 "metadata": {
  "kernelspec": {
   "display_name": "Python 2",
   "language": "python",
   "name": "python2"
  },
  "language_info": {
   "codemirror_mode": {
    "name": "ipython",
    "version": 2
   },
   "file_extension": ".py",
   "mimetype": "text/x-python",
   "name": "python",
   "nbconvert_exporter": "python",
   "pygments_lexer": "ipython2",
   "version": "2.7.12"
  }
 },
 "nbformat": 4,
 "nbformat_minor": 2
}

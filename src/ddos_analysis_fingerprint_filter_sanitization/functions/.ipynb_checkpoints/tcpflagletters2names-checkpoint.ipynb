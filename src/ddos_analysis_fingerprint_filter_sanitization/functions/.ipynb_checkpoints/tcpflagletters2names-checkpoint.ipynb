{
 "cells": [
  {
   "cell_type": "code",
   "execution_count": 1,
   "metadata": {},
   "outputs": [],
   "source": [
    "def tcpflagletters2names(tcp_flags_str):\n",
    "    tcp_flags=\"\"\n",
    "    try:\n",
    "        tcp_flags += (\"FIN\" if (tcp_flags_str.find('F') != -1) else next)\n",
    "    except:\n",
    "        next\n",
    "    try:\n",
    "        tcp_flags += (\"SYN\" if (tcp_flags_str.find('S')!= -1) else next)\n",
    "    except:\n",
    "        next\n",
    "\n",
    "    try:\n",
    "        tcp_flags += (\"RST\" if tcp_flags_str.find('R') != -1 else next)\n",
    "    except:\n",
    "        next\n",
    "\n",
    "    try:\n",
    "        tcp_flags += (\"PUSH\" if tcp_flags_str.find('P') != -1 else next)\n",
    "    except:\n",
    "        next\n",
    "\n",
    "    try:\n",
    "        tcp_flags += (\"ACK\" if tcp_flags_str.find('A') != -1 else next)\n",
    "    except:\n",
    "        next\n",
    "\n",
    "    try:\n",
    "        tcp_flags += (\"URG\" if tcp_flags_str.find('U') != -1 else next)\n",
    "    except:\n",
    "        next\n",
    "\n",
    "    try:\n",
    "        tcp_flags += (\"ECE\" if tcp_flags_str.find('E') != -1 else next)\n",
    "    except:\n",
    "        next\n",
    "\n",
    "    try:\n",
    "        tcp_flags += (\"CWR\" if tcp_flags_str.find('C') != -1 else next)\n",
    "    except:\n",
    "        next\n",
    "\n",
    "\n",
    "    return tcp_flags"
   ]
  }
 ],
 "metadata": {
  "kernelspec": {
   "display_name": "Python 3",
   "language": "python",
   "name": "python3"
  },
  "language_info": {
   "codemirror_mode": {
    "name": "ipython",
    "version": 3
   },
   "file_extension": ".py",
   "mimetype": "text/x-python",
   "name": "python",
   "nbconvert_exporter": "python",
   "pygments_lexer": "ipython3",
   "version": "3.6.2"
  },
  "widgets": {
   "state": {},
   "version": "1.1.2"
  }
 },
 "nbformat": 4,
 "nbformat_minor": 1
}

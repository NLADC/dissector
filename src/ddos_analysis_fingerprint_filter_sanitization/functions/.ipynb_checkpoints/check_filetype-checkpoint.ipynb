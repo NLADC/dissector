{
 "cells": [
  {
   "cell_type": "code",
   "execution_count": 3,
   "metadata": {
    "collapsed": true
   },
   "outputs": [],
   "source": [
    "def check_filetype (file_path):\n",
    "    \"\"\"<short_description>\n",
    "    <more description>\n",
    "    <more description>\n",
    "    \n",
    "    :param <train_data>: <meaning>\n",
    "    :return\n",
    "    \"\"\"\n",
    "    \n",
    "    file_info = !file $file_path\n",
    "\n",
    "    if file_info[0].split()[1] == 'tcpdump':\n",
    "        return 'pcap'\n",
    "\n",
    "    elif file_info[0].split()[1] == 'pcap-ng':\n",
    "        return 'pcapng'\n",
    "    \n",
    "    elif 'sflow' in file_path:\n",
    "        return 'sflow'\n",
    "        \n",
    "    elif file_info[0].split()[1] == 'data' and ('nfdump' in file_path or 'nfcapd' in file_path):\n",
    "        return 'nfdump'"
   ]
  },
  {
   "cell_type": "code",
   "execution_count": null,
   "metadata": {
    "collapsed": true
   },
   "outputs": [],
   "source": []
  }
 ],
 "metadata": {
  "kernelspec": {
   "display_name": "Python 2",
   "language": "python",
   "name": "python2"
  },
  "language_info": {
   "codemirror_mode": {
    "name": "ipython",
    "version": 2
   },
   "file_extension": ".py",
   "mimetype": "text/x-python",
   "name": "python",
   "nbconvert_exporter": "python",
   "pygments_lexer": "ipython2",
   "version": "2.7.14"
  }
 },
 "nbformat": 4,
 "nbformat_minor": 2
}

{
 "cells": [
  {
   "cell_type": "code",
   "execution_count": 2,
   "metadata": {
    "collapsed": true
   },
   "outputs": [],
   "source": [
    "import pandas as pd\n",
    "import numpy as np"
   ]
  },
  {
   "cell_type": "code",
   "execution_count": 3,
   "metadata": {
    "collapsed": false
   },
   "outputs": [],
   "source": [
    "df_port_name = pd.read_csv('libs/port_name.txt',delimiter=\",\", names=['port_num','port_name'])\n",
    "df_ip_proto_name = pd.read_csv('libs/ip_proto_name.txt',delimiter=\",\", names=['proto_num','proto_name'])\n",
    "\n",
    "def get_ip_proto_name(ip_proto_number):\n",
    "    try:\n",
    "        return df_ip_proto_name[df_ip_proto_name['proto_num']==ip_proto_number]['proto_name'].values[0]\n",
    "    except:\n",
    "        return str(ip_proto_number)\n",
    "\n",
    "def get_port_name(port_number):\n",
    "    try:\n",
    "        return df_port_name[df_port_name['port_num']==port_number]['port_name'].values[0]+\" service port\"\n",
    "    except:\n",
    "        return \"port \"+str(int(port_number))\n",
    "\n",
    "def get_tcp_flag_name(tcp_flags_str):\n",
    "    tcp_flags=\"\"\n",
    "    try:\n",
    "        tcp_flags += (\"FIN\" if (tcp_flags_str.find('F') != -1) else next)\n",
    "    except:\n",
    "        next\n",
    "    try:\n",
    "        tcp_flags += (\"SYN\" if (tcp_flags_str.find('S')!= -1) else next)\n",
    "    except:\n",
    "        next\n",
    "\n",
    "    try:\n",
    "        tcp_flags += (\"RST\" if tcp_flags_str.find('R') != -1 else next)\n",
    "    except:\n",
    "        next\n",
    "\n",
    "    try:\n",
    "        tcp_flags += (\"PUSH\" if tcp_flags_str.find('P') != -1 else next)\n",
    "    except:\n",
    "        next\n",
    "\n",
    "    try:\n",
    "        tcp_flags += (\"ACK\" if tcp_flags_str.find('A') != -1 else next)\n",
    "    except:\n",
    "        next\n",
    "\n",
    "    try:\n",
    "        tcp_flags += (\"URG\" if tcp_flags_str.find('U') != -1 else next)\n",
    "    except:\n",
    "        next\n",
    "\n",
    "    try:\n",
    "        tcp_flags += (\"ECE\" if tcp_flags_str.find('E') != -1 else next)\n",
    "    except:\n",
    "        next\n",
    "\n",
    "    try:\n",
    "        tcp_flags += (\"CWR\" if tcp_flags_str.find('C') != -1 else next)\n",
    "    except:\n",
    "        next\n",
    "\n",
    "\n",
    "    return tcp_flags"
   ]
  },
  {
   "cell_type": "code",
   "execution_count": null,
   "metadata": {
    "collapsed": true
   },
   "outputs": [],
   "source": []
  }
 ],
 "metadata": {
  "kernelspec": {
   "display_name": "Python 3",
   "language": "python",
   "name": "python3"
  },
  "language_info": {
   "codemirror_mode": {
    "name": "ipython",
    "version": 3
   },
   "file_extension": ".py",
   "mimetype": "text/x-python",
   "name": "python",
   "nbconvert_exporter": "python",
   "pygments_lexer": "ipython3",
   "version": "3.5.1"
  },
  "widgets": {
   "state": {},
   "version": "1.1.2"
  }
 },
 "nbformat": 4,
 "nbformat_minor": 0
}

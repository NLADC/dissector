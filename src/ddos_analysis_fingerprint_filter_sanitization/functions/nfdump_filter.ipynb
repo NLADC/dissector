{
 "cells": [
  {
   "cell_type": "code",
   "execution_count": 15,
   "metadata": {},
   "outputs": [],
   "source": [
    "def nfdump_filter(protocols = [], src_ips = [], src_ports = []):\n",
    "    \"\"\"\n",
    "    Creates an nfdump filter based on a set of characteristics\n",
    "    :param src_ips:\n",
    "    :return:\n",
    "    \"\"\"\n",
    "    # Array containing all the individual filters\n",
    "    output_filter = []\n",
    "\n",
    "    # Filter by protocol\n",
    "    if len(protocols) > 0:\n",
    "        protocol_filter = [\"proto \" + protocol for protocol in protocols]\n",
    "        output_filter.append(\" or \".join(protocol_filter))\n",
    "\n",
    "    # Filter by source IP\n",
    "    if len(src_ips) > 0:\n",
    "        src_ip_filter = [\"src ip \" + ip for ip in src_ips]\n",
    "        output_filter.append(\" or \".join(src_ip_filter))\n",
    "\n",
    "    # Filter by port number\n",
    "    if len(src_ports) > 0:\n",
    "        src_port_filter = [\"src port \" + port for port in src_ports]\n",
    "        output_filter.append(\" or \".join(src_port_filter))\n",
    "\n",
    "    return \" and \".join(output_filter)"
   ]
  },
  {
   "cell_type": "code",
   "execution_count": 24,
   "metadata": {},
   "outputs": [],
   "source": [
    "from generating_ips import *"
   ]
  },
  {
   "cell_type": "code",
   "execution_count": 43,
   "metadata": {},
   "outputs": [],
   "source": [
    "ips = generating_ips(5000)"
   ]
  },
  {
   "cell_type": "code",
   "execution_count": 44,
   "metadata": {},
   "outputs": [],
   "source": [
    "out = nfdump_filter(src_ips=ips)"
   ]
  },
  {
   "cell_type": "code",
   "execution_count": 45,
   "metadata": {},
   "outputs": [
    {
     "name": "stdout",
     "output_type": "stream",
     "text": [
      "Date first seen          Duration Proto      Src IP Addr:Port          Dst IP Addr:Port   Packets    Bytes Flows\n",
      "2015-10-11 13:46:12.594     0.000 UDP      20.18.246.170:123   ->     150.61.225.0:31765     1000    76000     1\n",
      "2015-10-11 13:53:14.026     0.000 UDP     142.178.71.174:10319 ->     150.61.225.0:22        1000    40000     1\n",
      "IP addresses anonymised\n",
      "Summary: total flows: 2, total bytes: 116000, total packets: 2000, avg bps: 2202, avg pps: 4, avg bpp: 58\n",
      "Time window: 2015-10-11 13:43:57 - 2015-10-11 14:01:45\n",
      "Total flows processed: 445226, Blocks skipped: 0, Bytes read: 24932960\n",
      "Sys: 17.312s flows/second: 25717.0    Wall: 17.487s flows/second: 25460.2   \n"
     ]
    }
   ],
   "source": [
    "!nfdump -r ../input_file_for_test/prod-flow-anon-008.nfdump '$out'"
   ]
  },
  {
   "cell_type": "code",
   "execution_count": 1,
   "metadata": {},
   "outputs": [],
   "source": []
  },
  {
   "cell_type": "code",
   "execution_count": null,
   "metadata": {},
   "outputs": [],
   "source": []
  }
 ],
 "metadata": {
  "kernelspec": {
   "display_name": "Python 2",
   "language": "python",
   "name": "python2"
  },
  "language_info": {
   "codemirror_mode": {
    "name": "ipython",
    "version": 2
   },
   "file_extension": ".py",
   "mimetype": "text/x-python",
   "name": "python",
   "nbconvert_exporter": "python",
   "pygments_lexer": "ipython2",
   "version": "2.7.12"
  }
 },
 "nbformat": 4,
 "nbformat_minor": 1
}

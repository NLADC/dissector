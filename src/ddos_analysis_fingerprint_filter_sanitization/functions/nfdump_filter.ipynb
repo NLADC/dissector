{
 "cells": [
  {
   "cell_type": "code",
   "execution_count": 7,
   "metadata": {},
   "outputs": [],
   "source": [
    "import subprocess\n",
    "def nfdump_filter(input_file, pattern):\n",
    "    \"\"\"\n",
    "    Creates an nfdump filter based on a set of characteristics\n",
    "    :param src_ips:\n",
    "    :return:\n",
    "    \"\"\"\n",
    "    # Array containing all the individual filters\n",
    "    output_filter = []\n",
    "    \n",
    "    \n",
    "    # Filter by protocol\n",
    "    if len(pattern['ip_protocol']) > 0:\n",
    "        protocol_filter = [\"proto \" + pattern['ip_protocol']]\n",
    "        output_filter.append(\" or \".join(protocol_filter))\n",
    "\n",
    "    # Filter by source IP\n",
    "    if len(pattern['src_ips']) > 0:\n",
    "        src_ip_filter = [\"src ip \" + ip for ip in pattern['src_ips']]\n",
    "        output_filter.append(\" or \".join(src_ip_filter))\n",
    "\n",
    "    # Filter by port number\n",
    "    if len(pattern['src_ports']) > 0:\n",
    "        src_port_filter = [\"src port \" + str(port) for port in pattern['src_ports']]\n",
    "        output_filter.append(\" or \".join(src_port_filter))\n",
    "        \n",
    "    filter_out = \"(\" + \") and (\".join(output_filter) + \")\"\n",
    "        \n",
    "    f = open(\"/tmp/filter.out\", \"w\")\n",
    "    f.write(filter_out)\n",
    "    f.close()\n",
    "    \n",
    "    p = subprocess.Popen([\"nfdump -r \" + input_file + \" -f /tmp/filter.out -w output/vector.nfdump\"], shell=True, stdout=subprocess.PIPE)\n",
    "    p.communicate()\n",
    "    p.wait()\n",
    "    \n",
    "    print ' Done!'\n",
    "    \n",
    "    return "
   ]
  },
  {
   "cell_type": "markdown",
   "metadata": {},
   "source": [
    "The function above seems to be hitting the limitation of being single threaded, and writing the output after every filter. The execution time with 100 000 IP addresses and 65335 port numbers takes approximately 16 minutes and never exceeds 18% CPU usage, which corresponds with two cores on an eight-core system."
   ]
  },
  {
   "cell_type": "code",
   "execution_count": null,
   "metadata": {},
   "outputs": [],
   "source": []
  }
 ],
 "metadata": {
  "kernelspec": {
   "display_name": "Python 2",
   "language": "python",
   "name": "python2"
  },
  "language_info": {
   "codemirror_mode": {
    "name": "ipython",
    "version": 2
   },
   "file_extension": ".py",
   "mimetype": "text/x-python",
   "name": "python",
   "nbconvert_exporter": "python",
   "pygments_lexer": "ipython2",
   "version": "2.7.12"
  }
 },
 "nbformat": 4,
 "nbformat_minor": 1
}

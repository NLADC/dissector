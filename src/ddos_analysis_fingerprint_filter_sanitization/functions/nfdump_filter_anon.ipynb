{
 "cells": [
  {
   "cell_type": "code",
   "execution_count": null,
   "metadata": {},
   "outputs": [],
   "source": [
    "import subprocess\n",
    "import os"
   ]
  },
  {
   "cell_type": "code",
   "execution_count": null,
   "metadata": {},
   "outputs": [],
   "source": [
    "def nfdump_filter_anon(input_file, pattern, dst_ip):\n",
    "    \n",
    "    \n",
    "    # Filtering based on host/proto and ports\n",
    "    if len(pattern['src_ports']) > 1:\n",
    "        filter_out = \"dst ip \" + dst_ip + \" and proto \" + str(pattern['ip_protocol']) + \" and dst port \" + str(pattern[\"dst_ports\"].keys()[0])\n",
    "    elif len(pattern['dst_ports']) > 1:\n",
    "        filter_out = \"dst ip \" + dst_ip + \" and proto \" + str(pattern['ip_protocol']) + \" and src port \" + str(pattern[\"src_ports\"].keys()[0])\n",
    "        \n",
    "    #proper filename based on start timestamp(converted to epoch) and selected port\n",
    "    date = str(pattern[\"start_timestamp\"])[:10]\n",
    "    formatis = '%Y-%m-%d'\n",
    "    epoch = int(time.mktime(time.strptime(date, formatis)))\n",
    "\n",
    "    filename = str(epoch) + \"_\" + pattern[\"selected_port\"] + \".nfdump\"\n",
    "    \n",
    "    #running nfdump with the filters created above\n",
    "    p = subprocess.Popen([\"nfdump -r \" + input_file + \" -w output/nfdumptemp \" + \"'\" + filter_out + \"'\"], shell=True, stdout=subprocess.PIPE)\n",
    "    p.communicate()\n",
    "    p.wait()\n",
    "    #\n",
    "    #\n",
    "    #\n",
    "    #NEED to add the replacing in ips\n",
    "    #\n",
    "    #\n",
    "    #\n",
    "    return \"created nfdump temp file - NOT anonymized\""
   ]
  }
 ],
 "metadata": {
  "kernelspec": {
   "display_name": "Python 2",
   "language": "python",
   "name": "python2"
  },
  "language_info": {
   "codemirror_mode": {
    "name": "ipython",
    "version": 2
   },
   "file_extension": ".py",
   "mimetype": "text/x-python",
   "name": "python",
   "nbconvert_exporter": "python",
   "pygments_lexer": "ipython2",
   "version": "2.7.14"
  }
 },
 "nbformat": 4,
 "nbformat_minor": 2
}

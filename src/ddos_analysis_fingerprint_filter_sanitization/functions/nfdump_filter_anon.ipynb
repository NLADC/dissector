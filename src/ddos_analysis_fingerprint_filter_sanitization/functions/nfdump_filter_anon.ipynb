{
 "cells": [
  {
   "cell_type": "code",
   "execution_count": 1,
   "metadata": {
    "collapsed": true
   },
   "outputs": [],
   "source": [
    "import subprocess\n",
    "import os\n",
    "import time"
   ]
  },
  {
   "cell_type": "code",
   "execution_count": 2,
   "metadata": {
    "collapsed": true
   },
   "outputs": [],
   "source": [
    "def nfdump_filter_anon(input_file, pattern, dst_ip):\n",
    "    \n",
    "    \n",
    "    # Filtering based on host/proto and ports\n",
    "    if len(pattern['src_ports']) > 1:\n",
    "        filter_out = \"dst ip \" + dst_ip + \" and proto \" + str(pattern['ip_protocol']) + \" and dst port \" + str(pattern[\"dst_ports\"].keys()[0])\n",
    "    else:\n",
    "        filter_out = \"dst ip \" + dst_ip + \" and proto \" + str(pattern['ip_protocol']) + \" and src port \" + str(pattern[\"src_ports\"].keys()[0])\n",
    "        \n",
    "    #proper filename based on start timestamp and selected port\n",
    "    timestamp = pattern[\"start_timestamp\"].split()\n",
    "    filename =  timestamp[0].replace(\"-\", \"\") + timestamp[1].replace(\":\", \"\") + \"_\" + str(pattern[\"selected_port\"]) + \".nfdump\"\n",
    "    \n",
    "    p = subprocess.Popen([\"functions/nfdump_modified/bin/nfdump -r \" + input_file + \" -w output/nfdumptemp \" + \"'\" + filter_out + \"'\"], shell=True, stdout=subprocess.PIPE)\n",
    "    p.communicate()\n",
    "    p.wait()\n",
    "    \n",
    "    p = subprocess.Popen([\"functions/nfdump_modified/bin/nfanon -r output/nfdumptemp -w output/\" + filename], shell=True, stdout=subprocess.PIPE)\n",
    "    p.communicate()\n",
    "    p.wait()\n",
    "    \n",
    "    p = subprocess.Popen([\"rm output/nfdumptemp\"], shell=True, stdout=subprocess.PIPE)\n",
    "    p.communicate()\n",
    "    p.wait()"
   ]
  }
 ],
 "metadata": {
  "kernelspec": {
   "display_name": "Python 2",
   "language": "python",
   "name": "python2"
  },
  "language_info": {
   "codemirror_mode": {
    "name": "ipython",
    "version": 2
   },
   "file_extension": ".py",
   "mimetype": "text/x-python",
   "name": "python",
   "nbconvert_exporter": "python",
   "pygments_lexer": "ipython2",
   "version": "2.7.14"
  }
 },
 "nbformat": 4,
 "nbformat_minor": 2
}

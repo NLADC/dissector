{
 "cells": [
  {
   "cell_type": "code",
   "execution_count": 2,
   "metadata": {
    "collapsed": true
   },
   "outputs": [],
   "source": [
    "def pcapng2dataframe(filename):\n",
    "    \"\"\"\n",
    "    Read PCAPNG, converts to PCAP, and produce Pandas dataframe\n",
    "    using dpkt (that is ONLY in python2).\n",
    "    dpkt is faster than using tshark and python-scapy\n",
    "    dpkt is slower than tcpdump but easier to get specific values of the pcap\n",
    "    \"\"\"\n",
    "    \n",
    "    #'1. Converting pcapng to pcap.'\n",
    "    !editcap -F libpcap -T ether $filename temp.pcap\n",
    "    \n",
    "    #'2. Converting pcap to pandas dataframe.'\n",
    "    df = pcap2dataframe ('temp.pcap')\n",
    "    \n",
    "    return df"
   ]
  }
 ],
 "metadata": {
  "kernelspec": {
   "display_name": "Python 2",
   "language": "python",
   "name": "python2"
  },
  "language_info": {
   "codemirror_mode": {
    "name": "ipython",
    "version": 2
   },
   "file_extension": ".py",
   "mimetype": "text/x-python",
   "name": "python",
   "nbconvert_exporter": "python",
   "pygments_lexer": "ipython2",
   "version": "2.7.14"
  }
 },
 "nbformat": 4,
 "nbformat_minor": 2
}

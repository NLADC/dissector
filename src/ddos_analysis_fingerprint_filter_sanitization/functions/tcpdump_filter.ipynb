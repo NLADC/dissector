{
 "cells": [
  {
   "cell_type": "code",
   "execution_count": 2,
   "metadata": {},
   "outputs": [],
   "source": [
    "import subprocess\n",
    "def tcpdump_filter(input_file, pattern):\n",
    "    \"\"\"\n",
    "    Creates an nfdump filter based on a set of characteristics\n",
    "    :param src_ips:\n",
    "    :return:\n",
    "    \"\"\"\n",
    "    # Array containing all the individual filters\n",
    "    output_filter = []\n",
    "    \n",
    "    \n",
    "    # Filter by protocol\n",
    "    if (pattern['ip_protocol']):\n",
    "        protocol_filter = [\"proto \" + pattern['ip_protocol']]\n",
    "        output_filter.append(\" or \".join(protocol_filter))\n",
    "\n",
    "    # Filter by source IP\n",
    "    if len(pattern['src_ips']) > 0:\n",
    "        src_ip_filter = [\"src ip \" + ip for ip in pattern['src_ips']]\n",
    "        output_filter.append(\" or \".join(src_ip_filter))\n",
    "\n",
    "    # Filter by port number\n",
    "    if len(pattern['src_ports']) > 0:\n",
    "        src_port_filter = [\"src port \" + str(port) for port in pattern['src_ports']]\n",
    "        output_filter.append(\" or \".join(src_port_filter))\n",
    "        \n",
    "    filter_out = \"(\" + \") and (\".join(output_filter) + \")\"\n",
    "        \n",
    "    f = open(\"/tmp/filter.out\", \"w\")\n",
    "    f.write(filter_out)\n",
    "    f.close()\n",
    "    \n",
    "    p = subprocess.Popen([\"cat ../input_file_for_test/1_pcap.filter | tcpdump -r \" + input_file + \" -w output/attack_vector.pcap\"],shell=True,  stdout=subprocess.PIPE)\n",
    "    p.communicate()\n",
    "    p.wait()\n",
    "    \n",
    "    print ' Done!'\n",
    "    \n",
    "    return \n",
    "\n",
    "\n"
   ]
  },
  {
   "cell_type": "code",
   "execution_count": null,
   "metadata": {},
   "outputs": [],
   "source": []
  }
 ],
 "metadata": {
  "kernelspec": {
   "display_name": "Python 2",
   "language": "python",
   "name": "python2"
  },
  "language_info": {
   "codemirror_mode": {
    "name": "ipython",
    "version": 2
   },
   "file_extension": ".py",
   "mimetype": "text/x-python",
   "name": "python",
   "nbconvert_exporter": "python",
   "pygments_lexer": "ipython2",
   "version": "2.7.12"
  }
 },
 "nbformat": 4,
 "nbformat_minor": 2
}

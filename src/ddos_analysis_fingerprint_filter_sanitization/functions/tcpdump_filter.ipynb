{
 "cells": [
  {
   "cell_type": "code",
   "execution_count": 8,
   "metadata": {},
   "outputs": [],
   "source": [
    "def tcpdump_filter(protocols = [], src_ips = [], src_ports = []):\n",
    "    \"\"\"\n",
    "    Creates an tcpdump filter based on a set of characteristics\n",
    "    :param src_ips:\n",
    "    :return:\n",
    "    \"\"\"\n",
    "    # Array containing all the individual filters\n",
    "    output_filter = []\n",
    "\n",
    "    # Filter by protocol\n",
    "    if len(protocols) > 0:\n",
    "        protocol_filter = [\"proto \" + protocol for protocol in protocols]\n",
    "        output_filter.append(\" or \".join(protocol_filter))\n",
    "\n",
    "    # Filter by source IP\n",
    "    if len(src_ips) > 0:\n",
    "        src_ip_filter = [\"src host \" + ip for ip in src_ips]\n",
    "        output_filter.append(\" or \".join(src_ip_filter))\n",
    "\n",
    "    # Filter by port number\n",
    "    if len(src_ports) > 0:\n",
    "        src_port_filter = [\"src port \" + str(port) for port in src_ports]\n",
    "        output_filter.append(\" or \".join(src_port_filter))\n",
    "\n",
    "\n",
    "    return \" and \".join(output_filter)"
   ]
  },
  {
   "cell_type": "code",
   "execution_count": 12,
   "metadata": {},
   "outputs": [],
   "source": [
    "from generating_ips import *\n",
    "#str1 = 'src host ' + ' or src host '.join(str(e) for e in generating_ips(10))\n",
    "\n",
    "ips = generating_ips(5)\n",
    "#out = tcpdump_filter(src_ips=ips)\n",
    "\n",
    "f = open(\"../input_file_for_test/1_pcap.filter\", \"w\")\n",
    "f.write(tcpdump_filter(src_ports=[x for x in range(0,65335) if x % 2 == 0], src_ips=ips))\n",
    "f.close()"
   ]
  },
  {
   "cell_type": "code",
   "execution_count": 13,
   "metadata": {},
   "outputs": [
    {
     "ename": "NameError",
     "evalue": "name 'subprocess' is not defined",
     "output_type": "error",
     "traceback": [
      "\u001b[0;31m---------------------------------------------------------------------------\u001b[0m",
      "\u001b[0;31mNameError\u001b[0m                                 Traceback (most recent call last)",
      "\u001b[0;32m<ipython-input-13-46a85890e234>\u001b[0m in \u001b[0;36m<module>\u001b[0;34m()\u001b[0m\n\u001b[1;32m      2\u001b[0m \u001b[0;31m#!tcpdump -r /home/er/Desktop/ddosdb/src/ddos_analysis_fingerprint_filter_sanitization/input_file_for_test/1.pcap '$out'\u001b[0m\u001b[0;34m\u001b[0m\u001b[0;34m\u001b[0m\u001b[0m\n\u001b[1;32m      3\u001b[0m \u001b[0;31m#!time tcpdump -r ../input_file_for_test/1.pcap -f ../input_file_for_test/1_pcap.filter -w ../input_file_for_test/1_pcap.output\u001b[0m\u001b[0;34m\u001b[0m\u001b[0;34m\u001b[0m\u001b[0m\n\u001b[0;32m----> 4\u001b[0;31m \u001b[0mp\u001b[0m \u001b[0;34m=\u001b[0m \u001b[0msubprocess\u001b[0m\u001b[0;34m.\u001b[0m\u001b[0mPopen\u001b[0m\u001b[0;34m(\u001b[0m\u001b[0;34m[\u001b[0m\u001b[0;34m\"cat ../input_file_for_test/1_pcap.filter | while read line; do tcpdump -r ../input_file_for_test/1.pcap '$line' -w ../input_file_for_test/1_pcap.output\"\u001b[0m\u001b[0;34m]\u001b[0m\u001b[0;34m,\u001b[0m \u001b[0mstdout\u001b[0m\u001b[0;34m=\u001b[0m\u001b[0msubprocess\u001b[0m\u001b[0;34m.\u001b[0m\u001b[0mPIPE\u001b[0m\u001b[0;34m)\u001b[0m\u001b[0;34m\u001b[0m\u001b[0m\n\u001b[0m\u001b[1;32m      5\u001b[0m \u001b[0;32mprint\u001b[0m \u001b[0mp\u001b[0m\u001b[0;34m.\u001b[0m\u001b[0mcommunicate\u001b[0m\u001b[0;34m(\u001b[0m\u001b[0;34m)\u001b[0m\u001b[0;34m\u001b[0m\u001b[0m\n",
      "\u001b[0;31mNameError\u001b[0m: name 'subprocess' is not defined"
     ]
    }
   ],
   "source": [
    "\n",
    "#!tcpdump -r /home/er/Desktop/ddosdb/src/ddos_analysis_fingerprint_filter_sanitization/input_file_for_test/1.pcap '$out'\n",
    "#!time tcpdump -r ../input_file_for_test/1.pcap -f ../input_file_for_test/1_pcap.filter -w ../input_file_for_test/1_pcap.output\n",
    "p = subprocess.Popen([\"cat ../input_file_for_test/1_pcap.filter | while read line; do tcpdump -r ../input_file_for_test/1.pcap '$line' -w ../input_file_for_test/1_pcap.output\"], stdout=subprocess.PIPE)\n",
    "print p.communicate()\n"
   ]
  },
  {
   "cell_type": "code",
   "execution_count": null,
   "metadata": {},
   "outputs": [],
   "source": []
  }
 ],
 "metadata": {
  "kernelspec": {
   "display_name": "Python 2",
   "language": "python",
   "name": "python2"
  },
  "language_info": {
   "codemirror_mode": {
    "name": "ipython",
    "version": 2
   },
   "file_extension": ".py",
   "mimetype": "text/x-python",
   "name": "python",
   "nbconvert_exporter": "python",
   "pygments_lexer": "ipython2",
   "version": "2.7.12"
  }
 },
 "nbformat": 4,
 "nbformat_minor": 2
}

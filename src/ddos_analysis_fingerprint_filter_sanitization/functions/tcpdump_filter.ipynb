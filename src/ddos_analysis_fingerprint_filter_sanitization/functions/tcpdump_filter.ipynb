{
 "cells": [
  {
   "cell_type": "code",
   "execution_count": 13,
   "metadata": {},
   "outputs": [],
   "source": [
    "def tcpdump_filter(protocols = [], src_ips = [], src_ports = []):\n",
    "    \"\"\"\n",
    "    Creates an tcpdump filter based on a set of characteristics\n",
    "    :param src_ips:\n",
    "    :return:\n",
    "    \"\"\"\n",
    "    # Array containing all the individual filters\n",
    "    output_filter = []\n",
    "\n",
    "    # Filter by protocol\n",
    "    if len(protocols) > 0:\n",
    "        protocol_filter = [\"proto \" + protocol for protocol in protocols]\n",
    "        output_filter.append(\" or \".join(protocol_filter))\n",
    "\n",
    "    # Filter by source IP\n",
    "    if len(src_ips) > 0:\n",
    "        src_ip_filter = [\"src host \" + ip for ip in src_ips]\n",
    "        output_filter.append(\" or \".join(src_ip_filter))\n",
    "\n",
    "    # Filter by port number\n",
    "    if len(src_ports) > 0:\n",
    "        src_port_filter = [\"src port \" + port for port in src_ports]\n",
    "        output_filter.append(\" or \".join(src_port_filter))\n",
    "\n",
    "\n",
    "    return \" and \".join(output_filter)"
   ]
  },
  {
   "cell_type": "code",
   "execution_count": 25,
   "metadata": {},
   "outputs": [],
   "source": [
    "from generating_ips import *\n",
    "#str1 = 'src host ' + ' or src host '.join(str(e) for e in generating_ips(10))\n",
    "\n",
    "ips = generating_ips(5)\n",
    "out = tcpdump_filter(src_ips=ips)"
   ]
  },
  {
   "cell_type": "code",
   "execution_count": 24,
   "metadata": {},
   "outputs": [
    {
     "name": "stdout",
     "output_type": "stream",
     "text": [
      "reading from file /home/er/Desktop/ddosdb/src/ddos_analysis_fingerprint_filter_sanitization/input_file_for_test/1.pcap, link-type EN10MB (Ethernet)\r\n"
     ]
    }
   ],
   "source": [
    "!tcpdump -r /home/er/Desktop/ddosdb/src/ddos_analysis_fingerprint_filter_sanitization/input_file_for_test/1.pcap '$out'"
   ]
  },
  {
   "cell_type": "code",
   "execution_count": null,
   "metadata": {},
   "outputs": [],
   "source": []
  }
 ],
 "metadata": {
  "kernelspec": {
   "display_name": "Python 2",
   "language": "python",
   "name": "python2"
  },
  "language_info": {
   "codemirror_mode": {
    "name": "ipython",
    "version": 2
   },
   "file_extension": ".py",
   "mimetype": "text/x-python",
   "name": "python",
   "nbconvert_exporter": "python",
   "pygments_lexer": "ipython2",
   "version": "2.7.12"
  }
 },
 "nbformat": 4,
 "nbformat_minor": 2
}

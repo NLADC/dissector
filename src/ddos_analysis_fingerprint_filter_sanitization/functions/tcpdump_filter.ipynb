{
 "cells": [
  {
   "cell_type": "code",
   "execution_count": null,
   "metadata": {},
   "outputs": [],
   "source": [
    "import subprocess\n",
    "import random\n",
    "import os"
   ]
  },
  {
   "cell_type": "code",
   "execution_count": 1,
   "metadata": {},
   "outputs": [],
   "source": [
    "def tcpdump_filter(input_file, pattern):\n",
    "    \"\"\"\n",
    "    Creates an nfdump filter based on a set of characteristics\n",
    "    :param src_ips:\n",
    "    :return:\n",
    "    \"\"\"\n",
    "    # Array containing all the individual filters\n",
    "    output_filter = []\n",
    "    \n",
    "    \n",
    "    # Filter by protocol\n",
    "    if (pattern['ip_protocol']):\n",
    "        protocol_filter = [\"proto \" + str(pattern['ip_protocol'])]\n",
    "        output_filter.append(\" or \".join(protocol_filter))\n",
    "\n",
    "    # Filter by source IP\n",
    "    if len(pattern['src_ips']) > 0:\n",
    "        src_ip_filter = [\"src ip \" + ip for ip in pattern['src_ips']]\n",
    "        output_filter.append(\" or \".join(src_ip_filter))\n",
    "\n",
    "    # Filter by port number\n",
    "    if len(pattern['src_ports']) > 0:\n",
    "        src_port_filter = [\"src port \" + str(port) for port in pattern['src_ports']]\n",
    "        output_filter.append(\" or \".join(src_port_filter))\n",
    "        \n",
    "    filter_out = \"(\" + \") and (\".join(output_filter) + \")\"\n",
    "     \n",
    "    while(1):\n",
    "        nonce = str(random.randrange(0, 1000, 1))\n",
    "        output_vector = \"attack_vector_\" + nonce\n",
    "        if os.path.isfile(output_vector) == False:\n",
    "            break\n",
    "    \n",
    "    filter_path = \"/tmp/filter\" + nonce\n",
    "    f = open(filter_path, \"w\")\n",
    "    f.write(filter_out)\n",
    "    f.close()\n",
    "    \n",
    "    p = subprocess.Popen([\"cat \" + filter_path + \" | tcpdump -r \" + input_file + \" -w output/\" + output_vector + \".pcap\"], shell=True, stdout=subprocess.PIPE)\n",
    "    p.communicate()\n",
    "    p.wait()\n",
    "    \n",
    "    print ' Done!'\n",
    "    \n",
    "    return nonce"
   ]
  }
 ],
 "metadata": {
  "kernelspec": {
   "display_name": "Python 2",
   "language": "python",
   "name": "python2"
  },
  "language_info": {
   "codemirror_mode": {
    "name": "ipython",
    "version": 2
   },
   "file_extension": ".py",
   "mimetype": "text/x-python",
   "name": "python",
   "nbconvert_exporter": "python",
   "pygments_lexer": "ipython2",
   "version": "2.7.12"
  }
 },
 "nbformat": 4,
 "nbformat_minor": 2
}

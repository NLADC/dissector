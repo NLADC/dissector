{
 "cells": [
  {
   "cell_type": "code",
   "execution_count": 1,
   "metadata": {
    "collapsed": true
   },
   "outputs": [],
   "source": [
    "import os\n",
    "import pandas\n",
    "import subprocess\n",
    "import numpy\n",
    "import time"
   ]
  },
  {
   "cell_type": "code",
   "execution_count": 2,
   "metadata": {
    "collapsed": true
   },
   "outputs": [],
   "source": [
    "def netflow2dataframe(file_input, method):\n",
    "\n",
    "    temp_file_path = \"/tmp/nflow.csv\"\n",
    "\n",
    "    #Convert nflow to csv\n",
    "    p = subprocess.Popen([\"nfdump -r \" + file_input + \" -o \" + method + \" -o csv > \" + temp_file_path], shell=True, stdout=subprocess.PIPE)\n",
    "    file_info, error = p.communicate()\n",
    "    p.wait()\n",
    "    \n",
    "    columns = [ 'start_time', #ts,\n",
    "                'end_time',# te,\n",
    "                'time duration',#td,\n",
    "                'src_ip',#sa,\n",
    "                'dst_ip',#da,\n",
    "                'src_port',#sp,\n",
    "                'dst_port',#dp,\n",
    "                'ip_proto',#pr,\n",
    "                'tcp_flag',#flg,\n",
    "                'forwarding',#fwd,\n",
    "                'src_tos',#stos,\n",
    "                'i_packets',#ipkt,\n",
    "                'i_bytes',#ibyt,\n",
    "                'o_packets',#opkt,\n",
    "                'o_bytes',#obyt,\n",
    "                'i_interface_num',#in,\n",
    "                'o_interface_num',#out,\n",
    "                'src_as',#sas,\n",
    "                'dst_as',#das,\n",
    "                'src_mask',#smk,\n",
    "                'dst_mask',#dmk,\n",
    "                'dst_tos',#dtos,\n",
    "                'direction',#dir,\n",
    "                'next_hop_ip',#nh,\n",
    "                'bgt_next_hop_ip',#enhb,\n",
    "                'src_vlan_label',#svln,\n",
    "                'dst_vlan_label',#dvln,\n",
    "                'i_src_mac',#ismc,\n",
    "                'o_dst_mac',#odmc,\n",
    "                'i_dst_mac',#idmc,\n",
    "                'o_src_mac',#osmc,\n",
    "                'mpls1',\n",
    "                'mpls2',\n",
    "                'mpls3',\n",
    "                'mpls4',\n",
    "                'mpls5',\n",
    "                'mpls6',\n",
    "                'mpls7',\n",
    "                'mpls8',\n",
    "                'mpls9',\n",
    "                'mpls10',\n",
    "                'cl',\n",
    "                'sl',\n",
    "                'al',\n",
    "                'ra',\n",
    "                'eng',\n",
    "                'exid',\n",
    "                'tr']\n",
    "    try:\n",
    "        df = pandas.read_csv(temp_file_path)\n",
    "    except Exception:\n",
    "        print Exception\n",
    "        print(\"Pandas can't read the csv flow file. Exiting.\")\n",
    "        return\n",
    "\n",
    "    summary = df.iloc[[len(df)-1]]\n",
    "    total_flows = summary.iloc[0]['ts']\n",
    "    total_bytes = summary.iloc[0]['te'] #raw_size\n",
    "    total_packets = summary.iloc[0]['td']\n",
    "    summary = [total_flows, total_bytes, total_packets]\n",
    "    \n",
    "    df.dropna(inplace=True,how='any')\n",
    "    \n",
    "    df['dp'] = df['dp'].astype('int32')\n",
    "    df['ibyt'] = df['ibyt'].astype('int32')\n",
    "    df['sp'] = df['sp'].astype('int32')\n",
    "    \n",
    "    df.columns = columns\n",
    "\n",
    "# #No need to remove. Will be used later.\n",
    "#     try:\n",
    "#         subprocess.call(\"rm \" + temp_file_path, shell=True) #Unsafe\n",
    "#     except:\n",
    "#         pass\n",
    "    \n",
    "    return (total_flows, total_packets)"
   ]
  },
  {
   "cell_type": "code",
   "execution_count": 3,
   "metadata": {
    "collapsed": true
   },
   "outputs": [],
   "source": [
    "def get_statistics(file_input):\n",
    "    extended_start = time.time()\n",
    "    netflow2dataframe(file_input, \"extended\")\n",
    "    extended_duration = time.time() - extended_start\n",
    "    long_start = time.time()\n",
    "    (total_flows, total_packets) = netflow2dataframe(file_input, \"long\")\n",
    "    long_duration = time.time() - long_start\n",
    "    return [file_input, os.path.getsize(file_input), total_flows, total_packets, extended_duration, long_duration]"
   ]
  },
  {
   "cell_type": "code",
   "execution_count": 11,
   "metadata": {
    "scrolled": false
   },
   "outputs": [
    {
     "name": "stdout",
     "output_type": "stream",
     "text": [
      "/mnt/c/Users/Koen/Documents/DDoSDB/netflowdata/1-loic-10s-9threads.pcap/nfcapd.201510091335\n",
      "/mnt/c/Users/Koen/Documents/DDoSDB/netflowdata/1-loic-10s-defaults.pcap/nfcapd.201510091330\n",
      "/mnt/c/Users/Koen/Documents/DDoSDB/netflowdata/1-loic-10s-network-3-4.pcap/nfcapd.201510141140\n",
      "/mnt/c/Users/Koen/Documents/DDoSDB/netflowdata/1-loic-10s-network-3-4.pcap/nfcapd.201510141145\n",
      "/mnt/c/Users/Koen/Documents/DDoSDB/netflowdata/1-loic-10s-network-3-5.pcap/nfcapd.201510141145\n",
      "/mnt/c/Users/Koen/Documents/DDoSDB/netflowdata/1-loic-10s.pcap/nfcapd.201509291610\n",
      "/mnt/c/Users/Koen/Documents/DDoSDB/netflowdata/1-loic-30s-tcp.pcap/nfcapd.201510091310\n",
      "/mnt/c/Users/Koen/Documents/DDoSDB/netflowdata/10-Torshammer-10s.pcap/nfcapd.201509301720\n",
      "/mnt/c/Users/Koen/Documents/DDoSDB/netflowdata/10-TorsHammer-120s-1.pcap/nfcapd.201510141525\n",
      "/mnt/c/Users/Koen/Documents/DDoSDB/netflowdata/10-TorsHammer-120s-1.pcap/nfcapd.201510141530\n",
      "/mnt/c/Users/Koen/Documents/DDoSDB/netflowdata/10-torshammer-5m.pcap/nfcapd.201510091315\n",
      "/mnt/c/Users/Koen/Documents/DDoSDB/netflowdata/10-torshammer-5m.pcap/nfcapd.201510091320\n",
      "/mnt/c/Users/Koen/Documents/DDoSDB/netflowdata/11-GoldenEYE-10s-1.pcap/nfcapd.201510141320\n",
      "/mnt/c/Users/Koen/Documents/DDoSDB/netflowdata/11-GoldenEYE-10s-2.pcap/nfcapd.201510141325\n",
      "/mnt/c/Users/Koen/Documents/DDoSDB/netflowdata/11-GoldenEYE-10s-3.pcap/nfcapd.201510141325\n",
      "/mnt/c/Users/Koen/Documents/DDoSDB/netflowdata/11-goldeneye-10s.pcap/nfcapd.201509291615\n",
      "/mnt/c/Users/Koen/Documents/DDoSDB/netflowdata/11-goldeneye-1m.pcap/nfcapd.201509291615\n",
      "/mnt/c/Users/Koen/Documents/DDoSDB/netflowdata/11-goldeneye-1m.pcap/nfcapd.201509291620\n",
      "/mnt/c/Users/Koen/Documents/DDoSDB/netflowdata/12-UDPUnicorn-10s-1.pcap/nfcapd.201510141535\n",
      "/mnt/c/Users/Koen/Documents/DDoSDB/netflowdata/12-UDPUnicorn-10s-2.pcap/nfcapd.201510141535\n",
      "/mnt/c/Users/Koen/Documents/DDoSDB/netflowdata/12-UDPUnicorn-10s-3.pcap/nfcapd.201510141535\n",
      "/mnt/c/Users/Koen/Documents/DDoSDB/netflowdata/12-UDP_Unicorn-10s-scriptkiddiescramblesettings.pcap/nfcapd.201509291635\n",
      "/mnt/c/Users/Koen/Documents/DDoSDB/netflowdata/12-UDP_Unicorn-10s.pcap/nfcapd.201509291630\n",
      "/mnt/c/Users/Koen/Documents/DDoSDB/netflowdata/15-DDoSTracer-10s-1.pcap/nfcapd.201510141550\n",
      "/mnt/c/Users/Koen/Documents/DDoSDB/netflowdata/15-DDoSTracer-10s-2.pcap/nfcapd.201510141555\n",
      "/mnt/c/Users/Koen/Documents/DDoSDB/netflowdata/15-DDos_Tracer-10s-2.pcap/nfcapd.197001010100\n",
      "/mnt/c/Users/Koen/Documents/DDoSDB/netflowdata/15-DDos_Tracer-10s.pcap/nfcapd.197001010100\n",
      "/mnt/c/Users/Koen/Documents/DDoSDB/netflowdata/16-ByteDoS-10s-1.pcap/nfcapd.201510141600\n",
      "/mnt/c/Users/Koen/Documents/DDoSDB/netflowdata/16-ByteDoS-10s-2.pcap/nfcapd.201510141600\n",
      "/mnt/c/Users/Koen/Documents/DDoSDB/netflowdata/16-ByteDoS-10s-3.pcap/nfcapd.201510141600\n",
      "/mnt/c/Users/Koen/Documents/DDoSDB/netflowdata/16-ByteDOS-10s.pcap/nfcapd.201509301410\n",
      "/mnt/c/Users/Koen/Documents/DDoSDB/netflowdata/17-TeVDoS-10s-1.pcap/nfcapd.201510141605\n",
      "/mnt/c/Users/Koen/Documents/DDoSDB/netflowdata/17-TeV_DoS-10s.pcap/nfcapd.197001010100\n",
      "/mnt/c/Users/Koen/Documents/DDoSDB/netflowdata/18-BFFDoSPing-10s-1.pcap/nfcapd.201510141605\n",
      "/mnt/c/Users/Koen/Documents/DDoSDB/netflowdata/18-BFFDoSPing-10s-2.pcap/nfcapd.201510141605\n",
      "/mnt/c/Users/Koen/Documents/DDoSDB/netflowdata/18-BFFDoSPing-10s-3.pcap/nfcapd.201510141605\n",
      "/mnt/c/Users/Koen/Documents/DDoSDB/netflowdata/18-BFF_DoS_Ping-10s-maxbytesize.pcap/nfcapd.201509301615\n",
      "/mnt/c/Users/Koen/Documents/DDoSDB/netflowdata/18-BFF_DoS_Ping-10s.pcap/nfcapd.201509301615\n",
      "/mnt/c/Users/Koen/Documents/DDoSDB/netflowdata/19-CPUDeathPing-10s-1.pcap/nfcapd.201510141610\n",
      "/mnt/c/Users/Koen/Documents/DDoSDB/netflowdata/19-CPUDeathPing-10s-2.pcap/nfcapd.201510141610\n",
      "/mnt/c/Users/Koen/Documents/DDoSDB/netflowdata/19-CPUDeathPing-10s-3.pcap/nfcapd.201510141605\n",
      "/mnt/c/Users/Koen/Documents/DDoSDB/netflowdata/19-CPUDeathPing-10s-3.pcap/nfcapd.201510141610\n",
      "/mnt/c/Users/Koen/Documents/DDoSDB/netflowdata/19-CPU_Death_Ping-10s-2.pcap/nfcapd.201509301625\n",
      "/mnt/c/Users/Koen/Documents/DDoSDB/netflowdata/19-CPU_Death_Ping-10s.pcap/nfcapd.201509301625\n",
      "/mnt/c/Users/Koen/Documents/DDoSDB/netflowdata/2-XOIC-10s-1.pcap/nfcapd.201510141240\n",
      "/mnt/c/Users/Koen/Documents/DDoSDB/netflowdata/2-XOIC-10s-2.pcap/nfcapd.201510141245\n",
      "/mnt/c/Users/Koen/Documents/DDoSDB/netflowdata/2-XOIC-10s-3.pcap/nfcapd.201510141250\n",
      "/mnt/c/Users/Koen/Documents/DDoSDB/netflowdata/2-xoic-10s.pcap/nfcapd.201509291645\n",
      "/mnt/c/Users/Koen/Documents/DDoSDB/netflowdata/23-Swiftblade-10s-1.pcap/nfcapd.201510141615\n",
      "/mnt/c/Users/Koen/Documents/DDoSDB/netflowdata/23-Swiftblade-120s-2.pcap/nfcapd.201510141615\n",
      "/mnt/c/Users/Koen/Documents/DDoSDB/netflowdata/23-Switchblade-10s.pcap/nfcapd.201509301700\n",
      "/mnt/c/Users/Koen/Documents/DDoSDB/netflowdata/24-AnonymousDoS-10s-1.pcap/nfcapd.201510141625\n",
      "/mnt/c/Users/Koen/Documents/DDoSDB/netflowdata/24-AnonymousDoS-10s-2.pcap/nfcapd.201510141620\n",
      "/mnt/c/Users/Koen/Documents/DDoSDB/netflowdata/24-AnonymousDoS-10s-3.pcap/nfcapd.201510141625\n",
      "/mnt/c/Users/Koen/Documents/DDoSDB/netflowdata/24-Anonymous_DoS-10s-2-destination.pcap/nfcapd.201509301745\n",
      "/mnt/c/Users/Koen/Documents/DDoSDB/netflowdata/24-Anonymous_DoS-10s-2.pcap/nfcapd.201509301745\n",
      "/mnt/c/Users/Koen/Documents/DDoSDB/netflowdata/24-Anonymous_DoS-10s.pcap/nfcapd.197001010100\n",
      "/mnt/c/Users/Koen/Documents/DDoSDB/netflowdata/25-Dereil-10s-1.pcap/nfcapd.201510141625\n",
      "/mnt/c/Users/Koen/Documents/DDoSDB/netflowdata/25-Dereil-10s-2.pcap/nfcapd.201510141630\n",
      "/mnt/c/Users/Koen/Documents/DDoSDB/netflowdata/25-Dereil-10s-3.pcap/nfcapd.201510141630\n",
      "/mnt/c/Users/Koen/Documents/DDoSDB/netflowdata/25-Dereil-10s-HTTP.pcap/nfcapd.201509301650\n",
      "/mnt/c/Users/Koen/Documents/DDoSDB/netflowdata/25-Dereil-10s-UDP-2.pcap/nfcapd.201510091420\n",
      "/mnt/c/Users/Koen/Documents/DDoSDB/netflowdata/25-Dereil-10s-UDP.pcap/nfcapd.201509301645\n",
      "/mnt/c/Users/Koen/Documents/DDoSDB/netflowdata/25-Dereil-10s.pcap/nfcapd.197001010100\n",
      "/mnt/c/Users/Koen/Documents/DDoSDB/netflowdata/3-HOIC-10s-1.pcap/nfcapd.201510141300\n",
      "/mnt/c/Users/Koen/Documents/DDoSDB/netflowdata/3-HOIC-10s-2.pcap/nfcapd.201510141305\n",
      "/mnt/c/Users/Koen/Documents/DDoSDB/netflowdata/3-HOIC-10s-3.pcap/nfcapd.201510141305\n",
      "/mnt/c/Users/Koen/Documents/DDoSDB/netflowdata/3-hoic-10s.pcap/nfcapd.201509291700\n",
      "/mnt/c/Users/Koen/Documents/DDoSDB/netflowdata/4-HULK-10s-1.pcap/nfcapd.201510141310\n",
      "/mnt/c/Users/Koen/Documents/DDoSDB/netflowdata/4-HULK-10s-2.pcap/nfcapd.201510141315\n",
      "/mnt/c/Users/Koen/Documents/DDoSDB/netflowdata/4-HULK-10s-3.pcap/nfcapd.201510141315\n",
      "/mnt/c/Users/Koen/Documents/DDoSDB/netflowdata/4-hulk-10s.pcap/nfcapd.201509291620\n",
      "/mnt/c/Users/Koen/Documents/DDoSDB/netflowdata/4-hulk-1m.pcap/nfcapd.201509291625\n",
      "/mnt/c/Users/Koen/Documents/DDoSDB/netflowdata/8-pyloris-10s.pcap/nfcapd.201509291725\n",
      "/mnt/c/Users/Koen/Documents/DDoSDB/netflowdata/8-Pyloris-30s-1.pcap/nfcapd.201510141335\n",
      "/mnt/c/Users/Koen/Documents/DDoSDB/netflowdata/8-pyloris-6m.pcap/nfcapd.201510061345\n",
      "/mnt/c/Users/Koen/Documents/DDoSDB/netflowdata/8-pyloris-6m.pcap/nfcapd.201510061350\n",
      "/mnt/c/Users/Koen/Documents/DDoSDB/netflowdata/9-Slowloris-10s.pcap/nfcapd.201509301710\n",
      "/mnt/c/Users/Koen/Documents/DDoSDB/netflowdata/9-Slowloris-120s-1.pcap/nfcapd.201510141340\n",
      "/mnt/c/Users/Koen/Documents/DDoSDB/netflowdata/9-Slowloris-5m.pcap/nfcapd.201509301715\n",
      "/mnt/c/Users/Koen/Documents/DDoSDB/netflowdata/9-Slowloris-5m.pcap/nfcapd.201509301720\n",
      "/mnt/c/Users/Koen/Documents/DDoSDB/netflowdata/ANON-GHPGET-S-01_2014-12-29_08_56_27.pcap/nfcapd.201412290955\n",
      "/mnt/c/Users/Koen/Documents/DDoSDB/netflowdata/ANON-GHPGET-S-01_2014-12-29_08_56_27.pcap/nfcapd.201412291000\n",
      "/mnt/c/Users/Koen/Documents/DDoSDB/netflowdata/ANON-GHPGET-S-02_2014-12-29_10_45_10.pcap/nfcapd.201412291145\n",
      "/mnt/c/Users/Koen/Documents/DDoSDB/netflowdata/ANON-GHPGET-S-02_2014-12-29_10_45_10.pcap/nfcapd.201412291150\n",
      "/mnt/c/Users/Koen/Documents/DDoSDB/netflowdata/ANON-GHPHEAD-S-01_2014-12-29_09_20_00.pcap/nfcapd.201412291020\n",
      "/mnt/c/Users/Koen/Documents/DDoSDB/netflowdata/ANON-GHPHEAD-S-02_2014-12-29_10_57_26.pcap/nfcapd.201412291155\n",
      "/mnt/c/Users/Koen/Documents/DDoSDB/netflowdata/ANON-GHPHEAD-S-02_2014-12-29_10_57_26.pcap/nfcapd.201412291200\n",
      "/mnt/c/Users/Koen/Documents/DDoSDB/netflowdata/ANON-GHPPOST-S-01_2014-12-29_10_01_26.pcap/nfcapd.201412291100\n"
     ]
    },
    {
     "name": "stdout",
     "output_type": "stream",
     "text": [
      "/mnt/c/Users/Koen/Documents/DDoSDB/netflowdata/ANON-GHPPOST-S-01_2014-12-29_10_01_26.pcap/nfcapd.201412291105\n",
      "/mnt/c/Users/Koen/Documents/DDoSDB/netflowdata/ANON-GHPPOST-S-02_2014-12-29_11_28_49.pcap/nfcapd.201412291225\n",
      "/mnt/c/Users/Koen/Documents/DDoSDB/netflowdata/ANON-GHPPOST-S-02_2014-12-29_11_28_49.pcap/nfcapd.201412291230\n",
      "/mnt/c/Users/Koen/Documents/DDoSDB/netflowdata/ANON-NTP-S-01_2014-12-22_15_23_41.pcap/nfcapd.201412221620\n",
      "/mnt/c/Users/Koen/Documents/DDoSDB/netflowdata/ANON-NTP-S-01_2014-12-22_15_23_41.pcap/nfcapd.201412221625\n",
      "/mnt/c/Users/Koen/Documents/DDoSDB/netflowdata/ANON-NTP-S-02_2014-12-23_23_01_20.pcap/nfcapd.201412240000\n",
      "/mnt/c/Users/Koen/Documents/DDoSDB/netflowdata/ANON-NTP-S-02_2014-12-23_23_01_20.pcap/nfcapd.201412240005\n",
      "/mnt/c/Users/Koen/Documents/DDoSDB/netflowdata/ANON-SLOW-S-01_2014-12-29_09_27_17.pcap/nfcapd.201412291025\n",
      "/mnt/c/Users/Koen/Documents/DDoSDB/netflowdata/ANON-SLOW-S-01_2014-12-29_09_27_17.pcap/nfcapd.201412291030\n",
      "/mnt/c/Users/Koen/Documents/DDoSDB/netflowdata/ANON-SLOW-S-02_2014-12-29_11_11_43.pcap/nfcapd.201412291210\n",
      "/mnt/c/Users/Koen/Documents/DDoSDB/netflowdata/ANON-SLOW-S-02_2014-12-29_11_11_43.pcap/nfcapd.201412291215\n",
      "/mnt/c/Users/Koen/Documents/DDoSDB/netflowdata/ANON-SRCGET-S-01_2014-12-29_09_46_11.pcap/nfcapd.201412291045\n",
      "/mnt/c/Users/Koen/Documents/DDoSDB/netflowdata/ANON-SRCGET-S-01_2014-12-29_09_46_11.pcap/nfcapd.201412291050\n",
      "/mnt/c/Users/Koen/Documents/DDoSDB/netflowdata/ANON-SRCGET-S-02_2015-04-06_09%3A53%3A00.pcap/nfcapd.201504061150\n",
      "/mnt/c/Users/Koen/Documents/DDoSDB/netflowdata/ANON-SRCGET-S-02_2015-04-06_09%3A53%3A00.pcap/nfcapd.201504061155\n",
      "/mnt/c/Users/Koen/Documents/DDoSDB/netflowdata/ANON-SRCHEAD-S-01_2014-12-29_10_17_19.pcap/nfcapd.201412291115\n",
      "/mnt/c/Users/Koen/Documents/DDoSDB/netflowdata/ANON-SRCHEAD-S-01_2014-12-29_10_17_19.pcap/nfcapd.201412291120\n",
      "/mnt/c/Users/Koen/Documents/DDoSDB/netflowdata/ANON-SRCHEAD-S-02_2015-04-06_19%3A42%3A59.pcap/nfcapd.201504062140\n",
      "/mnt/c/Users/Koen/Documents/DDoSDB/netflowdata/ANON-SRCHEAD-S-02_2015-04-06_19%3A42%3A59.pcap/nfcapd.201504062145\n",
      "/mnt/c/Users/Koen/Documents/DDoSDB/netflowdata/ANON-SRCPOST-S-01_2014-12-29_10_31_36.pcap/nfcapd.201412291130\n",
      "/mnt/c/Users/Koen/Documents/DDoSDB/netflowdata/ANON-SRCPOST-S-01_2014-12-29_10_31_36.pcap/nfcapd.201412291135\n",
      "/mnt/c/Users/Koen/Documents/DDoSDB/netflowdata/ANON-SRCPOST-S-02_2015-04-06_10%3A00%3A07.pcap/nfcapd.201504061200\n",
      "/mnt/c/Users/Koen/Documents/DDoSDB/netflowdata/ANON-SRCPOST-S-02_2015-04-06_10%3A00%3A07.pcap/nfcapd.201504061205\n",
      "/mnt/c/Users/Koen/Documents/DDoSDB/netflowdata/ANON-SSDP-S-01_2015-04-07_19_00_22.pcap/nfcapd.201504072100\n",
      "/mnt/c/Users/Koen/Documents/DDoSDB/netflowdata/ANON-SSDP-S-01_2015-04-07_19_00_22.pcap/nfcapd.201504072105\n",
      "/mnt/c/Users/Koen/Documents/DDoSDB/netflowdata/ANON-SSDP-S-02_2015-04-07_19_55_18.pcap/nfcapd.201504072155\n",
      "/mnt/c/Users/Koen/Documents/DDoSDB/netflowdata/ANON-SSDP-S-02_2015-04-07_19_55_18.pcap/nfcapd.201504072200\n",
      "/mnt/c/Users/Koen/Documents/DDoSDB/netflowdata/ANON-SSYN-S-01_2014-12-20_20_04_11.pcap/nfcapd.current.1946\n",
      "/mnt/c/Users/Koen/Documents/DDoSDB/netflowdata/ANON-UDPLAG-S-01_2014-12-20_19_48_21.pcap/nfcapd.201412202045\n",
      "/mnt/c/Users/Koen/Documents/DDoSDB/netflowdata/ANON-UDPLAG-S-01_2014-12-20_19_48_21.pcap/nfcapd.201412202050\n",
      "/mnt/c/Users/Koen/Documents/DDoSDB/netflowdata/ANON-UDPLAG-S-02_2014-12-21_20_18_30.pcap/nfcapd.201412212115\n",
      "/mnt/c/Users/Koen/Documents/DDoSDB/netflowdata/ANON-UDPLAG-S-02_2014-12-21_20_18_30.pcap/nfcapd.201412212120\n",
      "/mnt/c/Users/Koen/Documents/DDoSDB/netflowdata/ANON-XML-S-01_2014-12-29_09_12_44.pcap/nfcapd.201412291010\n",
      "/mnt/c/Users/Koen/Documents/DDoSDB/netflowdata/ANON-XML-S-01_2014-12-29_09_12_44.pcap/nfcapd.201412291015\n",
      "/mnt/c/Users/Koen/Documents/DDoSDB/netflowdata/ANON-XML-S-02_2015-04-06_20%3A01%3A24.pcap/nfcapd.201504062200\n",
      "/mnt/c/Users/Koen/Documents/DDoSDB/netflowdata/ANON-XML-S-02_2015-04-06_20%3A01%3A24.pcap/nfcapd.201504062205\n",
      "/mnt/c/Users/Koen/Documents/DDoSDB/netflowdata/BOOTIO-CHARGEN-S-01_2015-03-26_15%3A12%3A29.pcap/nfcapd.201503261610\n",
      "/mnt/c/Users/Koen/Documents/DDoSDB/netflowdata/BOOTIO-CHARGEN-S-01_2015-03-26_15%3A12%3A29.pcap/nfcapd.201503261615\n",
      "/mnt/c/Users/Koen/Documents/DDoSDB/netflowdata/BOOTIO-SSYN-S-01_2015-03-26_16%3A53%3A47.pcap/nfcapd.current.1883\n",
      "/mnt/c/Users/Koen/Documents/DDoSDB/netflowdata/BYTEDOS3_TEST.pcap/nfcapd.201510271130\n",
      "/mnt/c/Users/Koen/Documents/DDoSDB/netflowdata/CONS-UDP-S-01_2014-12-20_20_11_05.pcap/nfcapd.201412202110\n",
      "/mnt/c/Users/Koen/Documents/DDoSDB/netflowdata/CONS-UDP-S-01_2014-12-20_20_11_05.pcap/nfcapd.201412202115\n",
      "/mnt/c/Users/Koen/Documents/DDoSDB/netflowdata/CONS-UDP-S-02_2014-12-25_14_35_53.pcap/nfcapd.201412251535\n",
      "/mnt/c/Users/Koen/Documents/DDoSDB/netflowdata/CONS-UDP-S-02_2014-12-25_14_35_53.pcap/nfcapd.201412251540\n",
      "/mnt/c/Users/Koen/Documents/DDoSDB/netflowdata/CONS-UDPLAG-S-01_2014-12-20_20_23_34.pcap/nfcapd.201412202120\n",
      "/mnt/c/Users/Koen/Documents/DDoSDB/netflowdata/CONS-UDPLAG-S-01_2014-12-20_20_23_34.pcap/nfcapd.201412202125\n",
      "/mnt/c/Users/Koen/Documents/DDoSDB/netflowdata/CONS-UDPLAG-S-02_2014-12-25_14_55_13.pcap/nfcapd.201412251555\n",
      "/mnt/c/Users/Koen/Documents/DDoSDB/netflowdata/CONS-UDPLAG-S-02_2014-12-25_14_55_13.pcap/nfcapd.201412251600\n",
      "/mnt/c/Users/Koen/Documents/DDoSDB/netflowdata/DEST-CHARGEN-S-01_2014-12-26_17_48_03.pcap/nfcapd.201412261845\n",
      "/mnt/c/Users/Koen/Documents/DDoSDB/netflowdata/DEST-CHARGEN-S-01_2014-12-26_17_48_03.pcap/nfcapd.201412261850\n",
      "/mnt/c/Users/Koen/Documents/DDoSDB/netflowdata/DEST-CHARGEN-S-02_2014-12-29_10_10_30.pcap/nfcapd.201412291110\n",
      "/mnt/c/Users/Koen/Documents/DDoSDB/netflowdata/DEST-CHARGEN-S-02_2014-12-29_10_10_30.pcap/nfcapd.201412291115\n",
      "/mnt/c/Users/Koen/Documents/DDoSDB/netflowdata/DEST-DNS-S-01_2014-12-26_18_05_01.pcap/nfcapd.201412261905\n",
      "/mnt/c/Users/Koen/Documents/DDoSDB/netflowdata/DEST-DNS-S-02_2014-12-29_10_24_15.pcap/nfcapd.201412291120\n",
      "/mnt/c/Users/Koen/Documents/DDoSDB/netflowdata/DEST-DNS-S-02_2014-12-29_10_24_15.pcap/nfcapd.201412291125\n",
      "/mnt/c/Users/Koen/Documents/DDoSDB/netflowdata/DEST-ESSYN-S-01_2014-12-25_12_44_37.pcap/nfcapd.201412251340\n",
      "/mnt/c/Users/Koen/Documents/DDoSDB/netflowdata/DEST-ESSYN-S-01_2014-12-25_12_44_37.pcap/nfcapd.201412251345\n",
      "/mnt/c/Users/Koen/Documents/DDoSDB/netflowdata/DEST-ESSYN-S-02_2014-12-29_15_05_10.pcap/nfcapd.201412291605\n",
      "/mnt/c/Users/Koen/Documents/DDoSDB/netflowdata/DEST-ESSYN-S-02_2014-12-29_15_05_10.pcap/nfcapd.201412291610\n",
      "/mnt/c/Users/Koen/Documents/DDoSDB/netflowdata/DEST-GET-S-01_2015-01-02_19_43_15.pcap/nfcapd.201501022040\n",
      "/mnt/c/Users/Koen/Documents/DDoSDB/netflowdata/DEST-GET-S-01_2015-01-02_19_43_15.pcap/nfcapd.201501022045\n",
      "/mnt/c/Users/Koen/Documents/DDoSDB/netflowdata/DEST-GET-S-02_2015-04-08_19%3A38%3A52.pcap/nfcapd.201504082135\n",
      "/mnt/c/Users/Koen/Documents/DDoSDB/netflowdata/DEST-GET-S-02_2015-04-08_19%3A38%3A52.pcap/nfcapd.201504082140\n",
      "/mnt/c/Users/Koen/Documents/DDoSDB/netflowdata/DEST-NTP-S-01_2014-12-26_18_18_55.pcap/nfcapd.201412261915\n",
      "/mnt/c/Users/Koen/Documents/DDoSDB/netflowdata/DEST-NTP-S-01_2014-12-26_18_18_55.pcap/nfcapd.201412261920\n",
      "/mnt/c/Users/Koen/Documents/DDoSDB/netflowdata/DEST-NTP-S-02_2014-12-29_10_38_51.pcap/nfcapd.201412291135\n",
      "/mnt/c/Users/Koen/Documents/DDoSDB/netflowdata/DEST-NTP-S-02_2014-12-29_10_38_51.pcap/nfcapd.201412291140\n",
      "/mnt/c/Users/Koen/Documents/DDoSDB/netflowdata/DEST-NUDP-S-01_2014-12-26_18_52_34.pcap/nfcapd.201412261950\n",
      "/mnt/c/Users/Koen/Documents/DDoSDB/netflowdata/DEST-NUDP-S-01_2014-12-26_18_52_34.pcap/nfcapd.201412261955\n",
      "/mnt/c/Users/Koen/Documents/DDoSDB/netflowdata/DEST-NUDP-S-02_2014-12-29_10_51_25.pcap/nfcapd.201412291150\n",
      "/mnt/c/Users/Koen/Documents/DDoSDB/netflowdata/DEST-NUDP-S-02_2014-12-29_10_51_25.pcap/nfcapd.201412291155\n",
      "/mnt/c/Users/Koen/Documents/DDoSDB/netflowdata/DEST-SSDP-S-01_2014-12-29_09_06_23.pcap/nfcapd.201412291005\n",
      "/mnt/c/Users/Koen/Documents/DDoSDB/netflowdata/DEST-SSDP-S-01_2014-12-29_09_06_23.pcap/nfcapd.201412291010\n",
      "/mnt/c/Users/Koen/Documents/DDoSDB/netflowdata/DEST-SSDP-S-02_2014-12-29_11_04_10.pcap/nfcapd.201412291200\n",
      "/mnt/c/Users/Koen/Documents/DDoSDB/netflowdata/DEST-SSDP-S-02_2014-12-29_11_04_10.pcap/nfcapd.201412291205\n",
      "/mnt/c/Users/Koen/Documents/DDoSDB/netflowdata/DEST-SSYN-S-01_2014-12-25_12_57_55.pcap/nfcapd.201412251355\n"
     ]
    },
    {
     "name": "stdout",
     "output_type": "stream",
     "text": [
      "/mnt/c/Users/Koen/Documents/DDoSDB/netflowdata/DEST-SSYN-S-01_2014-12-25_12_57_55.pcap/nfcapd.201412251400\n",
      "/mnt/c/Users/Koen/Documents/DDoSDB/netflowdata/DEST-SSYN-S-02_2014-12-29_15_20_57.pcap/nfcapd.201412291620\n",
      "/mnt/c/Users/Koen/Documents/DDoSDB/netflowdata/DEST-SSYN-S-02_2014-12-29_15_20_57.pcap/nfcapd.201412291625\n",
      "/mnt/c/Users/Koen/Documents/DDoSDB/netflowdata/DEST-SUDP-S-01_2014-12-29_09_39_49.pcap/nfcapd.201412291035\n",
      "/mnt/c/Users/Koen/Documents/DDoSDB/netflowdata/DEST-SUDP-S-01_2014-12-29_09_39_49.pcap/nfcapd.201412291040\n",
      "/mnt/c/Users/Koen/Documents/DDoSDB/netflowdata/DEST-SUDP-S-02_2014-12-29_11_22_32.pcap/nfcapd.201412291220\n",
      "/mnt/c/Users/Koen/Documents/DDoSDB/netflowdata/DEST-SUDP-S-02_2014-12-29_11_22_32.pcap/nfcapd.201412291225\n",
      "/mnt/c/Users/Koen/Documents/DDoSDB/netflowdata/DEST-UDP-S-01_2014-12-29_09_53_22.pcap/nfcapd.201412291050\n",
      "/mnt/c/Users/Koen/Documents/DDoSDB/netflowdata/DEST-UDP-S-01_2014-12-29_09_53_22.pcap/nfcapd.201412291055\n",
      "/mnt/c/Users/Koen/Documents/DDoSDB/netflowdata/DEST-UDP-S-02_2014-12-29_11_36_55.pcap/nfcapd.201412291235\n",
      "/mnt/c/Users/Koen/Documents/DDoSDB/netflowdata/DEST-UDP-S-02_2014-12-29_11_36_55.pcap/nfcapd.201412291240\n",
      "/mnt/c/Users/Koen/Documents/DDoSDB/netflowdata/DEST-XSYN-S-01_2014-12-25_13_12_47.pcap/nfcapd.201412251410\n",
      "/mnt/c/Users/Koen/Documents/DDoSDB/netflowdata/DEST-XSYN-S-01_2014-12-25_13_12_47.pcap/nfcapd.201412251415\n",
      "/mnt/c/Users/Koen/Documents/DDoSDB/netflowdata/DEST-XSYN-S-02_2014-12-29_15_37_08.pcap/nfcapd.201412291635\n",
      "/mnt/c/Users/Koen/Documents/DDoSDB/netflowdata/DEST-XSYN-S-02_2014-12-29_15_37_08.pcap/nfcapd.201412291640\n",
      "/mnt/c/Users/Koen/Documents/DDoSDB/netflowdata/HORNY-CHARGEN-S-01_2015-04-07_17_44_59.pcap/nfcapd.201504071945\n",
      "/mnt/c/Users/Koen/Documents/DDoSDB/netflowdata/HORNY-NTP-S-02_2015-04-07_20_20_04.pcap/nfcapd.201504072220\n",
      "/mnt/c/Users/Koen/Documents/DDoSDB/netflowdata/HORNY-NTP-S-02_2015-04-07_20_20_04.pcap/nfcapd.201504072225\n",
      "/mnt/c/Users/Koen/Documents/DDoSDB/netflowdata/HORNY-SSDP-S-01_2015-04-07_17_09_52.pcap/nfcapd.201504071905\n",
      "/mnt/c/Users/Koen/Documents/DDoSDB/netflowdata/HORNY-SSDP-S-01_2015-04-07_17_09_52.pcap/nfcapd.201504071910\n",
      "/mnt/c/Users/Koen/Documents/DDoSDB/netflowdata/HORNY-SSDP-S-02_2015-04-07_20_08_38.pcap/nfcapd.201504072205\n",
      "/mnt/c/Users/Koen/Documents/DDoSDB/netflowdata/HORNY-SSDP-S-02_2015-04-07_20_08_38.pcap/nfcapd.201504072210\n",
      "/mnt/c/Users/Koen/Documents/DDoSDB/netflowdata/HORNY-SYNACK-S-01_2015-04-07_18_27_15.pcap/nfcapd.201504072025\n",
      "/mnt/c/Users/Koen/Documents/DDoSDB/netflowdata/HORNY-SYNACK-S-01_2015-04-07_18_27_15.pcap/nfcapd.201504072030\n",
      "/mnt/c/Users/Koen/Documents/DDoSDB/netflowdata/HORNY-TCPPTR-S-02_2015-04-07_21_00_12.pcap/nfcapd.201504072300\n",
      "/mnt/c/Users/Koen/Documents/DDoSDB/netflowdata/HORNY-TCPPTR-S-02_2015-04-07_21_00_12.pcap/nfcapd.201504072305\n",
      "/mnt/c/Users/Koen/Documents/DDoSDB/netflowdata/HORNY-TCPRES2-S-01_2015-04-07_17_50_35.pcap/nfcapd.201504071950\n",
      "/mnt/c/Users/Koen/Documents/DDoSDB/netflowdata/HORNY-TCPRES2-S-01_2015-04-07_17_50_35.pcap/nfcapd.201504071955\n",
      "/mnt/c/Users/Koen/Documents/DDoSDB/netflowdata/HORNY-TCPRES2-S-02_2015-04-07_20_48_45.pcap/nfcapd.201504072245\n",
      "/mnt/c/Users/Koen/Documents/DDoSDB/netflowdata/HORNY-TCPRES2-S-02_2015-04-07_20_48_45.pcap/nfcapd.201504072250\n",
      "/mnt/c/Users/Koen/Documents/DDoSDB/netflowdata/HORNY-TCPRND-S-01_2015-04-07_17_15_24.pcap/nfcapd.201504071915\n",
      "/mnt/c/Users/Koen/Documents/DDoSDB/netflowdata/HORNY-TCPRND-S-01_2015-04-07_17_15_24.pcap/nfcapd.201504071920\n",
      "/mnt/c/Users/Koen/Documents/DDoSDB/netflowdata/HORNY-TCPRND-S-02_2015-04-07_20_14_13.pcap/nfcapd.201504072210\n",
      "/mnt/c/Users/Koen/Documents/DDoSDB/netflowdata/HORNY-TCPRND-S-02_2015-04-07_20_14_13.pcap/nfcapd.201504072215\n",
      "/mnt/c/Users/Koen/Documents/DDoSDB/netflowdata/HORNY-TCPRST-S-01_2015-04-07_18_32_45.pcap/nfcapd.201504072030\n",
      "/mnt/c/Users/Koen/Documents/DDoSDB/netflowdata/HORNY-TCPRST-S-01_2015-04-07_18_32_45.pcap/nfcapd.201504072035\n",
      "/mnt/c/Users/Koen/Documents/DDoSDB/netflowdata/HORNY-TCPRST-S-02_2015-04-07_21_23_35.pcap/nfcapd.201504072320\n",
      "/mnt/c/Users/Koen/Documents/DDoSDB/netflowdata/HORNY-TCPRST-S-02_2015-04-07_21_23_35.pcap/nfcapd.201504072325\n",
      "/mnt/c/Users/Koen/Documents/DDoSDB/netflowdata/HORNY-TCPSEQ-S-01_2015-04-07_17_39_13.pcap/nfcapd.201504071935\n",
      "/mnt/c/Users/Koen/Documents/DDoSDB/netflowdata/HORNY-TCPSEQ-S-01_2015-04-07_17_39_13.pcap/nfcapd.201504071940\n",
      "/mnt/c/Users/Koen/Documents/DDoSDB/netflowdata/HORNY-TCPSEQ-S-02_2015-04-07_20_37_07.pcap/nfcapd.201504072235\n",
      "/mnt/c/Users/Koen/Documents/DDoSDB/netflowdata/HORNY-TCPSEQ-S-02_2015-04-07_20_37_07.pcap/nfcapd.201504072240\n",
      "/mnt/c/Users/Koen/Documents/DDoSDB/netflowdata/HORNY-TCPURG-S-01_2015-04-07_18_21_48.pcap/nfcapd.201504072020\n",
      "/mnt/c/Users/Koen/Documents/DDoSDB/netflowdata/HORNY-TCPURG-S-01_2015-04-07_18_21_48.pcap/nfcapd.201504072025\n",
      "/mnt/c/Users/Koen/Documents/DDoSDB/netflowdata/HORNY-TCPURG-S-02_2015-04-07_21_12_07.pcap/nfcapd.201504072310\n",
      "/mnt/c/Users/Koen/Documents/DDoSDB/netflowdata/HORNY-TCPURG-S-02_2015-04-07_21_12_07.pcap/nfcapd.201504072315\n",
      "/mnt/c/Users/Koen/Documents/DDoSDB/netflowdata/IPSTR-ARME-S-01_2014-12-29_12_06_46.pcap/nfcapd.201412291305\n",
      "/mnt/c/Users/Koen/Documents/DDoSDB/netflowdata/IPSTR-ARME-S-01_2014-12-29_12_06_46.pcap/nfcapd.201412291310\n",
      "/mnt/c/Users/Koen/Documents/DDoSDB/netflowdata/IPSTR-ARME-S-02_2014-12-29_12_32_33.pcap/nfcapd.201412291330\n",
      "/mnt/c/Users/Koen/Documents/DDoSDB/netflowdata/IPSTR-ARME-S-02_2014-12-29_12_32_33.pcap/nfcapd.201412291335\n",
      "/mnt/c/Users/Koen/Documents/DDoSDB/netflowdata/QUANT_SSDP_10.pcap/nfcapd.201504151040\n",
      "/mnt/c/Users/Koen/Documents/DDoSDB/netflowdata/sent1-loic-10s.pcap/nfcapd.201509291610\n",
      "/mnt/c/Users/Koen/Documents/DDoSDB/netflowdata/sent2-xoic-10s.pcap/nfcapd.201509291645\n",
      "/mnt/c/Users/Koen/Documents/DDoSDB/netflowdata/sent3-hoic-10s.pcap/nfcapd.201509291700\n",
      "/mnt/c/Users/Koen/Documents/DDoSDB/netflowdata/sent8-pyloris-6m.pcap/nfcapd.201510061345\n",
      "/mnt/c/Users/Koen/Documents/DDoSDB/netflowdata/sent8-pyloris-6m.pcap/nfcapd.201510061350\n",
      "/mnt/c/Users/Koen/Documents/DDoSDB/netflowdata/sent9-slowloris-5m.pcap/nfcapd.201509301715\n",
      "/mnt/c/Users/Koen/Documents/DDoSDB/netflowdata/sent9-slowloris-5m.pcap/nfcapd.201509301720\n",
      "[['/mnt/c/Users/Koen/Documents/DDoSDB/netflowdata/1-loic-10s-9threads.pcap/nfcapd.201510091335', 1164, '18', '82759', 0.13577699661254883, 0.1322789192199707], ['/mnt/c/Users/Koen/Documents/DDoSDB/netflowdata/1-loic-10s-defaults.pcap/nfcapd.201510091330', 1260, '20', '110701', 0.11692094802856445, 0.12308216094970703], ['/mnt/c/Users/Koen/Documents/DDoSDB/netflowdata/1-loic-10s-network-3-4.pcap/nfcapd.201510141140', 1284, '20', '557982', 0.12407302856445312, 0.125701904296875], ['/mnt/c/Users/Koen/Documents/DDoSDB/netflowdata/1-loic-10s-network-3-4.pcap/nfcapd.201510141145', 972, '14', '105408', 0.1162261962890625, 0.11142301559448242], ['/mnt/c/Users/Koen/Documents/DDoSDB/netflowdata/1-loic-10s-network-3-5.pcap/nfcapd.201510141145', 1908, '33', '842412', 0.12364792823791504, 0.13410615921020508], ['/mnt/c/Users/Koen/Documents/DDoSDB/netflowdata/1-loic-10s.pcap/nfcapd.201509291610', 1164, '18', '42830', 0.11813497543334961, 0.12212014198303223], ['/mnt/c/Users/Koen/Documents/DDoSDB/netflowdata/1-loic-30s-tcp.pcap/nfcapd.201510091310', 1260, '20', '209314', 0.11760520935058594, 0.12121796607971191], ['/mnt/c/Users/Koen/Documents/DDoSDB/netflowdata/10-Torshammer-10s.pcap/nfcapd.201509301720', 24876, '512', '3723', 0.14292001724243164, 0.1553788185119629], ['/mnt/c/Users/Koen/Documents/DDoSDB/netflowdata/10-TorsHammer-120s-1.pcap/nfcapd.201510141525', 25428, '523', '9177', 0.14424395561218262, 0.14165401458740234], ['/mnt/c/Users/Koen/Documents/DDoSDB/netflowdata/10-TorsHammer-120s-1.pcap/nfcapd.201510141530', 26220, '539', '30471', 0.1464378833770752, 0.14269089698791504], ['/mnt/c/Users/Koen/Documents/DDoSDB/netflowdata/10-torshammer-5m.pcap/nfcapd.201510091315', 24876, '512', '74670', 0.14871978759765625, 0.16384100914001465], ['/mnt/c/Users/Koen/Documents/DDoSDB/netflowdata/10-torshammer-5m.pcap/nfcapd.201510091320', 24876, '512', '22674', 0.15191102027893066, 0.15779685974121094], ['/mnt/c/Users/Koen/Documents/DDoSDB/netflowdata/11-GoldenEYE-10s-1.pcap/nfcapd.201510141320', 44484, '918', '1386', 0.16226983070373535, 0.17224979400634766], ['/mnt/c/Users/Koen/Documents/DDoSDB/netflowdata/11-GoldenEYE-10s-2.pcap/nfcapd.201510141325', 44052, '911', '1367', 0.1643671989440918, 0.18018507957458496], ['/mnt/c/Users/Koen/Documents/DDoSDB/netflowdata/11-GoldenEYE-10s-3.pcap/nfcapd.201510141325', 44244, '915', '1380', 0.1642768383026123, 0.16847705841064453], ['/mnt/c/Users/Koen/Documents/DDoSDB/netflowdata/11-goldeneye-10s.pcap/nfcapd.201509291615', 10284, '208', '547', 0.1278400421142578, 0.13721013069152832], ['/mnt/c/Users/Koen/Documents/DDoSDB/netflowdata/11-goldeneye-1m.pcap/nfcapd.201509291615', 51516, '1067', '4378', 0.19286799430847168, 0.20391011238098145], ['/mnt/c/Users/Koen/Documents/DDoSDB/netflowdata/11-goldeneye-1m.pcap/nfcapd.201509291620', 7020, '140', '168', 0.17426800727844238, 0.18522286415100098], ['/mnt/c/Users/Koen/Documents/DDoSDB/netflowdata/12-UDPUnicorn-10s-1.pcap/nfcapd.201510141535', 1332, '21', '4398', 0.11763501167297363, 0.12394022941589355], ['/mnt/c/Users/Koen/Documents/DDoSDB/netflowdata/12-UDPUnicorn-10s-2.pcap/nfcapd.201510141535', 420, '2', '4616', 0.11567091941833496, 0.12519288063049316], ['/mnt/c/Users/Koen/Documents/DDoSDB/netflowdata/12-UDPUnicorn-10s-3.pcap/nfcapd.201510141535', 1332, '19', '4925', 0.11931109428405762, 0.12575602531433105], ['/mnt/c/Users/Koen/Documents/DDoSDB/netflowdata/12-UDP_Unicorn-10s-scriptkiddiescramblesettings.pcap/nfcapd.201509291635', 22092, '454', '24919', 0.1390688419342041, 0.1483469009399414], ['/mnt/c/Users/Koen/Documents/DDoSDB/netflowdata/12-UDP_Unicorn-10s.pcap/nfcapd.201509291630', 112860, '2345', '7799', 0.22514581680297852, 0.21418190002441406], ['/mnt/c/Users/Koen/Documents/DDoSDB/netflowdata/15-DDoSTracer-10s-1.pcap/nfcapd.201510141550', 1380, '22', '25', 0.11939191818237305, 0.12451291084289551], ['/mnt/c/Users/Koen/Documents/DDoSDB/netflowdata/15-DDoSTracer-10s-2.pcap/nfcapd.201510141555', 4692, '79', '109', 0.12510919570922852, 0.13299298286437988], ['/mnt/c/Users/Koen/Documents/DDoSDB/netflowdata/15-DDos_Tracer-10s-2.pcap/nfcapd.197001010100', 276, 'No matched flows', nan, 0.11491703987121582, 0.12324690818786621], ['/mnt/c/Users/Koen/Documents/DDoSDB/netflowdata/15-DDos_Tracer-10s.pcap/nfcapd.197001010100', 276, 'No matched flows', nan, 0.11691093444824219, 0.12311506271362305], ['/mnt/c/Users/Koen/Documents/DDoSDB/netflowdata/16-ByteDoS-10s-1.pcap/nfcapd.201510141600', 49908, '1033', '3572', 0.17210698127746582, 0.18573498725891113], ['/mnt/c/Users/Koen/Documents/DDoSDB/netflowdata/16-ByteDoS-10s-2.pcap/nfcapd.201510141600', 52836, '1094', '3780', 0.16729307174682617, 0.17667293548583984], ['/mnt/c/Users/Koen/Documents/DDoSDB/netflowdata/16-ByteDoS-10s-3.pcap/nfcapd.201510141600', 49908, '1033', '3571', 0.1635899543762207, 0.17391586303710938], ['/mnt/c/Users/Koen/Documents/DDoSDB/netflowdata/16-ByteDOS-10s.pcap/nfcapd.201509301410', 59532, '1234', '4281', 0.1726529598236084, 0.18305301666259766], ['/mnt/c/Users/Koen/Documents/DDoSDB/netflowdata/17-TeVDoS-10s-1.pcap/nfcapd.201510141605', 372, '1', '3', 0.11948299407958984, 0.1242210865020752], ['/mnt/c/Users/Koen/Documents/DDoSDB/netflowdata/17-TeV_DoS-10s.pcap/nfcapd.197001010100', 276, 'No matched flows', nan, 0.11812901496887207, 0.12209916114807129], ['/mnt/c/Users/Koen/Documents/DDoSDB/netflowdata/18-BFFDoSPing-10s-1.pcap/nfcapd.201510141605', 1716, '29', '31', 0.12151598930358887, 0.13326120376586914], ['/mnt/c/Users/Koen/Documents/DDoSDB/netflowdata/18-BFFDoSPing-10s-2.pcap/nfcapd.201510141605', 1236, '19', '21', 0.12169599533081055, 0.12825393676757812], ['/mnt/c/Users/Koen/Documents/DDoSDB/netflowdata/18-BFFDoSPing-10s-3.pcap/nfcapd.201510141605', 1428, '23', '25', 0.11923003196716309, 0.13171911239624023], ['/mnt/c/Users/Koen/Documents/DDoSDB/netflowdata/18-BFF_DoS_Ping-10s-maxbytesize.pcap/nfcapd.201509301615', 1260, '20', '20', 0.13611197471618652, 0.13914895057678223], ['/mnt/c/Users/Koen/Documents/DDoSDB/netflowdata/18-BFF_DoS_Ping-10s.pcap/nfcapd.201509301615', 1164, '18', '18', 0.12747693061828613, 0.12729692459106445], ['/mnt/c/Users/Koen/Documents/DDoSDB/netflowdata/19-CPUDeathPing-10s-1.pcap/nfcapd.201510141610', 55908, '1158', '1160', 0.2707710266113281, 0.2837350368499756], ['/mnt/c/Users/Koen/Documents/DDoSDB/netflowdata/19-CPUDeathPing-10s-2.pcap/nfcapd.201510141610', 55284, '1145', '1147', 0.2363300323486328, 0.24462294578552246], ['/mnt/c/Users/Koen/Documents/DDoSDB/netflowdata/19-CPUDeathPing-10s-3.pcap/nfcapd.201510141605', 588, '6', '6', 0.14277386665344238, 0.14192986488342285], ['/mnt/c/Users/Koen/Documents/DDoSDB/netflowdata/19-CPUDeathPing-10s-3.pcap/nfcapd.201510141610', 51492, '1066', '1067', 0.18734312057495117, 0.2166910171508789], ['/mnt/c/Users/Koen/Documents/DDoSDB/netflowdata/19-CPU_Death_Ping-10s-2.pcap/nfcapd.201509301625', 46668, '966', '966', 0.21970391273498535, 0.20775508880615234], ['/mnt/c/Users/Koen/Documents/DDoSDB/netflowdata/19-CPU_Death_Ping-10s.pcap/nfcapd.201509301625', 8940, '180', '180', 0.14019107818603516, 0.16051697731018066], ['/mnt/c/Users/Koen/Documents/DDoSDB/netflowdata/2-XOIC-10s-1.pcap/nfcapd.201510141240', 1520568, '31670', '107468', 1.7073230743408203, 1.516265869140625], ['/mnt/c/Users/Koen/Documents/DDoSDB/netflowdata/2-XOIC-10s-2.pcap/nfcapd.201510141245', 1519584, '31651', '106528', 1.5648610591888428, 1.5894432067871094], ['/mnt/c/Users/Koen/Documents/DDoSDB/netflowdata/2-XOIC-10s-3.pcap/nfcapd.201510141250', 1553424, '32356', '109477', 1.5276079177856445, 1.6168220043182373], ['/mnt/c/Users/Koen/Documents/DDoSDB/netflowdata/2-xoic-10s.pcap/nfcapd.201509291645', 1076808, '22427', '75760', 1.127223014831543, 1.0440330505371094], ['/mnt/c/Users/Koen/Documents/DDoSDB/netflowdata/23-Swiftblade-10s-1.pcap/nfcapd.201510141615', 22068, '453', '1115', 0.1498417854309082, 0.14981603622436523], ['/mnt/c/Users/Koen/Documents/DDoSDB/netflowdata/23-Swiftblade-120s-2.pcap/nfcapd.201510141615', 44220, '911', '3055', 0.16150283813476562, 0.17567801475524902], ['/mnt/c/Users/Koen/Documents/DDoSDB/netflowdata/23-Switchblade-10s.pcap/nfcapd.201509301700', 31788, '656', '1685', 0.1871778964996338, 0.186845064163208], ['/mnt/c/Users/Koen/Documents/DDoSDB/netflowdata/24-AnonymousDoS-10s-1.pcap/nfcapd.201510141625', 1092, '16', '310', 0.13490700721740723, 0.1482698917388916], ['/mnt/c/Users/Koen/Documents/DDoSDB/netflowdata/24-AnonymousDoS-10s-2.pcap/nfcapd.201510141620', 564, '5', '275', 0.11404085159301758, 0.12973904609680176], ['/mnt/c/Users/Koen/Documents/DDoSDB/netflowdata/24-AnonymousDoS-10s-3.pcap/nfcapd.201510141625', 3180, '58', '6339', 0.1306610107421875, 0.1467139720916748], ['/mnt/c/Users/Koen/Documents/DDoSDB/netflowdata/24-Anonymous_DoS-10s-2-destination.pcap/nfcapd.201509301745', 396, '2', '190', 0.12215685844421387, 0.1387920379638672], ['/mnt/c/Users/Koen/Documents/DDoSDB/netflowdata/24-Anonymous_DoS-10s-2.pcap/nfcapd.201509301745', 492, '4', '379', 0.1257610321044922, 0.14771795272827148], ['/mnt/c/Users/Koen/Documents/DDoSDB/netflowdata/24-Anonymous_DoS-10s.pcap/nfcapd.197001010100', 276, 'No matched flows', nan, 0.1144711971282959, 0.12749505043029785], ['/mnt/c/Users/Koen/Documents/DDoSDB/netflowdata/25-Dereil-10s-1.pcap/nfcapd.201510141625', 2460, '39', '499526', 0.1278669834136963, 0.13739681243896484], ['/mnt/c/Users/Koen/Documents/DDoSDB/netflowdata/25-Dereil-10s-2.pcap/nfcapd.201510141630', 2508, '45', '459577', 0.12481498718261719, 0.1375269889831543], ['/mnt/c/Users/Koen/Documents/DDoSDB/netflowdata/25-Dereil-10s-3.pcap/nfcapd.201510141630', 2484, '45', '574469', 0.13619303703308105, 0.13263392448425293], ['/mnt/c/Users/Koen/Documents/DDoSDB/netflowdata/25-Dereil-10s-HTTP.pcap/nfcapd.201509301650', 90444, '1878', '7491', 0.20784711837768555, 0.21265602111816406], ['/mnt/c/Users/Koen/Documents/DDoSDB/netflowdata/25-Dereil-10s-UDP-2.pcap/nfcapd.201510091420', 8940, '180', '177049', 0.146406888961792, 0.139113187789917], ['/mnt/c/Users/Koen/Documents/DDoSDB/netflowdata/25-Dereil-10s-UDP.pcap/nfcapd.201509301645', 7404, '148', '168051', 0.13085079193115234, 0.13709092140197754], ['/mnt/c/Users/Koen/Documents/DDoSDB/netflowdata/25-Dereil-10s.pcap/nfcapd.197001010100', 276, 'No matched flows', nan, 0.12168598175048828, 0.11208295822143555], ['/mnt/c/Users/Koen/Documents/DDoSDB/netflowdata/3-HOIC-10s-1.pcap/nfcapd.201510141300', 4644, '90', '387', 0.12886905670166016, 0.13036513328552246], ['/mnt/c/Users/Koen/Documents/DDoSDB/netflowdata/3-HOIC-10s-2.pcap/nfcapd.201510141305', 8580, '172', '762', 0.13533902168273926, 0.13918399810791016], ['/mnt/c/Users/Koen/Documents/DDoSDB/netflowdata/3-HOIC-10s-3.pcap/nfcapd.201510141305', 14676, '299', '1322', 0.13476204872131348, 0.14638400077819824], ['/mnt/c/Users/Koen/Documents/DDoSDB/netflowdata/3-hoic-10s.pcap/nfcapd.201509291700', 5292, '104', '549', 0.12826895713806152, 0.13260197639465332], ['/mnt/c/Users/Koen/Documents/DDoSDB/netflowdata/4-HULK-10s-1.pcap/nfcapd.201510141310', 454932, '9471', '44899', 0.5327320098876953, 0.5096018314361572], ['/mnt/c/Users/Koen/Documents/DDoSDB/netflowdata/4-HULK-10s-2.pcap/nfcapd.201510141315', 416916, '8678', '41059', 0.4887559413909912, 0.5897431373596191], ['/mnt/c/Users/Koen/Documents/DDoSDB/netflowdata/4-HULK-10s-3.pcap/nfcapd.201510141315', 430356, '8959', '42469', 0.6149458885192871, 0.5651118755340576], ['/mnt/c/Users/Koen/Documents/DDoSDB/netflowdata/4-hulk-10s.pcap/nfcapd.201509291620', 502764, '10468', '67860', 0.5556371212005615, 0.5595269203186035], ['/mnt/c/Users/Koen/Documents/DDoSDB/netflowdata/4-hulk-1m.pcap/nfcapd.201509291625', 1572360, '32751', '429968', 1.4935569763183594, 1.4739229679107666], ['/mnt/c/Users/Koen/Documents/DDoSDB/netflowdata/8-pyloris-10s.pcap/nfcapd.201509291725', 1452, '24', '106', 0.1292870044708252, 0.1419360637664795], ['/mnt/c/Users/Koen/Documents/DDoSDB/netflowdata/8-Pyloris-30s-1.pcap/nfcapd.201510141335', 4308, '83', '484', 0.1420121192932129, 0.13996601104736328], ['/mnt/c/Users/Koen/Documents/DDoSDB/netflowdata/8-pyloris-6m.pcap/nfcapd.201510061345', 28716, '592', '27160', 0.1703319549560547, 0.18489289283752441], ['/mnt/c/Users/Koen/Documents/DDoSDB/netflowdata/8-pyloris-6m.pcap/nfcapd.201510061350', 33516, '692', '9819', 0.17464399337768555, 0.18061614036560059], ['/mnt/c/Users/Koen/Documents/DDoSDB/netflowdata/9-Slowloris-10s.pcap/nfcapd.201509301710', 13740, '280', '802', 0.13771295547485352, 0.15728306770324707], ['/mnt/c/Users/Koen/Documents/DDoSDB/netflowdata/9-Slowloris-120s-1.pcap/nfcapd.201510141340', 52284, '1081', '3758', 0.22823810577392578, 0.21607685089111328], ['/mnt/c/Users/Koen/Documents/DDoSDB/netflowdata/9-Slowloris-5m.pcap/nfcapd.201509301715', 158412, '3294', '11541', 0.27596116065979004, 0.2637670040130615], ['/mnt/c/Users/Koen/Documents/DDoSDB/netflowdata/9-Slowloris-5m.pcap/nfcapd.201509301720', 9324, '188', '464', 0.13793110847473145, 0.14930105209350586], ['/mnt/c/Users/Koen/Documents/DDoSDB/netflowdata/ANON-GHPGET-S-01_2014-12-29_08_56_27.pcap/nfcapd.201412290955', 80268, '1666', '1666', 0.18906402587890625, 0.20221185684204102], ['/mnt/c/Users/Koen/Documents/DDoSDB/netflowdata/ANON-GHPGET-S-01_2014-12-29_08_56_27.pcap/nfcapd.201412291000', 33228, '686', '686', 0.1624767780303955, 0.1735858917236328], ['/mnt/c/Users/Koen/Documents/DDoSDB/netflowdata/ANON-GHPGET-S-02_2014-12-29_10_45_10.pcap/nfcapd.201412291145', 111900, '2325', '34389', 0.22126197814941406, 0.22970890998840332], ['/mnt/c/Users/Koen/Documents/DDoSDB/netflowdata/ANON-GHPGET-S-02_2014-12-29_10_45_10.pcap/nfcapd.201412291150', 4140, '80', '80', 0.1252610683441162, 0.13825607299804688], ['/mnt/c/Users/Koen/Documents/DDoSDB/netflowdata/ANON-GHPHEAD-S-01_2014-12-29_09_20_00.pcap/nfcapd.201412291020', 113580, '2360', '2412', 0.2230548858642578, 0.2138810157775879], ['/mnt/c/Users/Koen/Documents/DDoSDB/netflowdata/ANON-GHPHEAD-S-02_2014-12-29_10_57_26.pcap/nfcapd.201412291155', 58092, '1204', '1204', 0.18160605430603027, 0.17896699905395508], ['/mnt/c/Users/Koen/Documents/DDoSDB/netflowdata/ANON-GHPHEAD-S-02_2014-12-29_10_57_26.pcap/nfcapd.201412291200', 55308, '1146', '1146', 0.17802000045776367, 0.21334195137023926], ['/mnt/c/Users/Koen/Documents/DDoSDB/netflowdata/ANON-GHPPOST-S-01_2014-12-29_10_01_26.pcap/nfcapd.201412291100', 81324, '1688', '1688', 0.23964810371398926, 0.20288896560668945], ['/mnt/c/Users/Koen/Documents/DDoSDB/netflowdata/ANON-GHPPOST-S-01_2014-12-29_10_01_26.pcap/nfcapd.201412291105', 32364, '668', '668', 0.15461182594299316, 0.16027593612670898], ['/mnt/c/Users/Koen/Documents/DDoSDB/netflowdata/ANON-GHPPOST-S-02_2014-12-29_11_28_49.pcap/nfcapd.201412291225', 26604, '548', '548', 0.14687800407409668, 0.15379786491394043], ['/mnt/c/Users/Koen/Documents/DDoSDB/netflowdata/ANON-GHPPOST-S-02_2014-12-29_11_28_49.pcap/nfcapd.201412291230', 87036, '1807', '1807', 0.19240093231201172, 0.205826997756958], ['/mnt/c/Users/Koen/Documents/DDoSDB/netflowdata/ANON-NTP-S-01_2014-12-22_15_23_41.pcap/nfcapd.201412221620', 29580, '610', '614', 0.17267298698425293, 0.17530107498168945], ['/mnt/c/Users/Koen/Documents/DDoSDB/netflowdata/ANON-NTP-S-01_2014-12-22_15_23_41.pcap/nfcapd.201412221625', 83964, '1743', '1747', 0.19466614723205566, 0.19878792762756348], ['/mnt/c/Users/Koen/Documents/DDoSDB/netflowdata/ANON-NTP-S-02_2014-12-23_23_01_20.pcap/nfcapd.201412240000', 2875140, '59892', '4397975', 2.5325918197631836, 2.655172824859619], ['/mnt/c/Users/Koen/Documents/DDoSDB/netflowdata/ANON-NTP-S-02_2014-12-23_23_01_20.pcap/nfcapd.201412240005', 34428, '711', '7027', 0.16513800621032715, 0.17795014381408691], ['/mnt/c/Users/Koen/Documents/DDoSDB/netflowdata/ANON-SLOW-S-01_2014-12-29_09_27_17.pcap/nfcapd.201412291025', 61452, '1274', '1274', 0.2528049945831299, 0.22785401344299316], ['/mnt/c/Users/Koen/Documents/DDoSDB/netflowdata/ANON-SLOW-S-01_2014-12-29_09_27_17.pcap/nfcapd.201412291030', 52236, '1082', '1096', 0.17868900299072266, 0.21180415153503418], ['/mnt/c/Users/Koen/Documents/DDoSDB/netflowdata/ANON-SLOW-S-02_2014-12-29_11_11_43.pcap/nfcapd.201412291210', 74028, '1536', '1536', 0.2335679531097412, 0.22920799255371094], ['/mnt/c/Users/Koen/Documents/DDoSDB/netflowdata/ANON-SLOW-S-02_2014-12-29_11_11_43.pcap/nfcapd.201412291215', 39468, '816', '817', 0.18404293060302734, 0.20491790771484375], ['/mnt/c/Users/Koen/Documents/DDoSDB/netflowdata/ANON-SRCGET-S-01_2014-12-29_09_46_11.pcap/nfcapd.201412291045', 86412, '1794', '1794', 0.20418787002563477, 0.22076416015625], ['/mnt/c/Users/Koen/Documents/DDoSDB/netflowdata/ANON-SRCGET-S-01_2014-12-29_09_46_11.pcap/nfcapd.201412291050', 26796, '552', '552', 0.14795589447021484, 0.15983295440673828], ['/mnt/c/Users/Koen/Documents/DDoSDB/netflowdata/ANON-SRCGET-S-02_2015-04-06_09%3A53%3A00.pcap/nfcapd.201504061150', 90636, '1882', '1886', 0.22115492820739746, 0.21215391159057617], ['/mnt/c/Users/Koen/Documents/DDoSDB/netflowdata/ANON-SRCGET-S-02_2015-04-06_09%3A53%3A00.pcap/nfcapd.201504061155', 69516, '1442', '1442', 0.18492889404296875, 0.19513201713562012], ['/mnt/c/Users/Koen/Documents/DDoSDB/netflowdata/ANON-SRCHEAD-S-01_2014-12-29_10_17_19.pcap/nfcapd.201412291115', 60588, '1256', '1256', 0.17180609703063965, 0.18506312370300293], ['/mnt/c/Users/Koen/Documents/DDoSDB/netflowdata/ANON-SRCHEAD-S-01_2014-12-29_10_17_19.pcap/nfcapd.201412291120', 52620, '1090', '1090', 0.16455483436584473, 0.17865800857543945], ['/mnt/c/Users/Koen/Documents/DDoSDB/netflowdata/ANON-SRCHEAD-S-02_2015-04-06_19%3A42%3A59.pcap/nfcapd.201504062140', 90636, '1882', '1882', 0.22410202026367188, 0.20859384536743164], ['/mnt/c/Users/Koen/Documents/DDoSDB/netflowdata/ANON-SRCHEAD-S-02_2015-04-06_19%3A42%3A59.pcap/nfcapd.201504062145', 91788, '1906', '1906', 0.22369813919067383, 0.20916199684143066], ['/mnt/c/Users/Koen/Documents/DDoSDB/netflowdata/ANON-SRCPOST-S-01_2014-12-29_10_31_36.pcap/nfcapd.201412291130', 77196, '1602', '1602', 0.22646307945251465, 0.21762990951538086], ['/mnt/c/Users/Koen/Documents/DDoSDB/netflowdata/ANON-SRCPOST-S-01_2014-12-29_10_31_36.pcap/nfcapd.201412291135', 36588, '756', '760', 0.17258501052856445, 0.16786694526672363], ['/mnt/c/Users/Koen/Documents/DDoSDB/netflowdata/ANON-SRCPOST-S-02_2015-04-06_10%3A00%3A07.pcap/nfcapd.201504061200', 194892, '4054', '4058', 0.32152318954467773, 0.3202800750732422], ['/mnt/c/Users/Koen/Documents/DDoSDB/netflowdata/ANON-SRCPOST-S-02_2015-04-06_10%3A00%3A07.pcap/nfcapd.201504061205', 2604, '48', '48', 0.12828397750854492, 0.13758611679077148], ['/mnt/c/Users/Koen/Documents/DDoSDB/netflowdata/ANON-SSDP-S-01_2015-04-07_19_00_22.pcap/nfcapd.201504072100', 105324, '2188', '2207', 0.2207810878753662, 0.23403191566467285], ['/mnt/c/Users/Koen/Documents/DDoSDB/netflowdata/ANON-SSDP-S-01_2015-04-07_19_00_22.pcap/nfcapd.201504072105', 8460, '170', '170', 0.1349949836730957, 0.14480113983154297], ['/mnt/c/Users/Koen/Documents/DDoSDB/netflowdata/ANON-SSDP-S-02_2015-04-07_19_55_18.pcap/nfcapd.201504072155', 22849608, '476022', '1303378', 20.646599054336548, 20.07227087020874], ['/mnt/c/Users/Koen/Documents/DDoSDB/netflowdata/ANON-SSDP-S-02_2015-04-07_19_55_18.pcap/nfcapd.201504072200', 7788, '156', '202', 0.1918320655822754, 0.16639184951782227], ['/mnt/c/Users/Koen/Documents/DDoSDB/netflowdata/ANON-SSYN-S-01_2014-12-20_20_04_11.pcap/nfcapd.current.1946', 1048860, '21845', '21845', 1.0286281108856201, 1.036911964416504], ['/mnt/c/Users/Koen/Documents/DDoSDB/netflowdata/ANON-UDPLAG-S-01_2014-12-20_19_48_21.pcap/nfcapd.201412202045', 4287708, '89320', '89328', 3.732692003250122, 4.14903712272644], ['/mnt/c/Users/Koen/Documents/DDoSDB/netflowdata/ANON-UDPLAG-S-01_2014-12-20_19_48_21.pcap/nfcapd.201412202050', 103212, '2144', '2144', 0.2744920253753662, 0.2521810531616211], ['/mnt/c/Users/Koen/Documents/DDoSDB/netflowdata/ANON-UDPLAG-S-02_2014-12-21_20_18_30.pcap/nfcapd.201412212115', 33900, '700', '700', 0.19997692108154297, 0.20781993865966797], ['/mnt/c/Users/Koen/Documents/DDoSDB/netflowdata/ANON-UDPLAG-S-02_2014-12-21_20_18_30.pcap/nfcapd.201412212120', 79596, '1652', '1652', 0.22359418869018555, 0.32399606704711914], ['/mnt/c/Users/Koen/Documents/DDoSDB/netflowdata/ANON-XML-S-01_2014-12-29_09_12_44.pcap/nfcapd.201412291010', 255180, '5310', '26710', 0.3471529483795166, 0.3363490104675293], ['/mnt/c/Users/Koen/Documents/DDoSDB/netflowdata/ANON-XML-S-01_2014-12-29_09_12_44.pcap/nfcapd.201412291015', 63276, '1312', '1375', 0.1993110179901123, 0.20015406608581543], ['/mnt/c/Users/Koen/Documents/DDoSDB/netflowdata/ANON-XML-S-02_2015-04-06_20%3A01%3A24.pcap/nfcapd.201504062200', 281244, '5853', '26821', 0.3687469959259033, 0.37279486656188965], ['/mnt/c/Users/Koen/Documents/DDoSDB/netflowdata/ANON-XML-S-02_2015-04-06_20%3A01%3A24.pcap/nfcapd.201504062205', 33132, '684', '684', 0.167525053024292, 0.17875409126281738], ['/mnt/c/Users/Koen/Documents/DDoSDB/netflowdata/BOOTIO-CHARGEN-S-01_2015-03-26_15%3A12%3A29.pcap/nfcapd.201503261610', 734316, '15292', '1341171', 0.8701410293579102, 0.7421579360961914], ['/mnt/c/Users/Koen/Documents/DDoSDB/netflowdata/BOOTIO-CHARGEN-S-01_2015-03-26_15%3A12%3A29.pcap/nfcapd.201503261615', 56556, '1172', '1172', 0.19400906562805176, 0.19556903839111328], ['/mnt/c/Users/Koen/Documents/DDoSDB/netflowdata/BOOTIO-SSYN-S-01_2015-03-26_16%3A53%3A47.pcap/nfcapd.current.1883', 276, 'No matched flows', nan, 0.12097716331481934, 0.12386202812194824], ['/mnt/c/Users/Koen/Documents/DDoSDB/netflowdata/BYTEDOS3_TEST.pcap/nfcapd.201510271130', 247692, '5154', '17985', 0.33812403678894043, 0.3294820785522461], ['/mnt/c/Users/Koen/Documents/DDoSDB/netflowdata/CONS-UDP-S-01_2014-12-20_20_11_05.pcap/nfcapd.201412202110', 7070772, '147300', '147307', 6.0188820362091064, 6.172133922576904], ['/mnt/c/Users/Koen/Documents/DDoSDB/netflowdata/CONS-UDP-S-01_2014-12-20_20_11_05.pcap/nfcapd.201412202115', 26028, '536', '536', 0.18839097023010254, 0.1635890007019043], ['/mnt/c/Users/Koen/Documents/DDoSDB/netflowdata/CONS-UDP-S-02_2014-12-25_14_35_53.pcap/nfcapd.201412251535', 11821152, '246265', '247568', 10.125523090362549, 10.141824007034302], ['/mnt/c/Users/Koen/Documents/DDoSDB/netflowdata/CONS-UDP-S-02_2014-12-25_14_35_53.pcap/nfcapd.201412251540', 20700, '425', '442', 0.2048640251159668, 0.16897082328796387], ['/mnt/c/Users/Koen/Documents/DDoSDB/netflowdata/CONS-UDPLAG-S-01_2014-12-20_20_23_34.pcap/nfcapd.201412202120', 41244, '853', '854', 0.2005469799041748, 0.1917729377746582], ['/mnt/c/Users/Koen/Documents/DDoSDB/netflowdata/CONS-UDPLAG-S-01_2014-12-20_20_23_34.pcap/nfcapd.201412202125', 80988, '1681', '1685', 0.23221111297607422, 0.27938008308410645], ['/mnt/c/Users/Koen/Documents/DDoSDB/netflowdata/CONS-UDPLAG-S-02_2014-12-25_14_55_13.pcap/nfcapd.201412251555', 123180, '2560', '3036', 0.2506129741668701, 0.23799800872802734], ['/mnt/c/Users/Koen/Documents/DDoSDB/netflowdata/CONS-UDPLAG-S-02_2014-12-25_14_55_13.pcap/nfcapd.201412251600', 5388, '106', '106', 0.13189005851745605, 0.13941597938537598], ['/mnt/c/Users/Koen/Documents/DDoSDB/netflowdata/DEST-CHARGEN-S-01_2014-12-26_17_48_03.pcap/nfcapd.201412261845', 44268, '916', '916', 0.18792390823364258, 0.18180203437805176], ['/mnt/c/Users/Koen/Documents/DDoSDB/netflowdata/DEST-CHARGEN-S-01_2014-12-26_17_48_03.pcap/nfcapd.201412261850', 69036, '1432', '1432', 0.2124948501586914, 0.2151799201965332], ['/mnt/c/Users/Koen/Documents/DDoSDB/netflowdata/DEST-CHARGEN-S-02_2014-12-29_10_10_30.pcap/nfcapd.201412291110', 102252, '2124', '2128', 0.24500298500061035, 0.22872400283813477], ['/mnt/c/Users/Koen/Documents/DDoSDB/netflowdata/DEST-CHARGEN-S-02_2014-12-29_10_10_30.pcap/nfcapd.201412291115', 11052, '224', '224', 0.13580894470214844, 0.16681909561157227], ['/mnt/c/Users/Koen/Documents/DDoSDB/netflowdata/DEST-DNS-S-01_2014-12-26_18_05_01.pcap/nfcapd.201412261905', 113100, '2350', '2350', 0.31322288513183594, 0.24298501014709473], ['/mnt/c/Users/Koen/Documents/DDoSDB/netflowdata/DEST-DNS-S-02_2014-12-29_10_24_15.pcap/nfcapd.201412291120', 16908, '346', '346', 0.15142083168029785, 0.1499462127685547], ['/mnt/c/Users/Koen/Documents/DDoSDB/netflowdata/DEST-DNS-S-02_2014-12-29_10_24_15.pcap/nfcapd.201412291125', 96636, '2007', '2007', 0.2067279815673828, 0.21229791641235352], ['/mnt/c/Users/Koen/Documents/DDoSDB/netflowdata/DEST-ESSYN-S-01_2014-12-25_12_44_37.pcap/nfcapd.201412251340', 8844, '178', '182', 0.13587594032287598, 0.13857316970825195], ['/mnt/c/Users/Koen/Documents/DDoSDB/netflowdata/DEST-ESSYN-S-01_2014-12-25_12_44_37.pcap/nfcapd.201412251345', 104556, '2172', '2172', 0.22211194038391113, 0.21158289909362793], ['/mnt/c/Users/Koen/Documents/DDoSDB/netflowdata/DEST-ESSYN-S-02_2014-12-29_15_05_10.pcap/nfcapd.201412291605', 794268, '16541', '35831', 0.8364040851593018, 0.8069100379943848], ['/mnt/c/Users/Koen/Documents/DDoSDB/netflowdata/DEST-ESSYN-S-02_2014-12-29_15_05_10.pcap/nfcapd.201412291610', 4956, '97', '164', 0.13588500022888184, 0.13341403007507324], ['/mnt/c/Users/Koen/Documents/DDoSDB/netflowdata/DEST-GET-S-01_2015-01-02_19_43_15.pcap/nfcapd.201501022040', 80172, '1664', '1690', 0.20007610321044922, 0.19536709785461426], ['/mnt/c/Users/Koen/Documents/DDoSDB/netflowdata/DEST-GET-S-01_2015-01-02_19_43_15.pcap/nfcapd.201501022045', 148716, '3092', '3190', 0.2680509090423584, 0.24223780632019043], ['/mnt/c/Users/Koen/Documents/DDoSDB/netflowdata/DEST-GET-S-02_2015-04-08_19%3A38%3A52.pcap/nfcapd.201504082135', 27708, '571', '630', 0.1565258502960205, 0.16010618209838867], ['/mnt/c/Users/Koen/Documents/DDoSDB/netflowdata/DEST-GET-S-02_2015-04-08_19%3A38%3A52.pcap/nfcapd.201504082140', 90204, '1873', '2029', 0.21399497985839844, 0.2053239345550537], ['/mnt/c/Users/Koen/Documents/DDoSDB/netflowdata/DEST-NTP-S-01_2014-12-26_18_18_55.pcap/nfcapd.201412261915', 24636, '507', '511', 0.14574217796325684, 0.1468639373779297], ['/mnt/c/Users/Koen/Documents/DDoSDB/netflowdata/DEST-NTP-S-01_2014-12-26_18_18_55.pcap/nfcapd.201412261920', 88716, '1842', '1842', 0.19875597953796387, 0.20384502410888672], ['/mnt/c/Users/Koen/Documents/DDoSDB/netflowdata/DEST-NTP-S-02_2014-12-29_10_38_51.pcap/nfcapd.201412291135', 569292, '11854', '513268', 0.6303460597991943, 0.6019899845123291], ['/mnt/c/Users/Koen/Documents/DDoSDB/netflowdata/DEST-NTP-S-02_2014-12-29_10_38_51.pcap/nfcapd.201412291140', 96972, '2014', '34606', 0.20943999290466309, 0.19703078269958496], ['/mnt/c/Users/Koen/Documents/DDoSDB/netflowdata/DEST-NUDP-S-01_2014-12-26_18_52_34.pcap/nfcapd.201412261950', 54924, '1138', '1138', 0.18950486183166504, 0.17729520797729492], ['/mnt/c/Users/Koen/Documents/DDoSDB/netflowdata/DEST-NUDP-S-01_2014-12-26_18_52_34.pcap/nfcapd.201412261955', 58380, '1210', '1210', 0.1873149871826172, 0.18024492263793945], ['/mnt/c/Users/Koen/Documents/DDoSDB/netflowdata/DEST-NUDP-S-02_2014-12-29_10_51_25.pcap/nfcapd.201412291150', 81708, '1696', '1700', 0.19961881637573242, 0.19501280784606934], ['/mnt/c/Users/Koen/Documents/DDoSDB/netflowdata/DEST-NUDP-S-02_2014-12-29_10_51_25.pcap/nfcapd.201412291155', 31788, '656', '656', 0.1701509952545166, 0.1832289695739746], ['/mnt/c/Users/Koen/Documents/DDoSDB/netflowdata/DEST-SSDP-S-01_2014-12-29_09_06_23.pcap/nfcapd.201412291005', 81900, '1700', '1704', 0.19401907920837402, 0.19861721992492676], ['/mnt/c/Users/Koen/Documents/DDoSDB/netflowdata/DEST-SSDP-S-01_2014-12-29_09_06_23.pcap/nfcapd.201412291010', 30396, '627', '627', 0.1881120204925537, 0.18949604034423828], ['/mnt/c/Users/Koen/Documents/DDoSDB/netflowdata/DEST-SSDP-S-02_2014-12-29_11_04_10.pcap/nfcapd.201412291200', 18828, '386', '386', 0.14152312278747559, 0.14781594276428223], ['/mnt/c/Users/Koen/Documents/DDoSDB/netflowdata/DEST-SSDP-S-02_2014-12-29_11_04_10.pcap/nfcapd.201412291205', 94572, '1964', '1964', 0.21056103706359863, 0.2070751190185547], ['/mnt/c/Users/Koen/Documents/DDoSDB/netflowdata/DEST-SSYN-S-01_2014-12-25_12_57_55.pcap/nfcapd.201412251355', 47340, '980', '980', 0.16637492179870605, 0.1688709259033203], ['/mnt/c/Users/Koen/Documents/DDoSDB/netflowdata/DEST-SSYN-S-01_2014-12-25_12_57_55.pcap/nfcapd.201412251400', 66060, '1370', '1370', 0.18652606010437012, 0.18818306922912598], ['/mnt/c/Users/Koen/Documents/DDoSDB/netflowdata/DEST-SSYN-S-02_2014-12-29_15_20_57.pcap/nfcapd.201412291620', 132924, '2763', '7692', 0.25533199310302734, 0.2347569465637207], ['/mnt/c/Users/Koen/Documents/DDoSDB/netflowdata/DEST-SSYN-S-02_2014-12-29_15_20_57.pcap/nfcapd.201412291625', 30684, '633', '913', 0.150130033493042, 0.15829110145568848], ['/mnt/c/Users/Koen/Documents/DDoSDB/netflowdata/DEST-SUDP-S-01_2014-12-29_09_39_49.pcap/nfcapd.201412291035', 4140, '80', '80', 0.13204097747802734, 0.1373291015625], ['/mnt/c/Users/Koen/Documents/DDoSDB/netflowdata/DEST-SUDP-S-01_2014-12-29_09_39_49.pcap/nfcapd.201412291040', 109260, '2270', '2271', 0.2211909294128418, 0.20419597625732422], ['/mnt/c/Users/Koen/Documents/DDoSDB/netflowdata/DEST-SUDP-S-02_2014-12-29_11_22_32.pcap/nfcapd.201412291220', 55788, '1156', '1160', 0.1758730411529541, 0.18649506568908691], ['/mnt/c/Users/Koen/Documents/DDoSDB/netflowdata/DEST-SUDP-S-02_2014-12-29_11_22_32.pcap/nfcapd.201412291225', 57612, '1194', '1198', 0.17904996871948242, 0.18232417106628418], ['/mnt/c/Users/Koen/Documents/DDoSDB/netflowdata/DEST-UDP-S-01_2014-12-29_09_53_22.pcap/nfcapd.201412291050', 37164, '768', '768', 0.1651780605316162, 0.16958117485046387], ['/mnt/c/Users/Koen/Documents/DDoSDB/netflowdata/DEST-UDP-S-01_2014-12-29_09_53_22.pcap/nfcapd.201412291055', 76044, '1578', '1578', 0.2297968864440918, 0.21845197677612305], ['/mnt/c/Users/Koen/Documents/DDoSDB/netflowdata/DEST-UDP-S-02_2014-12-29_11_36_55.pcap/nfcapd.201412291235', 70092, '1454', '1466', 0.2199711799621582, 0.2262430191040039], ['/mnt/c/Users/Koen/Documents/DDoSDB/netflowdata/DEST-UDP-S-02_2014-12-29_11_36_55.pcap/nfcapd.201412291240', 43596, '902', '902', 0.21460700035095215, 0.1793808937072754], ['/mnt/c/Users/Koen/Documents/DDoSDB/netflowdata/DEST-XSYN-S-01_2014-12-25_13_12_47.pcap/nfcapd.201412251410', 50220, '1040', '1040', 0.1756901741027832, 0.18100404739379883], ['/mnt/c/Users/Koen/Documents/DDoSDB/netflowdata/DEST-XSYN-S-01_2014-12-25_13_12_47.pcap/nfcapd.201412251415', 63036, '1307', '1308', 0.22963714599609375, 0.20803594589233398], ['/mnt/c/Users/Koen/Documents/DDoSDB/netflowdata/DEST-XSYN-S-02_2014-12-29_15_37_08.pcap/nfcapd.201412291635', 79068, '1641', '2988', 0.1934199333190918, 0.18104314804077148], ['/mnt/c/Users/Koen/Documents/DDoSDB/netflowdata/DEST-XSYN-S-02_2014-12-29_15_37_08.pcap/nfcapd.201412291640', 55308, '1146', '1525', 0.19642090797424316, 0.1880638599395752], ['/mnt/c/Users/Koen/Documents/DDoSDB/netflowdata/HORNY-CHARGEN-S-01_2015-04-07_17_44_59.pcap/nfcapd.201504071945', 5832456, '121502', '1205612', 5.394442081451416, 5.372668981552124], ['/mnt/c/Users/Koen/Documents/DDoSDB/netflowdata/HORNY-NTP-S-02_2015-04-07_20_20_04.pcap/nfcapd.201504072220', 124812, '2594', '3886', 0.2858250141143799, 0.3332381248474121], ['/mnt/c/Users/Koen/Documents/DDoSDB/netflowdata/HORNY-NTP-S-02_2015-04-07_20_20_04.pcap/nfcapd.201504072225', 1836, '32', '32', 0.13902592658996582, 0.1314830780029297], ['/mnt/c/Users/Koen/Documents/DDoSDB/netflowdata/HORNY-SSDP-S-01_2015-04-07_17_09_52.pcap/nfcapd.201504071905', 1983576, '41318', '64653', 2.0001890659332275, 1.963494062423706], ['/mnt/c/Users/Koen/Documents/DDoSDB/netflowdata/HORNY-SSDP-S-01_2015-04-07_17_09_52.pcap/nfcapd.201504071910', 8560716, '178340', '415034', 7.442373991012573, 7.322804927825928], ['/mnt/c/Users/Koen/Documents/DDoSDB/netflowdata/HORNY-SSDP-S-02_2015-04-07_20_08_38.pcap/nfcapd.201504072205', 32405652, '675104', '1359106', 29.436448097229004, 28.829308032989502], ['/mnt/c/Users/Koen/Documents/DDoSDB/netflowdata/HORNY-SSDP-S-02_2015-04-07_20_08_38.pcap/nfcapd.201504072210', 141564, '2943', '6272', 0.34003591537475586, 0.26053500175476074], ['/mnt/c/Users/Koen/Documents/DDoSDB/netflowdata/HORNY-SYNACK-S-01_2015-04-07_18_27_15.pcap/nfcapd.201504072025', 57944256, '1207152', '1275436', 51.21557903289795, 59.16417407989502], ['/mnt/c/Users/Koen/Documents/DDoSDB/netflowdata/HORNY-SYNACK-S-01_2015-04-07_18_27_15.pcap/nfcapd.201504072030', 52188, '1081', '1087', 0.4059419631958008, 0.2711679935455322], ['/mnt/c/Users/Koen/Documents/DDoSDB/netflowdata/HORNY-TCPPTR-S-02_2015-04-07_21_00_12.pcap/nfcapd.201504072300', 110268, '2291', '2300', 0.34551405906677246, 0.34314894676208496], ['/mnt/c/Users/Koen/Documents/DDoSDB/netflowdata/HORNY-TCPPTR-S-02_2015-04-07_21_00_12.pcap/nfcapd.201504072305', 4524, '88', '88', 0.2281780242919922, 0.23741388320922852], ['/mnt/c/Users/Koen/Documents/DDoSDB/netflowdata/HORNY-TCPRES2-S-01_2015-04-07_17_50_35.pcap/nfcapd.201504071950', 100140, '2080', '2086', 0.31699109077453613, 0.33179688453674316], ['/mnt/c/Users/Koen/Documents/DDoSDB/netflowdata/HORNY-TCPRES2-S-01_2015-04-07_17_50_35.pcap/nfcapd.201504071955', 13452, '274', '274', 0.30592918395996094, 0.2716820240020752], ['/mnt/c/Users/Koen/Documents/DDoSDB/netflowdata/HORNY-TCPRES2-S-02_2015-04-07_20_48_45.pcap/nfcapd.201504072245', 28812, '594', '596', 0.2743351459503174, 0.6366229057312012], ['/mnt/c/Users/Koen/Documents/DDoSDB/netflowdata/HORNY-TCPRES2-S-02_2015-04-07_20_48_45.pcap/nfcapd.201504072250', 86028, '1786', '1795', 0.2750129699707031, 0.24449801445007324], ['/mnt/c/Users/Koen/Documents/DDoSDB/netflowdata/HORNY-TCPRND-S-01_2015-04-07_17_15_24.pcap/nfcapd.201504071915', 125772, '2614', '5073', 0.33138108253479004, 0.30956196784973145], ['/mnt/c/Users/Koen/Documents/DDoSDB/netflowdata/HORNY-TCPRND-S-01_2015-04-07_17_15_24.pcap/nfcapd.201504071920', 9132, '184', '184', 0.24551010131835938, 0.22953486442565918], ['/mnt/c/Users/Koen/Documents/DDoSDB/netflowdata/HORNY-TCPRND-S-02_2015-04-07_20_14_13.pcap/nfcapd.201504072210', 24876, '512', '1354', 0.22443890571594238, 0.203840970993042], ['/mnt/c/Users/Koen/Documents/DDoSDB/netflowdata/HORNY-TCPRND-S-02_2015-04-07_20_14_13.pcap/nfcapd.201504072215', 111804, '2323', '3483', 0.319227933883667, 0.29833221435546875], ['/mnt/c/Users/Koen/Documents/DDoSDB/netflowdata/HORNY-TCPRST-S-01_2015-04-07_18_32_45.pcap/nfcapd.201504072030', 29507436, '614725', '643776', 30.15551495552063, 29.73426389694214], ['/mnt/c/Users/Koen/Documents/DDoSDB/netflowdata/HORNY-TCPRST-S-01_2015-04-07_18_32_45.pcap/nfcapd.201504072035', 62460, '1295', '1295', 0.4205749034881592, 0.31406712532043457], ['/mnt/c/Users/Koen/Documents/DDoSDB/netflowdata/HORNY-TCPRST-S-02_2015-04-07_21_23_35.pcap/nfcapd.201504072320', 32508, '671', '672', 0.30009913444519043, 0.3063700199127197], ['/mnt/c/Users/Koen/Documents/DDoSDB/netflowdata/HORNY-TCPRST-S-02_2015-04-07_21_23_35.pcap/nfcapd.201504072325', 87228, '1811', '1819', 0.32166194915771484, 0.26341915130615234], ['/mnt/c/Users/Koen/Documents/DDoSDB/netflowdata/HORNY-TCPSEQ-S-01_2015-04-07_17_39_13.pcap/nfcapd.201504071935', 18636, '382', '11272', 0.2276151180267334, 0.218034029006958], ['/mnt/c/Users/Koen/Documents/DDoSDB/netflowdata/HORNY-TCPSEQ-S-01_2015-04-07_17_39_13.pcap/nfcapd.201504071940', 98748, '2051', '33134', 0.29596710205078125, 0.2819368839263916], ['/mnt/c/Users/Koen/Documents/DDoSDB/netflowdata/HORNY-TCPSEQ-S-02_2015-04-07_20_37_07.pcap/nfcapd.201504072235', 69852, '1449', '1458', 0.2862069606781006, 0.39832401275634766], ['/mnt/c/Users/Koen/Documents/DDoSDB/netflowdata/HORNY-TCPSEQ-S-02_2015-04-07_20_37_07.pcap/nfcapd.201504072240', 52572, '1089', '1097', 0.2439899444580078, 0.2314770221710205], ['/mnt/c/Users/Koen/Documents/DDoSDB/netflowdata/HORNY-TCPURG-S-01_2015-04-07_18_21_48.pcap/nfcapd.201504072020', 72732, '1509', '1522', 0.24920082092285156, 0.23466801643371582], ['/mnt/c/Users/Koen/Documents/DDoSDB/netflowdata/HORNY-TCPURG-S-01_2015-04-07_18_21_48.pcap/nfcapd.201504072025', 40812, '844', '844', 0.23055815696716309, 0.22031593322753906], ['/mnt/c/Users/Koen/Documents/DDoSDB/netflowdata/HORNY-TCPURG-S-02_2015-04-07_21_12_07.pcap/nfcapd.201504072310', 65724, '1363', '1369', 0.24204802513122559, 0.22120404243469238], ['/mnt/c/Users/Koen/Documents/DDoSDB/netflowdata/HORNY-TCPURG-S-02_2015-04-07_21_12_07.pcap/nfcapd.201504072315', 74748, '1551', '1964', 0.24820399284362793, 0.2164909839630127], ['/mnt/c/Users/Koen/Documents/DDoSDB/netflowdata/IPSTR-ARME-S-01_2014-12-29_12_06_46.pcap/nfcapd.201412291305', 201084, '4183', '2734328', 0.36811113357543945, 0.35002803802490234], ['/mnt/c/Users/Koen/Documents/DDoSDB/netflowdata/IPSTR-ARME-S-01_2014-12-29_12_06_46.pcap/nfcapd.201412291310', 40236, '832', '832', 0.2093207836151123, 0.2093219757080078], ['/mnt/c/Users/Koen/Documents/DDoSDB/netflowdata/IPSTR-ARME-S-02_2014-12-29_12_32_33.pcap/nfcapd.201412291330', 55836, '1157', '2728362', 0.23386502265930176, 0.2275090217590332], ['/mnt/c/Users/Koen/Documents/DDoSDB/netflowdata/IPSTR-ARME-S-02_2014-12-29_12_32_33.pcap/nfcapd.201412291335', 58092, '1204', '1208', 0.34392309188842773, 0.2546498775482178], ['/mnt/c/Users/Koen/Documents/DDoSDB/netflowdata/QUANT_SSDP_10.pcap/nfcapd.201504151040', 13410924, '279385', '1858042', 13.716966152191162, 13.064731121063232], ['/mnt/c/Users/Koen/Documents/DDoSDB/netflowdata/sent1-loic-10s.pcap/nfcapd.201509291610', 732, '9', '40365', 0.23264789581298828, 0.17520713806152344], ['/mnt/c/Users/Koen/Documents/DDoSDB/netflowdata/sent2-xoic-10s.pcap/nfcapd.201509291645', 538764, '11218', '42898', 0.6619441509246826, 0.6661789417266846], ['/mnt/c/Users/Koen/Documents/DDoSDB/netflowdata/sent3-hoic-10s.pcap/nfcapd.201509291700', 2796, '52', '299', 0.19595813751220703, 0.18085789680480957], ['/mnt/c/Users/Koen/Documents/DDoSDB/netflowdata/sent8-pyloris-6m.pcap/nfcapd.201510061345', 14508, '296', '13728', 0.22003602981567383, 0.2149050235748291], ['/mnt/c/Users/Koen/Documents/DDoSDB/netflowdata/sent8-pyloris-6m.pcap/nfcapd.201510061350', 16908, '346', '4935', 0.2239828109741211, 0.2197718620300293], ['/mnt/c/Users/Koen/Documents/DDoSDB/netflowdata/sent9-slowloris-5m.pcap/nfcapd.201509301715', 79356, '1647', '5947', 0.3681371212005615, 0.24228501319885254], ['/mnt/c/Users/Koen/Documents/DDoSDB/netflowdata/sent9-slowloris-5m.pcap/nfcapd.201509301720', 4812, '94', '232', 0.18058204650878906, 0.18256497383117676]]\n",
      "DONE\n"
     ]
    }
   ],
   "source": [
    "output = []\n",
    "directory = \"/mnt/c/Users/Koen/Documents/DDoSDB/netflowdata\"\n",
    "for subdir in os.listdir(directory):\n",
    "    for filename in os.listdir(os.path.join(directory, subdir)):\n",
    "        if filename.startswith(\"nfcapd\"):\n",
    "            fullfile = os.path.join(directory, subdir, filename)\n",
    "            print fullfile\n",
    "            output.append(get_statistics(fullfile))\n",
    "        \n",
    "print output\n",
    "print \"DONE\""
   ]
  },
  {
   "cell_type": "code",
   "execution_count": 11,
   "metadata": {},
   "outputs": [
    {
     "ename": "ValueError",
     "evalue": "Expecting object: line 1 column 37888 (char 37887)",
     "output_type": "error",
     "traceback": [
      "\u001b[0;31m---------------------------------------------------------------------------\u001b[0m",
      "\u001b[0;31mValueError\u001b[0m                                Traceback (most recent call last)",
      "\u001b[0;32m<ipython-input-11-094976f98d29>\u001b[0m in \u001b[0;36m<module>\u001b[0;34m()\u001b[0m\n\u001b[1;32m      1\u001b[0m \u001b[0;32mwith\u001b[0m \u001b[0mopen\u001b[0m\u001b[0;34m(\u001b[0m\u001b[0;34m\"nfdump_execution_time_output.json\"\u001b[0m\u001b[0;34m)\u001b[0m \u001b[0;32mas\u001b[0m \u001b[0mdatafile\u001b[0m\u001b[0;34m:\u001b[0m\u001b[0;34m\u001b[0m\u001b[0m\n\u001b[0;32m----> 2\u001b[0;31m     \u001b[0mdata\u001b[0m \u001b[0;34m=\u001b[0m \u001b[0mjson\u001b[0m\u001b[0;34m.\u001b[0m\u001b[0mload\u001b[0m\u001b[0;34m(\u001b[0m\u001b[0mdatafile\u001b[0m\u001b[0;34m)\u001b[0m\u001b[0;34m\u001b[0m\u001b[0m\n\u001b[0m\u001b[1;32m      3\u001b[0m \u001b[0mdataframe\u001b[0m \u001b[0;34m=\u001b[0m \u001b[0mpd\u001b[0m\u001b[0;34m.\u001b[0m\u001b[0mDataFrame\u001b[0m\u001b[0;34m(\u001b[0m\u001b[0mdata\u001b[0m\u001b[0;34m)\u001b[0m\u001b[0;34m\u001b[0m\u001b[0m\n",
      "\u001b[0;32m/opt/local/Library/Frameworks/Python.framework/Versions/2.7/lib/python2.7/json/__init__.pyc\u001b[0m in \u001b[0;36mload\u001b[0;34m(fp, encoding, cls, object_hook, parse_float, parse_int, parse_constant, object_pairs_hook, **kw)\u001b[0m\n\u001b[1;32m    289\u001b[0m         \u001b[0mparse_float\u001b[0m\u001b[0;34m=\u001b[0m\u001b[0mparse_float\u001b[0m\u001b[0;34m,\u001b[0m \u001b[0mparse_int\u001b[0m\u001b[0;34m=\u001b[0m\u001b[0mparse_int\u001b[0m\u001b[0;34m,\u001b[0m\u001b[0;34m\u001b[0m\u001b[0m\n\u001b[1;32m    290\u001b[0m         \u001b[0mparse_constant\u001b[0m\u001b[0;34m=\u001b[0m\u001b[0mparse_constant\u001b[0m\u001b[0;34m,\u001b[0m \u001b[0mobject_pairs_hook\u001b[0m\u001b[0;34m=\u001b[0m\u001b[0mobject_pairs_hook\u001b[0m\u001b[0;34m,\u001b[0m\u001b[0;34m\u001b[0m\u001b[0m\n\u001b[0;32m--> 291\u001b[0;31m         **kw)\n\u001b[0m\u001b[1;32m    292\u001b[0m \u001b[0;34m\u001b[0m\u001b[0m\n\u001b[1;32m    293\u001b[0m \u001b[0;34m\u001b[0m\u001b[0m\n",
      "\u001b[0;32m/opt/local/Library/Frameworks/Python.framework/Versions/2.7/lib/python2.7/json/__init__.pyc\u001b[0m in \u001b[0;36mloads\u001b[0;34m(s, encoding, cls, object_hook, parse_float, parse_int, parse_constant, object_pairs_hook, **kw)\u001b[0m\n\u001b[1;32m    337\u001b[0m             \u001b[0mparse_int\u001b[0m \u001b[0;32mis\u001b[0m \u001b[0mNone\u001b[0m \u001b[0;32mand\u001b[0m \u001b[0mparse_float\u001b[0m \u001b[0;32mis\u001b[0m \u001b[0mNone\u001b[0m \u001b[0;32mand\u001b[0m\u001b[0;34m\u001b[0m\u001b[0m\n\u001b[1;32m    338\u001b[0m             parse_constant is None and object_pairs_hook is None and not kw):\n\u001b[0;32m--> 339\u001b[0;31m         \u001b[0;32mreturn\u001b[0m \u001b[0m_default_decoder\u001b[0m\u001b[0;34m.\u001b[0m\u001b[0mdecode\u001b[0m\u001b[0;34m(\u001b[0m\u001b[0ms\u001b[0m\u001b[0;34m)\u001b[0m\u001b[0;34m\u001b[0m\u001b[0m\n\u001b[0m\u001b[1;32m    340\u001b[0m     \u001b[0;32mif\u001b[0m \u001b[0mcls\u001b[0m \u001b[0;32mis\u001b[0m \u001b[0mNone\u001b[0m\u001b[0;34m:\u001b[0m\u001b[0;34m\u001b[0m\u001b[0m\n\u001b[1;32m    341\u001b[0m         \u001b[0mcls\u001b[0m \u001b[0;34m=\u001b[0m \u001b[0mJSONDecoder\u001b[0m\u001b[0;34m\u001b[0m\u001b[0m\n",
      "\u001b[0;32m/opt/local/Library/Frameworks/Python.framework/Versions/2.7/lib/python2.7/json/decoder.pyc\u001b[0m in \u001b[0;36mdecode\u001b[0;34m(self, s, _w)\u001b[0m\n\u001b[1;32m    362\u001b[0m \u001b[0;34m\u001b[0m\u001b[0m\n\u001b[1;32m    363\u001b[0m         \"\"\"\n\u001b[0;32m--> 364\u001b[0;31m         \u001b[0mobj\u001b[0m\u001b[0;34m,\u001b[0m \u001b[0mend\u001b[0m \u001b[0;34m=\u001b[0m \u001b[0mself\u001b[0m\u001b[0;34m.\u001b[0m\u001b[0mraw_decode\u001b[0m\u001b[0;34m(\u001b[0m\u001b[0ms\u001b[0m\u001b[0;34m,\u001b[0m \u001b[0midx\u001b[0m\u001b[0;34m=\u001b[0m\u001b[0m_w\u001b[0m\u001b[0;34m(\u001b[0m\u001b[0ms\u001b[0m\u001b[0;34m,\u001b[0m \u001b[0;36m0\u001b[0m\u001b[0;34m)\u001b[0m\u001b[0;34m.\u001b[0m\u001b[0mend\u001b[0m\u001b[0;34m(\u001b[0m\u001b[0;34m)\u001b[0m\u001b[0;34m)\u001b[0m\u001b[0;34m\u001b[0m\u001b[0m\n\u001b[0m\u001b[1;32m    365\u001b[0m         \u001b[0mend\u001b[0m \u001b[0;34m=\u001b[0m \u001b[0m_w\u001b[0m\u001b[0;34m(\u001b[0m\u001b[0ms\u001b[0m\u001b[0;34m,\u001b[0m \u001b[0mend\u001b[0m\u001b[0;34m)\u001b[0m\u001b[0;34m.\u001b[0m\u001b[0mend\u001b[0m\u001b[0;34m(\u001b[0m\u001b[0;34m)\u001b[0m\u001b[0;34m\u001b[0m\u001b[0m\n\u001b[1;32m    366\u001b[0m         \u001b[0;32mif\u001b[0m \u001b[0mend\u001b[0m \u001b[0;34m!=\u001b[0m \u001b[0mlen\u001b[0m\u001b[0;34m(\u001b[0m\u001b[0ms\u001b[0m\u001b[0;34m)\u001b[0m\u001b[0;34m:\u001b[0m\u001b[0;34m\u001b[0m\u001b[0m\n",
      "\u001b[0;32m/opt/local/Library/Frameworks/Python.framework/Versions/2.7/lib/python2.7/json/decoder.pyc\u001b[0m in \u001b[0;36mraw_decode\u001b[0;34m(self, s, idx)\u001b[0m\n\u001b[1;32m    378\u001b[0m         \"\"\"\n\u001b[1;32m    379\u001b[0m         \u001b[0;32mtry\u001b[0m\u001b[0;34m:\u001b[0m\u001b[0;34m\u001b[0m\u001b[0m\n\u001b[0;32m--> 380\u001b[0;31m             \u001b[0mobj\u001b[0m\u001b[0;34m,\u001b[0m \u001b[0mend\u001b[0m \u001b[0;34m=\u001b[0m \u001b[0mself\u001b[0m\u001b[0;34m.\u001b[0m\u001b[0mscan_once\u001b[0m\u001b[0;34m(\u001b[0m\u001b[0ms\u001b[0m\u001b[0;34m,\u001b[0m \u001b[0midx\u001b[0m\u001b[0;34m)\u001b[0m\u001b[0;34m\u001b[0m\u001b[0m\n\u001b[0m\u001b[1;32m    381\u001b[0m         \u001b[0;32mexcept\u001b[0m \u001b[0mStopIteration\u001b[0m\u001b[0;34m:\u001b[0m\u001b[0;34m\u001b[0m\u001b[0m\n\u001b[1;32m    382\u001b[0m             \u001b[0;32mraise\u001b[0m \u001b[0mValueError\u001b[0m\u001b[0;34m(\u001b[0m\u001b[0;34m\"No JSON object could be decoded\"\u001b[0m\u001b[0;34m)\u001b[0m\u001b[0;34m\u001b[0m\u001b[0m\n",
      "\u001b[0;31mValueError\u001b[0m: Expecting object: line 1 column 37888 (char 37887)"
     ]
    }
   ],
   "source": [
    "with open(\"nfdump_execution_time_output.json\") as datafile:\n",
    "    data = json.dumps(nfdump_execution_time_output)\n",
    "dataframe = pd.DataFrame(data)\n"
   ]
  },
  {
   "cell_type": "code",
   "execution_count": 2,
   "metadata": {},
   "outputs": [
    {
     "ename": "NameError",
     "evalue": "name 'output' is not defined",
     "output_type": "error",
     "traceback": [
      "\u001b[0;31m---------------------------------------------------------------------------\u001b[0m",
      "\u001b[0;31mNameError\u001b[0m                                 Traceback (most recent call last)",
      "\u001b[0;32m<ipython-input-2-3976c0166d51>\u001b[0m in \u001b[0;36m<module>\u001b[0;34m()\u001b[0m\n\u001b[1;32m      4\u001b[0m \u001b[0mf\u001b[0m \u001b[0;34m=\u001b[0m \u001b[0mopen\u001b[0m\u001b[0;34m(\u001b[0m\u001b[0;34m\"nfdump_execution_time_output.json\"\u001b[0m\u001b[0;34m,\u001b[0m \u001b[0;34m\"w\"\u001b[0m\u001b[0;34m)\u001b[0m\u001b[0;34m\u001b[0m\u001b[0m\n\u001b[1;32m      5\u001b[0m \u001b[0;34m\u001b[0m\u001b[0m\n\u001b[0;32m----> 6\u001b[0;31m \u001b[0mf\u001b[0m\u001b[0;34m.\u001b[0m\u001b[0mwrite\u001b[0m\u001b[0;34m(\u001b[0m\u001b[0mjson\u001b[0m\u001b[0;34m.\u001b[0m\u001b[0mdumps\u001b[0m\u001b[0;34m(\u001b[0m\u001b[0moutput\u001b[0m\u001b[0;34m)\u001b[0m\u001b[0;34m)\u001b[0m\u001b[0;34m\u001b[0m\u001b[0m\n\u001b[0m",
      "\u001b[0;31mNameError\u001b[0m: name 'output' is not defined"
     ]
    }
   ],
   "source": [
    "import json\n",
    "import os\n",
    "\n",
    "f = open(\"/mnt/c/Users/Koen/Documents/DDoSDB/outcome.json\", \"w\")\n",
    "\n",
    "f.write(json.dumps(output))"
   ]
  },
  {
   "cell_type": "code",
   "execution_count": 13,
   "metadata": {},
   "outputs": [],
   "source": [
    "import json\n",
    "output = json.load(open('nfdump_execution_time_output.json'))"
   ]
  },
  {
   "cell_type": "markdown",
   "metadata": {},
   "source": [
    "## File size (x) vs. Time (y) "
   ]
  },
  {
   "cell_type": "markdown",
   "metadata": {},
   "source": [
    "#### Number of nfdump"
   ]
  },
  {
   "cell_type": "code",
   "execution_count": 15,
   "metadata": {},
   "outputs": [
    {
     "data": {
      "text/plain": [
       "223"
      ]
     },
     "execution_count": 15,
     "metadata": {},
     "output_type": "execute_result"
    }
   ],
   "source": [
    "len(output)"
   ]
  },
  {
   "cell_type": "code",
   "execution_count": 22,
   "metadata": {
    "scrolled": true
   },
   "outputs": [
    {
     "data": {
      "image/png": "[encoded data removed]",
      "text/plain": [
       "<matplotlib.figure.Figure at 0x110d16690>"
      ]
     },
     "metadata": {},
     "output_type": "display_data"
    }
   ],
   "source": [
    "%matplotlib inline\n",
    "import matplotlib\n",
    "import numpy as np\n",
    "import matplotlib.pyplot as plt\n",
    "\n",
    "x_list = [x[1] for x in output]\n",
    "\n",
    "plt.plot(x_list, [y[4] for y in output], label=\"Extended\", marker='o')\n",
    "plt.plot(x_list, [y[5] for y in output], label=\"Long\")\n",
    "\n",
    "lgd=plt.legend()\n",
    "lgd.set_visible(True)"
   ]
  },
  {
   "cell_type": "markdown",
   "metadata": {},
   "source": [
    "## \\#Flows (x) vs. Time (y)"
   ]
  },
  {
   "cell_type": "code",
   "execution_count": 21,
   "metadata": {
    "scrolled": true
   },
   "outputs": [
    {
     "data": {
      "text/plain": [
       "[<matplotlib.lines.Line2D at 0x110d164d0>]"
      ]
     },
     "execution_count": 21,
     "metadata": {},
     "output_type": "execute_result"
    },
    {
     "data": {
      "image/png": "[encoded data removed]",
      "text/plain": [
       "<matplotlib.figure.Figure at 0x110d16390>"
      ]
     },
     "metadata": {},
     "output_type": "display_data"
    }
   ],
   "source": [
    "%matplotlib inline\n",
    "import matplotlib\n",
    "import numpy as np\n",
    "import matplotlib.pyplot as plt\n",
    "\n",
    "x_list = [int(x[2]) for x in output if x[2].isdigit()]\n",
    "\n",
    "plt.plot(x_list, [y[4] for y in output if y[2].isdigit()], label=\"Extended\")\n",
    "plt.plot(x_list, [y[5] for y in output if y[2].isdigit()], label=\"Long\")"
   ]
  },
  {
   "cell_type": "code",
   "execution_count": null,
   "metadata": {
    "collapsed": true
   },
   "outputs": [],
   "source": []
  }
 ],
 "metadata": {
  "kernelspec": {
   "display_name": "Python 2",
   "language": "python",
   "name": "python2"
  },
  "language_info": {
   "codemirror_mode": {
    "name": "ipython",
    "version": 2
   },
   "file_extension": ".py",
   "mimetype": "text/x-python",
   "name": "python",
   "nbconvert_exporter": "python",
   "pygments_lexer": "ipython2",
   "version": "2.7.14"
  }
 },
 "nbformat": 4,
 "nbformat_minor": 2
}
